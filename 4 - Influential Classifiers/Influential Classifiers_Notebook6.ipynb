{
 "cells": [
  {
   "cell_type": "markdown",
   "metadata": {},
   "source": [
    "# 4 - Influential Classification Models (and Tools)\n",
    "\n",
    "## Introduction\n",
    "\n",
    "This Notebook (6) will continue on from the previous sections. This notebook will go through the process of using __Transfer Learning and Applying it__. Previously, the notebook focused on implementing the Inception model and MobieNet from TensorFlow Hub, here, the intention is to utilise transfer learning with Keras. Utilising models from Keras Applications that are pre-trained on richer datasets on new tasks. The focus here would be to fetch the parameters of pre-trained weights of the models that was trained on the ImageNet dataset, test different types of transfer learning such as freezing and fine-tuning of the feature_extractor layers.\n",
    "\n",
    "## Supporting Utilities .py files:\n",
    "\n",
    "In this Notebook, there will be a requirement to import the code/utilities from the following files (.py files):\n",
    "- DataPrepCIFAR_utility.py\n",
    "- customCallbacks_Keras.py\n",
    "-\n",
    "\n",
    "## Dataset:\n",
    "\n",
    "For this part of the project, the CIFAR-100 dataset will be used, it is a collection of of 60,000 32x32 images that have 100 classes. CIFAR-100 was originally collected by Alex Krizhevsky, Vinod Nair, and Geoffrey Hinton. It iss also a subset of the 80 million tiny images dataset. There are 500 training images and 100 testing images per class. The 100 classes in the CIFAR-100 are grouped into 20 superclasses.\n",
    "\n",
    "Source: https://www.cs.toronto.edu/~kriz/cifar.html\n",
    "\n",
    "Further, the TensorFlow team offers a python package called \"tensorflow_datasets\" that provides the helper function to download tthis dataset as well as other more common ones. For the purposes of this project, the CIFAR-100 dataset will be download with this package.\n",
    "\n",
    "Source: https://www.tensorflow.org/datasets/catalog/cifar100\n",
    "\n",
    "## Requirements:\n",
    "- Tensorflow 2.0 (GPU is better)\n",
    "- Tensorflow-Hub\n",
    "- Keras (GPU is better)\n",
    "\n",
    "### Import the required libraries:"
   ]
  },
  {
   "cell_type": "code",
   "execution_count": 1,
   "metadata": {},
   "outputs": [],
   "source": [
    "%matplotlib inline\n",
    "\n",
    "import tensorflow as tf\n",
    "import tensorflow_hub as hub\n",
    "import numpy as np\n",
    "import matplotlib\n",
    "from matplotlib import pyplot as plt\n",
    "import math\n",
    "import timeit"
   ]
  },
  {
   "cell_type": "code",
   "execution_count": 2,
   "metadata": {},
   "outputs": [],
   "source": [
    "import os\n",
    "# from IPython.display import display, Image\n",
    "# import matplotlib.pyplot as plt\n",
    "\n",
    "# %matplotlib inline\n",
    "\n",
    "# Set up the working directory for the images:\n",
    "image_folderName = 'Description Images'\n",
    "image_path = os.path.abspath(image_folderName) + '/'"
   ]
  },
  {
   "cell_type": "code",
   "execution_count": 3,
   "metadata": {},
   "outputs": [],
   "source": [
    "# Set the random set seed number: for reproducibility.\n",
    "Seed_nb = 42\n",
    "\n",
    "# Paramneter to run code block or not: 0 = to run code, 1 = ignore.\n",
    "dont_run = 0"
   ]
  },
  {
   "cell_type": "markdown",
   "metadata": {},
   "source": [
    "### GPU Information:"
   ]
  },
  {
   "cell_type": "code",
   "execution_count": 4,
   "metadata": {},
   "outputs": [
    {
     "name": "stdout",
     "output_type": "stream",
     "text": [
      "Device mapping:\n",
      "/job:localhost/replica:0/task:0/device:GPU:0 -> device: 0, name: GeForce RTX 2070 SUPER, pci bus id: 0000:09:00.0, compute capability: 7.5\n",
      "\n"
     ]
    },
    {
     "data": {
      "text/plain": [
       "[_DeviceAttributes(/job:localhost/replica:0/task:0/device:CPU:0, CPU, 268435456, 8046729624521184429),\n",
       " _DeviceAttributes(/job:localhost/replica:0/task:0/device:GPU:0, GPU, 6586313605, 7930735724641623814)]"
      ]
     },
     "execution_count": 4,
     "metadata": {},
     "output_type": "execute_result"
    }
   ],
   "source": [
    "sess = tf.compat.v1.Session(config=tf.compat.v1.ConfigProto(log_device_placement=True))\n",
    "devices = sess.list_devices()\n",
    "devices"
   ]
  },
  {
   "cell_type": "markdown",
   "metadata": {},
   "source": [
    "## 1 - Transfer Learning:\n",
    "\n",
    "Humans are able to learn things and apply it to new problems. For example, one part of our lifetime learning experiences are delivered in classrooms where there are teachers that explains the concepts of different topics. This guidance allows us to learn and develop without having to go through the early stages of trial and error until we find the correct path/answer. This behaviour is central to human intelligence. Essentially, this is what transfer learning is and it can be very powerful in the development of machine learning and deep learning. By applying guidance from pre-trained models and applying to new problems or a similar problem, is a way to develop a more proficient system(s) without having to relearn everything from scratch.\n",
    "\n",
    "Typically, most machine learning systems are designed for a single task, where if these systems were to be applied on a different dataset, it would yield very poor results (like MNIST digits vs. ImageNet pictures and so on). As CNNs are trained to interpret some features of the dataset, it does make sense that the model should be able to partially be resued on a different but similar dataset like, classifying digits to classifying texts. The goal of transfer learning is to apply knowledge either from one task to another or to be adapted onto other domains.\n",
    "\n",
    "## 2 - Transfering the Knowledge:\n",
    "\n",
    "This section looks into how it is possible to transfer the knowledge gathered from one model to another? As with digital systems like Machine/Deep Learning, the data/weights can be easily stored and duplicated. \n",
    "\n",
    "Transfer learning for CNNs relies on conditioned instantiation, meaning it consists of reusing either the complete or partial architectures and weights of a past performant model and be instantiated as a new model for a new task. At this point, the model would be fine tuned for the new task/domain.\n",
    "\n",
    "The 1st convolutional layer - extract low level features such as lines, edges or colour gradients, whereas the final convolutional layer - extracts shapes and patterns. The Dense layers at the end of the model are used to process these high level feature maps to make predictions. \n",
    "\n",
    "#### Typical setup for Transfer Learning models:\n",
    "\n",
    "There are various strategies for the usage of pretrained CNNs. One of them is where the final prediction layers are removed, it would be used as an efficient __feature extractor__. If the model would be used for a simlar task where these feature extractors have trained for, it can be used to output pertinent features and then be processed by one or two dense layers which are trained to output predictions. \n",
    "\n",
    "The layers are often __FROZEN__ during the training phase to preserve the quality of the extracted feautres, meaning that the parameters will not be updated during the gradient descent phase. However, in other cases wher the tasks/domain differs, these layers will require __FINE TUNING__. This means that the feature extracting layers would be trained with the new prediction dense layers on the task. The next section will detail other use cases.\n",
    "\n",
    "## 3 - Use Cases of Transfer learning:\n",
    "\n",
    "Aside from the feature extractor case above, the following also details other use cases. Here, the questions asked are which pretrained model requires reusing or to be fine tuned or frozen?\n",
    "\n",
    "List of cases:  \n",
    "1) Limited training data for similar tasks. \\\n",
    "2) Abundant training data for similar tasks. \\\n",
    "3) Limited training data for dissimilar tasks. \\\n",
    "4) Abundant training data for dissimilar tasks.\n",
    "\n",
    "### 3.1 - Limited training data for similar task:\n",
    "\n",
    "When encountering a particular task that do not have enough training samples for the model to learn from, transfer learning is a solution where the model was previously trained on a larger but similar dataset. The pre-trained model can be used here by firstly removing the final layers and be replaced with new final layers. These layers can be trained on the new targeted task. \n",
    "\n",
    "For example, for the purpose of distinguishing bess and wasps, the ImageNet dataset has these two classes but does not contain enough data samples to produce an efficient CNN without overfitting. Therefore, the model can firstly be trained on the entire ImageNet dataset for the 1,000 classes, then its final dense layers are removed and replace with the output prediction layers specifically for 2 classes that are the bees and wasps. \n",
    "\n",
    "By fixing these parameters of the feature extractor layers (trained on the larger dataset), the network is able to retain its expressiveness that was previously developed on the richer dataset. \n",
    "\n",
    "### 3.2 - Abundant training data for similar tasks.:\n",
    "\n",
    "One of reasons why networks tend to overfitting on the dataset is because it has less data samples. The bigger the dataset, the less chance the network has to overfitting it. In the case of larger training data, it is more common to unfreeze the latest layers of feature extractor for the purpose of fine tuning. This allows the network to extract the relevant features for the new task, this essentially translate to better learning during training and better prediction performance. Further, as the model is already close to convergence, it is common practice to use smaller learning rate in the fine tuning phase.\n",
    "\n",
    "### 3.3 - Limited training data for dissimilar tasks:\n",
    "\n",
    "Typically, the use of transfer learning is more advantageous if the task at hand are similar, but does not benefit a model that is used for visual recognition but was trained for audio tasks. For tasks that differs but however presents with a large enough dataset, it may not make sense to use an existing pretrained model. However, it has been demonstrated through experiments that the use of pretrained models performs much better with its pretrained weights than with random initialisation. \n",
    "\n",
    "### 3.4 - Abundant training data for dissimilar tasks:\n",
    "\n",
    "This scenario would be the least ideal for a model to train on and can happen from time to time. In this case, careful considerations are required. For example, it would be crucial to reconsider the usage of deep models as training such a model can lead to overfitting, and that a deep pretrained model would consist of irrelevant features for the task. Interestingly, the solution here would be to utilise the first layers of the CNNs, as it tends to extract the low-level features from the data. This means that more layers other than the final dense layers would require removal, resulting in a shallow classifier. A shallow classifier can be adopted as the top half of the new dense layer for prediction, where this new model can be fine tuned for the specific task.\n",
    "\n",
    "## 4 - Transfer Learning with TensorFlwo and Keras Examples: Model Surgery.\n",
    "\n",
    "It is also common to utilise non-standard models/networks such as state-of-the-art CNNs or custom models by experts in their field/domain. This section will briefly go through the code implementations for the examples above, before a followed up section that applies transfer learning to an actual dataset. This section will also cover model surgery and selective training. \n",
    "\n",
    "Types of Model Surgery:\n",
    "1) Removing Layers. \\\n",
    "2) Grafting Layers.\n",
    "\n",
    "Types of Selective Training:\n",
    "1) Restoring pretrained parameters. \\\n",
    "2) Freezing layers.\n",
    "\n",
    "## Model Surgergy:\n",
    "\n",
    "### 4.1 - Removing Layers:\n",
    "\n",
    "Typically, when using pretrained models, one of the first tasks would be to remove the final prediction layers from the model and transforming it to feature extractors. \n",
    "\n",
    "In Keras, this can be done with the Sequential API where for \"Sequential\" models, the list of layers can be accessed with \"model.layers\" attribute. There is a \"pop()\" method that removes the last layer of the model. This can be done by knowing the number of layers to remove and specifying it in the parameter of the method.\n",
    "\n",
    "For example in Keras:"
   ]
  },
  {
   "cell_type": "code",
   "execution_count": 5,
   "metadata": {},
   "outputs": [],
   "source": [
    "# If statement to check if this code block should be executed.\n",
    "if dont_run == 1:\n",
    "    \n",
    "    # Code example below:\n",
    "    for i in range(nb_layers_to_remove):\n",
    "        model.layers.pop()"
   ]
  },
  {
   "cell_type": "markdown",
   "metadata": {},
   "source": [
    "The removal of layers in TenserFlow is not recommended as it can be highly complex to edit operational graph that supports the model. Note that unused graph operations are not executed during runtime, this means that having old layers incorporated in the compiled graph does not effect the pcompute performance of the new model. Therefore in TensorFlow, the layers are \"removed\" by pinpointing the last layer/operation of the pretrained model that is to be kept rather than outright removing them. \n",
    "\n",
    "If the corresponding Python object was lost as there are a lot of things to keep track, and that the name of the object is known, it can be found with TensorBoard. The represenative tensor can be recovered through a for-loop over the model layers and checking its name.\n",
    "\n",
    "For example in Tensorflow:"
   ]
  },
  {
   "cell_type": "code",
   "execution_count": 6,
   "metadata": {},
   "outputs": [],
   "source": [
    "# If statement to check if this code block should be executed.\n",
    "if dont_run == 1:\n",
    "    \n",
    "    # Code example below:\n",
    "    for layer in model.layers:\n",
    "        if layer.name == name_of_lastLayer_to_keep:\n",
    "            bottleneck_feaatures = layer.output\n",
    "            break"
   ]
  },
  {
   "cell_type": "markdown",
   "metadata": {},
   "source": [
    "As with all things Keras, it proveds the convience of simplicity to code design and thus this process, as compared to the one example above. Knowing the name of the last layer to be kept, after checking \"model.summary()\" for the layer name, a feature extractor can be instantiated in a couple of lines ans would be ready for use.\n",
    "\n",
    "For example in Keras:"
   ]
  },
  {
   "cell_type": "code",
   "execution_count": 7,
   "metadata": {},
   "outputs": [],
   "source": [
    "# If statement to check if this code block should be executed.\n",
    "if dont_run == 1:\n",
    "    \n",
    "    # Code example below:\n",
    "    bottleneck_features = model.get_layer(last_layer_name).output\n",
    "    feature_extractor = Model(inputs = model.input,\n",
    "                              outputs = bottleneck_features)"
   ]
  },
  {
   "cell_type": "markdown",
   "metadata": {},
   "source": [
    "### 4.2 - Grafting Layers:\n",
    "\n",
    "Grafting is where new prediction layers are added to the pretrained model (on top of the feature extractor). This process is straightforward and can be done easily.\n",
    "\n",
    "For example with Keras:"
   ]
  },
  {
   "cell_type": "code",
   "execution_count": 8,
   "metadata": {},
   "outputs": [],
   "source": [
    "# If statement to check if this code block should be executed.\n",
    "if dont_run == 1:\n",
    "    \n",
    "    # Code example below:\n",
    "    dense1 = Dense(...)(feature_extractor.ouput)\n",
    "    new_model = Model(model.input, dense1)"
   ]
  },
  {
   "cell_type": "markdown",
   "metadata": {},
   "source": [
    "## Selective Training:\n",
    "\n",
    "The training phase with transfer learning can present to be complex, as the pretrained layers must be restored firstly and to define which of these layers are to be frozen.\n",
    "\n",
    "### 4.3 - Restoring Pretrained Parameters:\n",
    "\n",
    "For example with TensorFlow, there are utility functions to initialise ssome of the layers with pretrained weights. The following will show the saved parameters of a pretrained estimator to be used with a new model with layers of the same name.\n",
    "\n",
    "The \"warmStartSettings\" is an initialiser that takes an optional argument \"vars_to_warm_start\" to provide the names of the specific variables (as a list or regex form) to be restored from the checkpoint files (ckpt)."
   ]
  },
  {
   "cell_type": "code",
   "execution_count": 9,
   "metadata": {},
   "outputs": [],
   "source": [
    "# If statement to check if this code block should be executed.\n",
    "if dont_run == 1:\n",
    "    \n",
    "    # Code example below:\n",
    "    def model_func():\n",
    "        # Define the new model, where it resuses pretrained weights/parameters as a feature extractor.\n",
    "        \n",
    "        # Remove \"None\" below when using this code.\n",
    "        return None\n",
    "    \n",
    "    ckpt_path = '/path/to/pretrained/estimator/model.ckpt'\n",
    "    ws = tf.estimator.WarmStartSettings(skpt_path)\n",
    "    \n",
    "    estimator = tf.estimator.Estimator(model_func, warm_start_from=ws)"
   ]
  },
  {
   "cell_type": "markdown",
   "metadata": {},
   "source": [
    "For example with Keras, the restoration of the pretrained mdoel is done before its transformation for the new task. Note that although this is not the most optimal way to restore the complete model prior to removing some of the unwanted layers, the code is however, concise."
   ]
  },
  {
   "cell_type": "code",
   "execution_count": 10,
   "metadata": {},
   "outputs": [],
   "source": [
    "# If statement to check if this code block should be executed.\n",
    "if dont_run == 1:\n",
    "    \n",
    "    # Code example below:\n",
    "    # Assumes pretrained model was saved with the method \"model.save()\":\n",
    "    model.tf.keras.models.load_model('path/to/pretrained/model.h5')\n",
    "    \n",
    "    # Next, is to \"pop\" or \"add\" layers for the creation of the new model."
   ]
  },
  {
   "cell_type": "markdown",
   "metadata": {},
   "source": [
    "### 4.4 - Freezing Layers:\n",
    "\n",
    "For the Tensorflow example, it presents with the most versatile way of freezing layers. This is done by removing the \"tf.Variable\" attributes from the list of variables to be passed into the optimiser."
   ]
  },
  {
   "cell_type": "code",
   "execution_count": 11,
   "metadata": {},
   "outputs": [],
   "source": [
    "# If statement to check if this code block should be executed.\n",
    "if dont_run == 1:\n",
    "    \n",
    "    # Code example below:\n",
    "    # For this case, there is a need to freeze the model's layers with \"conv\" in the name:\n",
    "    vars_to_train = model.trainable_varaibles\n",
    "    vars_to_train = [ v for v in vars_to_train if \"conv\" in v.name]\n",
    "    \n",
    "    # Apply the optimiser to the remaining model's variables:\n",
    "    optimizer.apply_gradietns( zip(gradient, vars_to_train) )"
   ]
  },
  {
   "cell_type": "markdown",
   "metadata": {},
   "source": [
    "For the Keras example, the layers have a \" .trainable \" attribute that allows to be set as \"False\" to freeze the layers."
   ]
  },
  {
   "cell_type": "code",
   "execution_count": 12,
   "metadata": {},
   "outputs": [],
   "source": [
    "# If statement to check if this code block should be executed.\n",
    "if dont_run == 1:\n",
    "    \n",
    "    # Code example below:\n",
    "    for layer in feature_extractor.layers:\n",
    "        layer.trainable = False # this freezes the complete extractor."
   ]
  },
  {
   "cell_type": "markdown",
   "metadata": {},
   "source": [
    "## 5 - Applying Transfer Learning on the CIFAR-100 Dataset:\n",
    "\n",
    "Like previous noteboooks, the results gathered here are used to compare with the previously implemented models. This section will then apply transfer learning discussed above, utilising the ResNet model on the CIFAR-100 dataset.\n",
    "\n",
    "## 5.1 - Hyperparamters:"
   ]
  },
  {
   "cell_type": "code",
   "execution_count": 13,
   "metadata": {},
   "outputs": [],
   "source": [
    "# Define the Expected input and output shape for the model:\n",
    "input_shape = [224, 224, 3]\n",
    "\n",
    "batch_size = 64\n",
    "nb_epochs = 300"
   ]
  },
  {
   "cell_type": "markdown",
   "metadata": {},
   "source": [
    "## 5.2 - Data Preparation and Defining the Input Pipeline:\n",
    "\n",
    "To use the TensorFlow package, please ensure to install it: \"pip install tensorflow-datasets\" or use the Anaconda Navigator.\n",
    "\n",
    "### 5.2.1 - Download the Dataset:"
   ]
  },
  {
   "cell_type": "code",
   "execution_count": 14,
   "metadata": {},
   "outputs": [],
   "source": [
    "import tensorflow_datasets as tfds\n",
    "import DataPrepCIFAR_utility"
   ]
  },
  {
   "cell_type": "code",
   "execution_count": 15,
   "metadata": {},
   "outputs": [],
   "source": [
    "import urllib3\n",
    "urllib3.disable_warnings(urllib3.exceptions.InsecureRequestWarning)"
   ]
  },
  {
   "cell_type": "code",
   "execution_count": 16,
   "metadata": {},
   "outputs": [
    {
     "name": "stdout",
     "output_type": "stream",
     "text": [
      "tfds.core.DatasetInfo(\n",
      "    name='cifar100',\n",
      "    version=1.3.1,\n",
      "    description='This dataset is just like the CIFAR-10, except it has 100 classes containing 600 images each. There are 500 training images and 100 testing images per class. The 100 classes in the CIFAR-100 are grouped into 20 superclasses. Each image comes with a \"fine\" label (the class to which it belongs) and a \"coarse\" label (the superclass to which it belongs).',\n",
      "    urls=['https://www.cs.toronto.edu/~kriz/cifar.html'],\n",
      "    features=FeaturesDict({\n",
      "        'coarse_label': ClassLabel(shape=(), dtype=tf.int64, num_classes=20),\n",
      "        'image': Image(shape=(32, 32, 3), dtype=tf.uint8),\n",
      "        'label': ClassLabel(shape=(), dtype=tf.int64, num_classes=100),\n",
      "    }),\n",
      "    total_num_examples=60000,\n",
      "    splits={\n",
      "        'test': 10000,\n",
      "        'train': 50000,\n",
      "    },\n",
      "    supervised_keys=('image', 'label'),\n",
      "    citation=\"\"\"@TECHREPORT{Krizhevsky09learningmultiple,\n",
      "        author = {Alex Krizhevsky},\n",
      "        title = {Learning multiple layers of features from tiny images},\n",
      "        institution = {},\n",
      "        year = {2009}\n",
      "    }\"\"\",\n",
      "    redistribution_info=,\n",
      ")\n",
      "\n"
     ]
    }
   ],
   "source": [
    "# Get the Dataset Information:\n",
    "cifarData_info = DataPrepCIFAR_utility.get_info()\n",
    "print(cifarData_info)"
   ]
  },
  {
   "cell_type": "markdown",
   "metadata": {},
   "source": [
    "### 5.2.2 - Set up the dataset:"
   ]
  },
  {
   "cell_type": "code",
   "execution_count": 17,
   "metadata": {},
   "outputs": [],
   "source": [
    "# Set the number of classes:\n",
    "nb_classes = cifarData_info.features['label'].num_classes\n",
    "\n",
    "# Define the number of images for training and validation:\n",
    "nb_train_imgs = cifarData_info.splits['train'].num_examples\n",
    "nb_valid_imgs = cifarData_info.splits['test'].num_examples"
   ]
  },
  {
   "cell_type": "markdown",
   "metadata": {},
   "source": [
    "### 5.2.3 - Set the \"steps_per_epoch\" for Training and Validation Set:\n",
    "\n",
    "From the previous code block, the dataset is compatible with Keras methods liike \"model.fit()\", but will also require the \"steps_per_epoch\" to be specified. This is the number of batches per epoch of the Dataset objects that has to be specified for the Keras method so that it can work properly together. This is done for the training batches (\"steps_per_epoch\") and validation batches (\"validation_steps\")."
   ]
  },
  {
   "cell_type": "code",
   "execution_count": 18,
   "metadata": {},
   "outputs": [],
   "source": [
    "train_steps_per_epoch = math.ceil(nb_train_imgs / batch_size)\n",
    "\n",
    "valid_steps_per_epoch = math.ceil(nb_valid_imgs / batch_size)"
   ]
  },
  {
   "cell_type": "markdown",
   "metadata": {},
   "source": [
    "### 5.2.4 - Load in the Dataset:"
   ]
  },
  {
   "cell_type": "code",
   "execution_count": 19,
   "metadata": {},
   "outputs": [
    {
     "name": "stderr",
     "output_type": "stream",
     "text": [
      "WARNING:absl:Warning: Setting shuffle_files=True because split=TRAIN and shuffle_files=None. This behavior will be deprecated on 2019-08-06, at which point shuffle_files=False will be the default for all splits.\n",
      "WARNING:absl:Warning: Setting shuffle_files=True because split=TRAIN and shuffle_files=None. This behavior will be deprecated on 2019-08-06, at which point shuffle_files=False will be the default for all splits.\n"
     ]
    }
   ],
   "source": [
    "# Training Dataset:\n",
    "train_set_cifar = DataPrepCIFAR_utility.get_dataset(phase='train',\n",
    "                                                    batch_size= batch_size,\n",
    "                                                    nb_epochs= nb_epochs,\n",
    "                                                    shuffle=True,\n",
    "                                                    input_shape= input_shape,\n",
    "                                                    seed= Seed_nb)\n",
    "\n",
    "# Validation Dataset:\n",
    "val_set_cifar = DataPrepCIFAR_utility.get_dataset(phase='test',\n",
    "                                                  batch_size= batch_size,\n",
    "                                                  nb_epochs= 1,\n",
    "                                                  shuffle= False,\n",
    "                                                  input_shape= input_shape,\n",
    "                                                  seed= Seed_nb)"
   ]
  },
  {
   "cell_type": "markdown",
   "metadata": {},
   "source": [
    "Now that the CIFAR-100 dataset has been prepared. The next stage is to call the ResNet model.\n",
    "\n",
    "## 5.3 - Freeze the ResNet Feature Extractor:\n",
    "\n",
    "This section will venture into instantiating a ResNet model from Keras Applications, where the model would have weights that were pretrained on the ImageNet dataset. The final layers of the model would be removed and therefore be a feature extractor. The new final dense layers will be incorporated as part of the model for the purpose of predictitons output for the CIFAR-100 dataset. \n",
    "\n",
    "Here in this section, the pretrained weights/parameters of the feature extraction layers of the ResNet will be frozen, thereby the only training will take place is the in the final dense layers for the CIFAR-100. The following will demonstrate how the pretrained weights are frozen.\n",
    "\n",
    "### 5.3.1 - Building the ResNet model:\n",
    "\n",
    "The ResNet-50 will be chosen here for the CIFAR-100 dataset. First, the model will be instantiated directly from Keras Applications with its pretrained weights without its final dense layers. This can be done by setting \"include_top\" parameter to be \"False\"."
   ]
  },
  {
   "cell_type": "code",
   "execution_count": 20,
   "metadata": {},
   "outputs": [],
   "source": [
    "# Import the required Libraries:\n",
    "from tensorflow.keras.models import Model\n",
    "from tensorflow.keras.layers import GlobalAveragePooling2D, Dense"
   ]
  },
  {
   "cell_type": "code",
   "execution_count": 21,
   "metadata": {},
   "outputs": [
    {
     "name": "stdout",
     "output_type": "stream",
     "text": [
      "Model: \"resnet50\"\n",
      "__________________________________________________________________________________________________\n",
      "Layer (type)                    Output Shape         Param #     Connected to                     \n",
      "==================================================================================================\n",
      "input_1 (InputLayer)            [(None, 224, 224, 3) 0                                            \n",
      "__________________________________________________________________________________________________\n",
      "conv1_pad (ZeroPadding2D)       (None, 230, 230, 3)  0           input_1[0][0]                    \n",
      "__________________________________________________________________________________________________\n",
      "conv1_conv (Conv2D)             (None, 112, 112, 64) 9472        conv1_pad[0][0]                  \n",
      "__________________________________________________________________________________________________\n",
      "conv1_bn (BatchNormalization)   (None, 112, 112, 64) 256         conv1_conv[0][0]                 \n",
      "__________________________________________________________________________________________________\n",
      "conv1_relu (Activation)         (None, 112, 112, 64) 0           conv1_bn[0][0]                   \n",
      "__________________________________________________________________________________________________\n",
      "pool1_pad (ZeroPadding2D)       (None, 114, 114, 64) 0           conv1_relu[0][0]                 \n",
      "__________________________________________________________________________________________________\n",
      "pool1_pool (MaxPooling2D)       (None, 56, 56, 64)   0           pool1_pad[0][0]                  \n",
      "__________________________________________________________________________________________________\n",
      "conv2_block1_1_conv (Conv2D)    (None, 56, 56, 64)   4160        pool1_pool[0][0]                 \n",
      "__________________________________________________________________________________________________\n",
      "conv2_block1_1_bn (BatchNormali (None, 56, 56, 64)   256         conv2_block1_1_conv[0][0]        \n",
      "__________________________________________________________________________________________________\n",
      "conv2_block1_1_relu (Activation (None, 56, 56, 64)   0           conv2_block1_1_bn[0][0]          \n",
      "__________________________________________________________________________________________________\n",
      "conv2_block1_2_conv (Conv2D)    (None, 56, 56, 64)   36928       conv2_block1_1_relu[0][0]        \n",
      "__________________________________________________________________________________________________\n",
      "conv2_block1_2_bn (BatchNormali (None, 56, 56, 64)   256         conv2_block1_2_conv[0][0]        \n",
      "__________________________________________________________________________________________________\n",
      "conv2_block1_2_relu (Activation (None, 56, 56, 64)   0           conv2_block1_2_bn[0][0]          \n",
      "__________________________________________________________________________________________________\n",
      "conv2_block1_0_conv (Conv2D)    (None, 56, 56, 256)  16640       pool1_pool[0][0]                 \n",
      "__________________________________________________________________________________________________\n",
      "conv2_block1_3_conv (Conv2D)    (None, 56, 56, 256)  16640       conv2_block1_2_relu[0][0]        \n",
      "__________________________________________________________________________________________________\n",
      "conv2_block1_0_bn (BatchNormali (None, 56, 56, 256)  1024        conv2_block1_0_conv[0][0]        \n",
      "__________________________________________________________________________________________________\n",
      "conv2_block1_3_bn (BatchNormali (None, 56, 56, 256)  1024        conv2_block1_3_conv[0][0]        \n",
      "__________________________________________________________________________________________________\n",
      "conv2_block1_add (Add)          (None, 56, 56, 256)  0           conv2_block1_0_bn[0][0]          \n",
      "                                                                 conv2_block1_3_bn[0][0]          \n",
      "__________________________________________________________________________________________________\n",
      "conv2_block1_out (Activation)   (None, 56, 56, 256)  0           conv2_block1_add[0][0]           \n",
      "__________________________________________________________________________________________________\n",
      "conv2_block2_1_conv (Conv2D)    (None, 56, 56, 64)   16448       conv2_block1_out[0][0]           \n",
      "__________________________________________________________________________________________________\n",
      "conv2_block2_1_bn (BatchNormali (None, 56, 56, 64)   256         conv2_block2_1_conv[0][0]        \n",
      "__________________________________________________________________________________________________\n",
      "conv2_block2_1_relu (Activation (None, 56, 56, 64)   0           conv2_block2_1_bn[0][0]          \n",
      "__________________________________________________________________________________________________\n",
      "conv2_block2_2_conv (Conv2D)    (None, 56, 56, 64)   36928       conv2_block2_1_relu[0][0]        \n",
      "__________________________________________________________________________________________________\n",
      "conv2_block2_2_bn (BatchNormali (None, 56, 56, 64)   256         conv2_block2_2_conv[0][0]        \n",
      "__________________________________________________________________________________________________\n",
      "conv2_block2_2_relu (Activation (None, 56, 56, 64)   0           conv2_block2_2_bn[0][0]          \n",
      "__________________________________________________________________________________________________\n",
      "conv2_block2_3_conv (Conv2D)    (None, 56, 56, 256)  16640       conv2_block2_2_relu[0][0]        \n",
      "__________________________________________________________________________________________________\n",
      "conv2_block2_3_bn (BatchNormali (None, 56, 56, 256)  1024        conv2_block2_3_conv[0][0]        \n",
      "__________________________________________________________________________________________________\n",
      "conv2_block2_add (Add)          (None, 56, 56, 256)  0           conv2_block1_out[0][0]           \n",
      "                                                                 conv2_block2_3_bn[0][0]          \n",
      "__________________________________________________________________________________________________\n",
      "conv2_block2_out (Activation)   (None, 56, 56, 256)  0           conv2_block2_add[0][0]           \n",
      "__________________________________________________________________________________________________\n",
      "conv2_block3_1_conv (Conv2D)    (None, 56, 56, 64)   16448       conv2_block2_out[0][0]           \n",
      "__________________________________________________________________________________________________\n",
      "conv2_block3_1_bn (BatchNormali (None, 56, 56, 64)   256         conv2_block3_1_conv[0][0]        \n",
      "__________________________________________________________________________________________________\n",
      "conv2_block3_1_relu (Activation (None, 56, 56, 64)   0           conv2_block3_1_bn[0][0]          \n",
      "__________________________________________________________________________________________________\n",
      "conv2_block3_2_conv (Conv2D)    (None, 56, 56, 64)   36928       conv2_block3_1_relu[0][0]        \n",
      "__________________________________________________________________________________________________\n",
      "conv2_block3_2_bn (BatchNormali (None, 56, 56, 64)   256         conv2_block3_2_conv[0][0]        \n",
      "__________________________________________________________________________________________________\n",
      "conv2_block3_2_relu (Activation (None, 56, 56, 64)   0           conv2_block3_2_bn[0][0]          \n",
      "__________________________________________________________________________________________________\n",
      "conv2_block3_3_conv (Conv2D)    (None, 56, 56, 256)  16640       conv2_block3_2_relu[0][0]        \n",
      "__________________________________________________________________________________________________\n",
      "conv2_block3_3_bn (BatchNormali (None, 56, 56, 256)  1024        conv2_block3_3_conv[0][0]        \n",
      "__________________________________________________________________________________________________\n",
      "conv2_block3_add (Add)          (None, 56, 56, 256)  0           conv2_block2_out[0][0]           \n",
      "                                                                 conv2_block3_3_bn[0][0]          \n",
      "__________________________________________________________________________________________________\n",
      "conv2_block3_out (Activation)   (None, 56, 56, 256)  0           conv2_block3_add[0][0]           \n",
      "__________________________________________________________________________________________________\n",
      "conv3_block1_1_conv (Conv2D)    (None, 28, 28, 128)  32896       conv2_block3_out[0][0]           \n",
      "__________________________________________________________________________________________________\n",
      "conv3_block1_1_bn (BatchNormali (None, 28, 28, 128)  512         conv3_block1_1_conv[0][0]        \n",
      "__________________________________________________________________________________________________\n",
      "conv3_block1_1_relu (Activation (None, 28, 28, 128)  0           conv3_block1_1_bn[0][0]          \n",
      "__________________________________________________________________________________________________\n",
      "conv3_block1_2_conv (Conv2D)    (None, 28, 28, 128)  147584      conv3_block1_1_relu[0][0]        \n",
      "__________________________________________________________________________________________________\n",
      "conv3_block1_2_bn (BatchNormali (None, 28, 28, 128)  512         conv3_block1_2_conv[0][0]        \n",
      "__________________________________________________________________________________________________\n",
      "conv3_block1_2_relu (Activation (None, 28, 28, 128)  0           conv3_block1_2_bn[0][0]          \n",
      "__________________________________________________________________________________________________\n",
      "conv3_block1_0_conv (Conv2D)    (None, 28, 28, 512)  131584      conv2_block3_out[0][0]           \n",
      "__________________________________________________________________________________________________\n",
      "conv3_block1_3_conv (Conv2D)    (None, 28, 28, 512)  66048       conv3_block1_2_relu[0][0]        \n",
      "__________________________________________________________________________________________________\n",
      "conv3_block1_0_bn (BatchNormali (None, 28, 28, 512)  2048        conv3_block1_0_conv[0][0]        \n",
      "__________________________________________________________________________________________________\n",
      "conv3_block1_3_bn (BatchNormali (None, 28, 28, 512)  2048        conv3_block1_3_conv[0][0]        \n",
      "__________________________________________________________________________________________________\n",
      "conv3_block1_add (Add)          (None, 28, 28, 512)  0           conv3_block1_0_bn[0][0]          \n",
      "                                                                 conv3_block1_3_bn[0][0]          \n",
      "__________________________________________________________________________________________________\n",
      "conv3_block1_out (Activation)   (None, 28, 28, 512)  0           conv3_block1_add[0][0]           \n",
      "__________________________________________________________________________________________________\n",
      "conv3_block2_1_conv (Conv2D)    (None, 28, 28, 128)  65664       conv3_block1_out[0][0]           \n",
      "__________________________________________________________________________________________________\n",
      "conv3_block2_1_bn (BatchNormali (None, 28, 28, 128)  512         conv3_block2_1_conv[0][0]        \n",
      "__________________________________________________________________________________________________\n",
      "conv3_block2_1_relu (Activation (None, 28, 28, 128)  0           conv3_block2_1_bn[0][0]          \n",
      "__________________________________________________________________________________________________\n",
      "conv3_block2_2_conv (Conv2D)    (None, 28, 28, 128)  147584      conv3_block2_1_relu[0][0]        \n",
      "__________________________________________________________________________________________________\n",
      "conv3_block2_2_bn (BatchNormali (None, 28, 28, 128)  512         conv3_block2_2_conv[0][0]        \n",
      "__________________________________________________________________________________________________\n",
      "conv3_block2_2_relu (Activation (None, 28, 28, 128)  0           conv3_block2_2_bn[0][0]          \n",
      "__________________________________________________________________________________________________\n",
      "conv3_block2_3_conv (Conv2D)    (None, 28, 28, 512)  66048       conv3_block2_2_relu[0][0]        \n",
      "__________________________________________________________________________________________________\n",
      "conv3_block2_3_bn (BatchNormali (None, 28, 28, 512)  2048        conv3_block2_3_conv[0][0]        \n",
      "__________________________________________________________________________________________________\n",
      "conv3_block2_add (Add)          (None, 28, 28, 512)  0           conv3_block1_out[0][0]           \n",
      "                                                                 conv3_block2_3_bn[0][0]          \n",
      "__________________________________________________________________________________________________\n",
      "conv3_block2_out (Activation)   (None, 28, 28, 512)  0           conv3_block2_add[0][0]           \n",
      "__________________________________________________________________________________________________\n",
      "conv3_block3_1_conv (Conv2D)    (None, 28, 28, 128)  65664       conv3_block2_out[0][0]           \n",
      "__________________________________________________________________________________________________\n",
      "conv3_block3_1_bn (BatchNormali (None, 28, 28, 128)  512         conv3_block3_1_conv[0][0]        \n",
      "__________________________________________________________________________________________________\n",
      "conv3_block3_1_relu (Activation (None, 28, 28, 128)  0           conv3_block3_1_bn[0][0]          \n",
      "__________________________________________________________________________________________________\n",
      "conv3_block3_2_conv (Conv2D)    (None, 28, 28, 128)  147584      conv3_block3_1_relu[0][0]        \n",
      "__________________________________________________________________________________________________\n",
      "conv3_block3_2_bn (BatchNormali (None, 28, 28, 128)  512         conv3_block3_2_conv[0][0]        \n",
      "__________________________________________________________________________________________________\n",
      "conv3_block3_2_relu (Activation (None, 28, 28, 128)  0           conv3_block3_2_bn[0][0]          \n",
      "__________________________________________________________________________________________________\n",
      "conv3_block3_3_conv (Conv2D)    (None, 28, 28, 512)  66048       conv3_block3_2_relu[0][0]        \n",
      "__________________________________________________________________________________________________\n",
      "conv3_block3_3_bn (BatchNormali (None, 28, 28, 512)  2048        conv3_block3_3_conv[0][0]        \n",
      "__________________________________________________________________________________________________\n",
      "conv3_block3_add (Add)          (None, 28, 28, 512)  0           conv3_block2_out[0][0]           \n",
      "                                                                 conv3_block3_3_bn[0][0]          \n",
      "__________________________________________________________________________________________________\n",
      "conv3_block3_out (Activation)   (None, 28, 28, 512)  0           conv3_block3_add[0][0]           \n",
      "__________________________________________________________________________________________________\n",
      "conv3_block4_1_conv (Conv2D)    (None, 28, 28, 128)  65664       conv3_block3_out[0][0]           \n",
      "__________________________________________________________________________________________________\n",
      "conv3_block4_1_bn (BatchNormali (None, 28, 28, 128)  512         conv3_block4_1_conv[0][0]        \n",
      "__________________________________________________________________________________________________\n",
      "conv3_block4_1_relu (Activation (None, 28, 28, 128)  0           conv3_block4_1_bn[0][0]          \n",
      "__________________________________________________________________________________________________\n",
      "conv3_block4_2_conv (Conv2D)    (None, 28, 28, 128)  147584      conv3_block4_1_relu[0][0]        \n",
      "__________________________________________________________________________________________________\n",
      "conv3_block4_2_bn (BatchNormali (None, 28, 28, 128)  512         conv3_block4_2_conv[0][0]        \n",
      "__________________________________________________________________________________________________\n",
      "conv3_block4_2_relu (Activation (None, 28, 28, 128)  0           conv3_block4_2_bn[0][0]          \n",
      "__________________________________________________________________________________________________\n",
      "conv3_block4_3_conv (Conv2D)    (None, 28, 28, 512)  66048       conv3_block4_2_relu[0][0]        \n",
      "__________________________________________________________________________________________________\n",
      "conv3_block4_3_bn (BatchNormali (None, 28, 28, 512)  2048        conv3_block4_3_conv[0][0]        \n",
      "__________________________________________________________________________________________________\n",
      "conv3_block4_add (Add)          (None, 28, 28, 512)  0           conv3_block3_out[0][0]           \n",
      "                                                                 conv3_block4_3_bn[0][0]          \n",
      "__________________________________________________________________________________________________\n",
      "conv3_block4_out (Activation)   (None, 28, 28, 512)  0           conv3_block4_add[0][0]           \n",
      "__________________________________________________________________________________________________\n",
      "conv4_block1_1_conv (Conv2D)    (None, 14, 14, 256)  131328      conv3_block4_out[0][0]           \n",
      "__________________________________________________________________________________________________\n",
      "conv4_block1_1_bn (BatchNormali (None, 14, 14, 256)  1024        conv4_block1_1_conv[0][0]        \n",
      "__________________________________________________________________________________________________\n",
      "conv4_block1_1_relu (Activation (None, 14, 14, 256)  0           conv4_block1_1_bn[0][0]          \n",
      "__________________________________________________________________________________________________\n",
      "conv4_block1_2_conv (Conv2D)    (None, 14, 14, 256)  590080      conv4_block1_1_relu[0][0]        \n",
      "__________________________________________________________________________________________________\n",
      "conv4_block1_2_bn (BatchNormali (None, 14, 14, 256)  1024        conv4_block1_2_conv[0][0]        \n",
      "__________________________________________________________________________________________________\n",
      "conv4_block1_2_relu (Activation (None, 14, 14, 256)  0           conv4_block1_2_bn[0][0]          \n",
      "__________________________________________________________________________________________________\n",
      "conv4_block1_0_conv (Conv2D)    (None, 14, 14, 1024) 525312      conv3_block4_out[0][0]           \n",
      "__________________________________________________________________________________________________\n",
      "conv4_block1_3_conv (Conv2D)    (None, 14, 14, 1024) 263168      conv4_block1_2_relu[0][0]        \n",
      "__________________________________________________________________________________________________\n",
      "conv4_block1_0_bn (BatchNormali (None, 14, 14, 1024) 4096        conv4_block1_0_conv[0][0]        \n",
      "__________________________________________________________________________________________________\n",
      "conv4_block1_3_bn (BatchNormali (None, 14, 14, 1024) 4096        conv4_block1_3_conv[0][0]        \n",
      "__________________________________________________________________________________________________\n",
      "conv4_block1_add (Add)          (None, 14, 14, 1024) 0           conv4_block1_0_bn[0][0]          \n",
      "                                                                 conv4_block1_3_bn[0][0]          \n",
      "__________________________________________________________________________________________________\n",
      "conv4_block1_out (Activation)   (None, 14, 14, 1024) 0           conv4_block1_add[0][0]           \n",
      "__________________________________________________________________________________________________\n",
      "conv4_block2_1_conv (Conv2D)    (None, 14, 14, 256)  262400      conv4_block1_out[0][0]           \n",
      "__________________________________________________________________________________________________\n",
      "conv4_block2_1_bn (BatchNormali (None, 14, 14, 256)  1024        conv4_block2_1_conv[0][0]        \n",
      "__________________________________________________________________________________________________\n",
      "conv4_block2_1_relu (Activation (None, 14, 14, 256)  0           conv4_block2_1_bn[0][0]          \n",
      "__________________________________________________________________________________________________\n",
      "conv4_block2_2_conv (Conv2D)    (None, 14, 14, 256)  590080      conv4_block2_1_relu[0][0]        \n",
      "__________________________________________________________________________________________________\n",
      "conv4_block2_2_bn (BatchNormali (None, 14, 14, 256)  1024        conv4_block2_2_conv[0][0]        \n",
      "__________________________________________________________________________________________________\n",
      "conv4_block2_2_relu (Activation (None, 14, 14, 256)  0           conv4_block2_2_bn[0][0]          \n",
      "__________________________________________________________________________________________________\n",
      "conv4_block2_3_conv (Conv2D)    (None, 14, 14, 1024) 263168      conv4_block2_2_relu[0][0]        \n",
      "__________________________________________________________________________________________________\n",
      "conv4_block2_3_bn (BatchNormali (None, 14, 14, 1024) 4096        conv4_block2_3_conv[0][0]        \n",
      "__________________________________________________________________________________________________\n",
      "conv4_block2_add (Add)          (None, 14, 14, 1024) 0           conv4_block1_out[0][0]           \n",
      "                                                                 conv4_block2_3_bn[0][0]          \n",
      "__________________________________________________________________________________________________\n",
      "conv4_block2_out (Activation)   (None, 14, 14, 1024) 0           conv4_block2_add[0][0]           \n",
      "__________________________________________________________________________________________________\n",
      "conv4_block3_1_conv (Conv2D)    (None, 14, 14, 256)  262400      conv4_block2_out[0][0]           \n",
      "__________________________________________________________________________________________________\n",
      "conv4_block3_1_bn (BatchNormali (None, 14, 14, 256)  1024        conv4_block3_1_conv[0][0]        \n",
      "__________________________________________________________________________________________________\n",
      "conv4_block3_1_relu (Activation (None, 14, 14, 256)  0           conv4_block3_1_bn[0][0]          \n",
      "__________________________________________________________________________________________________\n",
      "conv4_block3_2_conv (Conv2D)    (None, 14, 14, 256)  590080      conv4_block3_1_relu[0][0]        \n",
      "__________________________________________________________________________________________________\n",
      "conv4_block3_2_bn (BatchNormali (None, 14, 14, 256)  1024        conv4_block3_2_conv[0][0]        \n",
      "__________________________________________________________________________________________________\n",
      "conv4_block3_2_relu (Activation (None, 14, 14, 256)  0           conv4_block3_2_bn[0][0]          \n",
      "__________________________________________________________________________________________________\n",
      "conv4_block3_3_conv (Conv2D)    (None, 14, 14, 1024) 263168      conv4_block3_2_relu[0][0]        \n",
      "__________________________________________________________________________________________________\n",
      "conv4_block3_3_bn (BatchNormali (None, 14, 14, 1024) 4096        conv4_block3_3_conv[0][0]        \n",
      "__________________________________________________________________________________________________\n",
      "conv4_block3_add (Add)          (None, 14, 14, 1024) 0           conv4_block2_out[0][0]           \n",
      "                                                                 conv4_block3_3_bn[0][0]          \n",
      "__________________________________________________________________________________________________\n",
      "conv4_block3_out (Activation)   (None, 14, 14, 1024) 0           conv4_block3_add[0][0]           \n",
      "__________________________________________________________________________________________________\n",
      "conv4_block4_1_conv (Conv2D)    (None, 14, 14, 256)  262400      conv4_block3_out[0][0]           \n",
      "__________________________________________________________________________________________________\n",
      "conv4_block4_1_bn (BatchNormali (None, 14, 14, 256)  1024        conv4_block4_1_conv[0][0]        \n",
      "__________________________________________________________________________________________________\n",
      "conv4_block4_1_relu (Activation (None, 14, 14, 256)  0           conv4_block4_1_bn[0][0]          \n",
      "__________________________________________________________________________________________________\n",
      "conv4_block4_2_conv (Conv2D)    (None, 14, 14, 256)  590080      conv4_block4_1_relu[0][0]        \n",
      "__________________________________________________________________________________________________\n",
      "conv4_block4_2_bn (BatchNormali (None, 14, 14, 256)  1024        conv4_block4_2_conv[0][0]        \n",
      "__________________________________________________________________________________________________\n",
      "conv4_block4_2_relu (Activation (None, 14, 14, 256)  0           conv4_block4_2_bn[0][0]          \n",
      "__________________________________________________________________________________________________\n",
      "conv4_block4_3_conv (Conv2D)    (None, 14, 14, 1024) 263168      conv4_block4_2_relu[0][0]        \n",
      "__________________________________________________________________________________________________\n",
      "conv4_block4_3_bn (BatchNormali (None, 14, 14, 1024) 4096        conv4_block4_3_conv[0][0]        \n",
      "__________________________________________________________________________________________________\n",
      "conv4_block4_add (Add)          (None, 14, 14, 1024) 0           conv4_block3_out[0][0]           \n",
      "                                                                 conv4_block4_3_bn[0][0]          \n",
      "__________________________________________________________________________________________________\n",
      "conv4_block4_out (Activation)   (None, 14, 14, 1024) 0           conv4_block4_add[0][0]           \n",
      "__________________________________________________________________________________________________\n",
      "conv4_block5_1_conv (Conv2D)    (None, 14, 14, 256)  262400      conv4_block4_out[0][0]           \n",
      "__________________________________________________________________________________________________\n",
      "conv4_block5_1_bn (BatchNormali (None, 14, 14, 256)  1024        conv4_block5_1_conv[0][0]        \n",
      "__________________________________________________________________________________________________\n",
      "conv4_block5_1_relu (Activation (None, 14, 14, 256)  0           conv4_block5_1_bn[0][0]          \n",
      "__________________________________________________________________________________________________\n",
      "conv4_block5_2_conv (Conv2D)    (None, 14, 14, 256)  590080      conv4_block5_1_relu[0][0]        \n",
      "__________________________________________________________________________________________________\n",
      "conv4_block5_2_bn (BatchNormali (None, 14, 14, 256)  1024        conv4_block5_2_conv[0][0]        \n",
      "__________________________________________________________________________________________________\n",
      "conv4_block5_2_relu (Activation (None, 14, 14, 256)  0           conv4_block5_2_bn[0][0]          \n",
      "__________________________________________________________________________________________________\n",
      "conv4_block5_3_conv (Conv2D)    (None, 14, 14, 1024) 263168      conv4_block5_2_relu[0][0]        \n",
      "__________________________________________________________________________________________________\n",
      "conv4_block5_3_bn (BatchNormali (None, 14, 14, 1024) 4096        conv4_block5_3_conv[0][0]        \n",
      "__________________________________________________________________________________________________\n",
      "conv4_block5_add (Add)          (None, 14, 14, 1024) 0           conv4_block4_out[0][0]           \n",
      "                                                                 conv4_block5_3_bn[0][0]          \n",
      "__________________________________________________________________________________________________\n",
      "conv4_block5_out (Activation)   (None, 14, 14, 1024) 0           conv4_block5_add[0][0]           \n",
      "__________________________________________________________________________________________________\n",
      "conv4_block6_1_conv (Conv2D)    (None, 14, 14, 256)  262400      conv4_block5_out[0][0]           \n",
      "__________________________________________________________________________________________________\n",
      "conv4_block6_1_bn (BatchNormali (None, 14, 14, 256)  1024        conv4_block6_1_conv[0][0]        \n",
      "__________________________________________________________________________________________________\n",
      "conv4_block6_1_relu (Activation (None, 14, 14, 256)  0           conv4_block6_1_bn[0][0]          \n",
      "__________________________________________________________________________________________________\n",
      "conv4_block6_2_conv (Conv2D)    (None, 14, 14, 256)  590080      conv4_block6_1_relu[0][0]        \n",
      "__________________________________________________________________________________________________\n",
      "conv4_block6_2_bn (BatchNormali (None, 14, 14, 256)  1024        conv4_block6_2_conv[0][0]        \n",
      "__________________________________________________________________________________________________\n",
      "conv4_block6_2_relu (Activation (None, 14, 14, 256)  0           conv4_block6_2_bn[0][0]          \n",
      "__________________________________________________________________________________________________\n",
      "conv4_block6_3_conv (Conv2D)    (None, 14, 14, 1024) 263168      conv4_block6_2_relu[0][0]        \n",
      "__________________________________________________________________________________________________\n",
      "conv4_block6_3_bn (BatchNormali (None, 14, 14, 1024) 4096        conv4_block6_3_conv[0][0]        \n",
      "__________________________________________________________________________________________________\n",
      "conv4_block6_add (Add)          (None, 14, 14, 1024) 0           conv4_block5_out[0][0]           \n",
      "                                                                 conv4_block6_3_bn[0][0]          \n",
      "__________________________________________________________________________________________________\n",
      "conv4_block6_out (Activation)   (None, 14, 14, 1024) 0           conv4_block6_add[0][0]           \n",
      "__________________________________________________________________________________________________\n",
      "conv5_block1_1_conv (Conv2D)    (None, 7, 7, 512)    524800      conv4_block6_out[0][0]           \n",
      "__________________________________________________________________________________________________\n",
      "conv5_block1_1_bn (BatchNormali (None, 7, 7, 512)    2048        conv5_block1_1_conv[0][0]        \n",
      "__________________________________________________________________________________________________\n",
      "conv5_block1_1_relu (Activation (None, 7, 7, 512)    0           conv5_block1_1_bn[0][0]          \n",
      "__________________________________________________________________________________________________\n",
      "conv5_block1_2_conv (Conv2D)    (None, 7, 7, 512)    2359808     conv5_block1_1_relu[0][0]        \n",
      "__________________________________________________________________________________________________\n",
      "conv5_block1_2_bn (BatchNormali (None, 7, 7, 512)    2048        conv5_block1_2_conv[0][0]        \n",
      "__________________________________________________________________________________________________\n",
      "conv5_block1_2_relu (Activation (None, 7, 7, 512)    0           conv5_block1_2_bn[0][0]          \n",
      "__________________________________________________________________________________________________\n",
      "conv5_block1_0_conv (Conv2D)    (None, 7, 7, 2048)   2099200     conv4_block6_out[0][0]           \n",
      "__________________________________________________________________________________________________\n",
      "conv5_block1_3_conv (Conv2D)    (None, 7, 7, 2048)   1050624     conv5_block1_2_relu[0][0]        \n",
      "__________________________________________________________________________________________________\n",
      "conv5_block1_0_bn (BatchNormali (None, 7, 7, 2048)   8192        conv5_block1_0_conv[0][0]        \n",
      "__________________________________________________________________________________________________\n",
      "conv5_block1_3_bn (BatchNormali (None, 7, 7, 2048)   8192        conv5_block1_3_conv[0][0]        \n",
      "__________________________________________________________________________________________________\n",
      "conv5_block1_add (Add)          (None, 7, 7, 2048)   0           conv5_block1_0_bn[0][0]          \n",
      "                                                                 conv5_block1_3_bn[0][0]          \n",
      "__________________________________________________________________________________________________\n",
      "conv5_block1_out (Activation)   (None, 7, 7, 2048)   0           conv5_block1_add[0][0]           \n",
      "__________________________________________________________________________________________________\n",
      "conv5_block2_1_conv (Conv2D)    (None, 7, 7, 512)    1049088     conv5_block1_out[0][0]           \n",
      "__________________________________________________________________________________________________\n",
      "conv5_block2_1_bn (BatchNormali (None, 7, 7, 512)    2048        conv5_block2_1_conv[0][0]        \n",
      "__________________________________________________________________________________________________\n",
      "conv5_block2_1_relu (Activation (None, 7, 7, 512)    0           conv5_block2_1_bn[0][0]          \n",
      "__________________________________________________________________________________________________\n",
      "conv5_block2_2_conv (Conv2D)    (None, 7, 7, 512)    2359808     conv5_block2_1_relu[0][0]        \n",
      "__________________________________________________________________________________________________\n",
      "conv5_block2_2_bn (BatchNormali (None, 7, 7, 512)    2048        conv5_block2_2_conv[0][0]        \n",
      "__________________________________________________________________________________________________\n",
      "conv5_block2_2_relu (Activation (None, 7, 7, 512)    0           conv5_block2_2_bn[0][0]          \n",
      "__________________________________________________________________________________________________\n",
      "conv5_block2_3_conv (Conv2D)    (None, 7, 7, 2048)   1050624     conv5_block2_2_relu[0][0]        \n",
      "__________________________________________________________________________________________________\n",
      "conv5_block2_3_bn (BatchNormali (None, 7, 7, 2048)   8192        conv5_block2_3_conv[0][0]        \n",
      "__________________________________________________________________________________________________\n",
      "conv5_block2_add (Add)          (None, 7, 7, 2048)   0           conv5_block1_out[0][0]           \n",
      "                                                                 conv5_block2_3_bn[0][0]          \n",
      "__________________________________________________________________________________________________\n",
      "conv5_block2_out (Activation)   (None, 7, 7, 2048)   0           conv5_block2_add[0][0]           \n",
      "__________________________________________________________________________________________________\n",
      "conv5_block3_1_conv (Conv2D)    (None, 7, 7, 512)    1049088     conv5_block2_out[0][0]           \n",
      "__________________________________________________________________________________________________\n",
      "conv5_block3_1_bn (BatchNormali (None, 7, 7, 512)    2048        conv5_block3_1_conv[0][0]        \n",
      "__________________________________________________________________________________________________\n",
      "conv5_block3_1_relu (Activation (None, 7, 7, 512)    0           conv5_block3_1_bn[0][0]          \n",
      "__________________________________________________________________________________________________\n",
      "conv5_block3_2_conv (Conv2D)    (None, 7, 7, 512)    2359808     conv5_block3_1_relu[0][0]        \n",
      "__________________________________________________________________________________________________\n",
      "conv5_block3_2_bn (BatchNormali (None, 7, 7, 512)    2048        conv5_block3_2_conv[0][0]        \n",
      "__________________________________________________________________________________________________\n",
      "conv5_block3_2_relu (Activation (None, 7, 7, 512)    0           conv5_block3_2_bn[0][0]          \n",
      "__________________________________________________________________________________________________\n",
      "conv5_block3_3_conv (Conv2D)    (None, 7, 7, 2048)   1050624     conv5_block3_2_relu[0][0]        \n",
      "__________________________________________________________________________________________________\n",
      "conv5_block3_3_bn (BatchNormali (None, 7, 7, 2048)   8192        conv5_block3_3_conv[0][0]        \n",
      "__________________________________________________________________________________________________\n",
      "conv5_block3_add (Add)          (None, 7, 7, 2048)   0           conv5_block2_out[0][0]           \n",
      "                                                                 conv5_block3_3_bn[0][0]          \n",
      "__________________________________________________________________________________________________\n",
      "conv5_block3_out (Activation)   (None, 7, 7, 2048)   0           conv5_block3_add[0][0]           \n",
      "==================================================================================================\n",
      "Total params: 23,587,712\n",
      "Trainable params: 23,534,592\n",
      "Non-trainable params: 53,120\n",
      "__________________________________________________________________________________________________\n"
     ]
    }
   ],
   "source": [
    "# Instantiate the ResNet-50 model:\n",
    "resnet50_featureExtractor = tf.keras.applications.resnet50.ResNet50(include_top=False, \n",
    "                                                                    weights='imagenet',  \n",
    "                                                                    input_shape=input_shape)\n",
    "\n",
    "# Model Summary:\n",
    "resnet50_featureExtractor.summary()"
   ]
  },
  {
   "cell_type": "markdown",
   "metadata": {},
   "source": [
    "### 5.3.2 - Freeze the Feature Extractor Layers:\n",
    "\n",
    "To do this, means that the layers of the network will be \"non-trainable\" where it will maintain the learnt weights derived from the training process over the ImageNet dataset. Note that the feature extractor layers here also means the convolutional layers. \n",
    "\n",
    "It is wise to consider that not all the layers should be frozen, as the only layers that require freezing are just the convolutional ones. Noting the architecture of the model from previous notebooks, and to simplify which layers are to be frozen or not:\n",
    "- Convolutional layers = YES. (It is non-trainable).\n",
    "- Regularisation layers = NO. (It is trainable).\n",
    "- Batch-Normalisation layers = NO. (It is trainable).\n",
    " \n",
    "As these trainable layers are added after the convolutional layers, it does consist of some trainable parameters, in this case, these parameters have become too specific on the ImageNet dataset, therefore it is better to re-train them for the purpose of the CIFAR-100 dataset, so that they are able to adapt to the new task at hand."
   ]
  },
  {
   "cell_type": "code",
   "execution_count": 22,
   "metadata": {},
   "outputs": [],
   "source": [
    "# Check for Layers that require freezing or not:\n",
    "frozen_layers, trainable_layers = [], []\n",
    "\n",
    "# Loop over the layers of the model to update the list of layers above:\n",
    "for layer in resnet50_featureExtractor.layers:\n",
    "    if isinstance(layer, tf.keras.layers.Conv2D):\n",
    "        layer.trainable = False\n",
    "        frozen_layers.append(layer.name)\n",
    "        \n",
    "    else:\n",
    "        if len(layer.trainable_weights) > 0:\n",
    "            trainable_layers.append(layer.name)"
   ]
  },
  {
   "cell_type": "code",
   "execution_count": 23,
   "metadata": {},
   "outputs": [],
   "source": [
    "# Logging formats:\n",
    "log_begin_red, log_begin_blue, log_begin_green = '\\033[91m', '\\n\\033[94m', '\\033[92m'\n",
    "log_begin_bold, log_begin_underline = '\\033[1m', '\\033[4m'\n",
    "log_end_format = '\\033[0m'"
   ]
  },
  {
   "cell_type": "code",
   "execution_count": 24,
   "metadata": {},
   "outputs": [
    {
     "name": "stdout",
     "output_type": "stream",
     "text": [
      "\u001b[91mLayers that are Frozen:\u001b[0m ['conv1_conv', 'conv2_block1_1_conv', 'conv2_block1_2_conv', 'conv2_block1_0_conv', 'conv2_block1_3_conv', 'conv2_block2_1_conv', 'conv2_block2_2_conv', 'conv2_block2_3_conv', 'conv2_block3_1_conv', 'conv2_block3_2_conv', 'conv2_block3_3_conv', 'conv3_block1_1_conv', 'conv3_block1_2_conv', 'conv3_block1_0_conv', 'conv3_block1_3_conv', 'conv3_block2_1_conv', 'conv3_block2_2_conv', 'conv3_block2_3_conv', 'conv3_block3_1_conv', 'conv3_block3_2_conv', 'conv3_block3_3_conv', 'conv3_block4_1_conv', 'conv3_block4_2_conv', 'conv3_block4_3_conv', 'conv4_block1_1_conv', 'conv4_block1_2_conv', 'conv4_block1_0_conv', 'conv4_block1_3_conv', 'conv4_block2_1_conv', 'conv4_block2_2_conv', 'conv4_block2_3_conv', 'conv4_block3_1_conv', 'conv4_block3_2_conv', 'conv4_block3_3_conv', 'conv4_block4_1_conv', 'conv4_block4_2_conv', 'conv4_block4_3_conv', 'conv4_block5_1_conv', 'conv4_block5_2_conv', 'conv4_block5_3_conv', 'conv4_block6_1_conv', 'conv4_block6_2_conv', 'conv4_block6_3_conv', 'conv5_block1_1_conv', 'conv5_block1_2_conv', 'conv5_block1_0_conv', 'conv5_block1_3_conv', 'conv5_block2_1_conv', 'conv5_block2_2_conv', 'conv5_block2_3_conv', 'conv5_block3_1_conv', 'conv5_block3_2_conv', 'conv5_block3_3_conv'] (\u001b[1mtotal = 53\u001b[0m).\n",
      "\n",
      "\u001b[94mLayers that will be Fine-tuned:\u001b[0m ['conv1_bn', 'conv2_block1_1_bn', 'conv2_block1_2_bn', 'conv2_block1_0_bn', 'conv2_block1_3_bn', 'conv2_block2_1_bn', 'conv2_block2_2_bn', 'conv2_block2_3_bn', 'conv2_block3_1_bn', 'conv2_block3_2_bn', 'conv2_block3_3_bn', 'conv3_block1_1_bn', 'conv3_block1_2_bn', 'conv3_block1_0_bn', 'conv3_block1_3_bn', 'conv3_block2_1_bn', 'conv3_block2_2_bn', 'conv3_block2_3_bn', 'conv3_block3_1_bn', 'conv3_block3_2_bn', 'conv3_block3_3_bn', 'conv3_block4_1_bn', 'conv3_block4_2_bn', 'conv3_block4_3_bn', 'conv4_block1_1_bn', 'conv4_block1_2_bn', 'conv4_block1_0_bn', 'conv4_block1_3_bn', 'conv4_block2_1_bn', 'conv4_block2_2_bn', 'conv4_block2_3_bn', 'conv4_block3_1_bn', 'conv4_block3_2_bn', 'conv4_block3_3_bn', 'conv4_block4_1_bn', 'conv4_block4_2_bn', 'conv4_block4_3_bn', 'conv4_block5_1_bn', 'conv4_block5_2_bn', 'conv4_block5_3_bn', 'conv4_block6_1_bn', 'conv4_block6_2_bn', 'conv4_block6_3_bn', 'conv5_block1_1_bn', 'conv5_block1_2_bn', 'conv5_block1_0_bn', 'conv5_block1_3_bn', 'conv5_block2_1_bn', 'conv5_block2_2_bn', 'conv5_block2_3_bn', 'conv5_block3_1_bn', 'conv5_block3_2_bn', 'conv5_block3_3_bn'] (\u001b[1mtotal = 53\u001b[0m).\n"
     ]
    }
   ],
   "source": [
    "# Log the lists of both frozen and trainable alyers:\n",
    "\n",
    "# For FROZEN layers:\n",
    "print(\"{2}Layers that are Frozen:{4} {0} ({3}total = {1}{4}).\".format(\n",
    "    frozen_layers, len(frozen_layers), log_begin_red, log_begin_bold, log_end_format))\n",
    "\n",
    "# For TRAINABLE layers:\n",
    "print(\"{2}Layers that will be Fine-tuned:{4} {0} ({3}total = {1}{4}).\".format(\n",
    "    trainable_layers, len(trainable_layers), log_begin_blue, log_begin_bold, log_end_format))\n"
   ]
  },
  {
   "cell_type": "markdown",
   "metadata": {},
   "source": [
    "As it can be seen, the above concludes that there are 53 layers in total for both trainable and frozen layers.\n",
    "\n",
    "#### Continue Building the model: \n",
    "\n",
    "Add the __\"trainable\" final dense layers__ to the ResNet model so that the model is able to output the predictions."
   ]
  },
  {
   "cell_type": "code",
   "execution_count": 25,
   "metadata": {},
   "outputs": [],
   "source": [
    "# Get the Output section of the ResNet model above:\n",
    "features = resnet50_featureExtractor.output\n",
    "\n",
    "# Apply the global average pooling:\n",
    "avg_pool = GlobalAveragePooling2D(data_format = 'channels_last')(features)\n",
    "\n",
    "# Add in the Final Dense Layers:\n",
    "predictions = Dense(nb_classes, \n",
    "                    activation='softmax',\n",
    "                   )(avg_pool)\n",
    "\n",
    "# Instantiate the COMPLETE MODEL:\n",
    "resnet50_freeze = Model(resnet50_featureExtractor.input, predictions)"
   ]
  },
  {
   "cell_type": "markdown",
   "metadata": {},
   "source": [
    "### 5.3.3 - Training the ResNet-50 Model:\n",
    "\n",
    "To do this, it is similar to previous notebooks."
   ]
  },
  {
   "cell_type": "code",
   "execution_count": 26,
   "metadata": {},
   "outputs": [],
   "source": [
    "# Import the required Libaries:\n",
    "import collections\n",
    "import functools\n",
    "from customCallbacks_Keras import Simplified_LogCallback"
   ]
  },
  {
   "cell_type": "markdown",
   "metadata": {},
   "source": [
    "#### Preparation for Training:"
   ]
  },
  {
   "cell_type": "code",
   "execution_count": 27,
   "metadata": {},
   "outputs": [],
   "source": [
    "# Define the model optimiser:\n",
    "optimiser = tf.keras.optimizers.SGD(momentum=0.9,\n",
    "                                    nesterov=True)\n",
    "\n",
    "# Define the accuracy metric:\n",
    "accuracy_metric = tf.metrics.SparseCategoricalAccuracy(name = 'acc')\n",
    "\n",
    "# Define the top-5 accuracy metric: a.k.a Top-K\n",
    "top5_acc_metric = tf.metrics.SparseTopKCategoricalAccuracy(k = 5,\n",
    "                                                           name = 'top5_acc')"
   ]
  },
  {
   "cell_type": "code",
   "execution_count": 28,
   "metadata": {},
   "outputs": [],
   "source": [
    "# Callback to log metrics at the end of each epoch: this saves space compared to Verbose = 1.\n",
    "metrics_to_print = collections.OrderedDict( [(\"loss\", \"loss\"), \n",
    "                                            (\"v-loss\", \"val_loss\"),\n",
    "                                            (\"acc\", \"acc\"), \n",
    "                                            (\"v-acc\", \"val_acc\"),\n",
    "                                            (\"top5-acc\", \"top5_acc\"), \n",
    "                                            (\"v-top5-acc\", \"val_top5_acc\")] \n",
    "                                          )"
   ]
  },
  {
   "cell_type": "code",
   "execution_count": 29,
   "metadata": {},
   "outputs": [
    {
     "name": "stdout",
     "output_type": "stream",
     "text": [
      "WARNING:tensorflow:`period` argument is deprecated. Please use `save_freq` to specify the frequency in number of samples seen.\n"
     ]
    },
    {
     "name": "stderr",
     "output_type": "stream",
     "text": [
      "WARNING:tensorflow:`period` argument is deprecated. Please use `save_freq` to specify the frequency in number of samples seen.\n"
     ]
    }
   ],
   "source": [
    "# Define the model directtory:\n",
    "model_dir = '.\\models\\ResNet50_freezeAll_run1'\n",
    "\n",
    "# Define the Callbacks:\n",
    "callbacks = [\n",
    "    \n",
    "    # Callback to interrupt the training if the validation loss/metric stops imrpoving for some amount of epochs:\n",
    "    tf.keras.callbacks.EarlyStopping(monitor ='val_acc',\n",
    "                                    patience =8,\n",
    "                                    restore_best_weights = True\n",
    "                                    ),\n",
    "    \n",
    "    # Callback to log the graph, Losses and Metrics into TensorBoard:\n",
    "    tf.keras.callbacks.TensorBoard(log_dir = model_dir,\n",
    "                                    histogram_freq = 0,\n",
    "                                    write_graph = True\n",
    "                                  ),\n",
    "    \n",
    "    # Callback to save the model: at every 5 epochs and specifies the poch and val-loss in the filename.\n",
    "    tf.keras.callbacks.ModelCheckpoint(\n",
    "        os.path.join(model_dir, 'weights-epoch{epoch:02}-loss{val_loss:.2f}.h5'), period = 5\n",
    "                                    ), \n",
    "    \n",
    "    # Log the Callbacks:\n",
    "    Simplified_LogCallback(metrics_dict = metrics_to_print,\n",
    "                           nb_epochs = nb_epochs,\n",
    "                           log_frequency= 1\n",
    "                          )  \n",
    "]\n",
    "\n"
   ]
  },
  {
   "cell_type": "markdown",
   "metadata": {},
   "source": [
    "#### Compile the model:"
   ]
  },
  {
   "cell_type": "code",
   "execution_count": 30,
   "metadata": {},
   "outputs": [],
   "source": [
    "# Compile the Model:\n",
    "resnet50_freeze.compile(optimizer = optimiser,\n",
    "                 loss = 'sparse_categorical_crossentropy',\n",
    "                 metrics = [accuracy_metric, top5_acc_metric]\n",
    "                )"
   ]
  },
  {
   "cell_type": "markdown",
   "metadata": {},
   "source": [
    "#### Run the training process for the model:"
   ]
  },
  {
   "cell_type": "code",
   "execution_count": 31,
   "metadata": {},
   "outputs": [],
   "source": [
    "# running time calculation\n",
    "start = timeit.default_timer()"
   ]
  },
  {
   "cell_type": "code",
   "execution_count": 32,
   "metadata": {},
   "outputs": [
    {
     "name": "stdout",
     "output_type": "stream",
     "text": [
      "Training: \u001b[91mstart\u001b[0m\n",
      "Epoch  0/300: \u001b[1mloss\u001b[0m = \u001b[94m1.990\u001b[0m; \u001b[1mv-loss\u001b[0m = \u001b[94m4.854\u001b[0m; \u001b[1macc\u001b[0m = \u001b[94m0.483\u001b[0m; \u001b[1mv-acc\u001b[0m = \u001b[94m0.143\u001b[0m; \u001b[1mtop5-acc\u001b[0m = \u001b[94m0.765\u001b[0m; \u001b[1mv-top5-acc\u001b[0m = \u001b[94m0.376\u001b[0m\n",
      "Epoch  1/300: \u001b[1mloss\u001b[0m = \u001b[94m1.189\u001b[0m; \u001b[1mv-loss\u001b[0m = \u001b[94m0.933\u001b[0m; \u001b[1macc\u001b[0m = \u001b[94m0.660\u001b[0m; \u001b[1mv-acc\u001b[0m = \u001b[94m0.725\u001b[0m; \u001b[1mtop5-acc\u001b[0m = \u001b[94m0.904\u001b[0m; \u001b[1mv-top5-acc\u001b[0m = \u001b[94m0.940\u001b[0m\n",
      "Epoch  2/300: \u001b[1mloss\u001b[0m = \u001b[94m0.998\u001b[0m; \u001b[1mv-loss\u001b[0m = \u001b[94m0.770\u001b[0m; \u001b[1macc\u001b[0m = \u001b[94m0.709\u001b[0m; \u001b[1mv-acc\u001b[0m = \u001b[94m0.768\u001b[0m; \u001b[1mtop5-acc\u001b[0m = \u001b[94m0.931\u001b[0m; \u001b[1mv-top5-acc\u001b[0m = \u001b[94m0.958\u001b[0m\n",
      "Epoch  3/300: \u001b[1mloss\u001b[0m = \u001b[94m0.878\u001b[0m; \u001b[1mv-loss\u001b[0m = \u001b[94m0.697\u001b[0m; \u001b[1macc\u001b[0m = \u001b[94m0.741\u001b[0m; \u001b[1mv-acc\u001b[0m = \u001b[94m0.789\u001b[0m; \u001b[1mtop5-acc\u001b[0m = \u001b[94m0.944\u001b[0m; \u001b[1mv-top5-acc\u001b[0m = \u001b[94m0.961\u001b[0m\n",
      "Epoch  4/300: \u001b[1mloss\u001b[0m = \u001b[94m0.792\u001b[0m; \u001b[1mv-loss\u001b[0m = \u001b[94m0.645\u001b[0m; \u001b[1macc\u001b[0m = \u001b[94m0.763\u001b[0m; \u001b[1mv-acc\u001b[0m = \u001b[94m0.803\u001b[0m; \u001b[1mtop5-acc\u001b[0m = \u001b[94m0.954\u001b[0m; \u001b[1mv-top5-acc\u001b[0m = \u001b[94m0.968\u001b[0m\n",
      "Epoch  5/300: \u001b[1mloss\u001b[0m = \u001b[94m0.740\u001b[0m; \u001b[1mv-loss\u001b[0m = \u001b[94m0.592\u001b[0m; \u001b[1macc\u001b[0m = \u001b[94m0.777\u001b[0m; \u001b[1mv-acc\u001b[0m = \u001b[94m0.818\u001b[0m; \u001b[1mtop5-acc\u001b[0m = \u001b[94m0.960\u001b[0m; \u001b[1mv-top5-acc\u001b[0m = \u001b[94m0.974\u001b[0m\n",
      "Epoch  6/300: \u001b[1mloss\u001b[0m = \u001b[94m0.679\u001b[0m; \u001b[1mv-loss\u001b[0m = \u001b[94m0.546\u001b[0m; \u001b[1macc\u001b[0m = \u001b[94m0.794\u001b[0m; \u001b[1mv-acc\u001b[0m = \u001b[94m0.830\u001b[0m; \u001b[1mtop5-acc\u001b[0m = \u001b[94m0.966\u001b[0m; \u001b[1mv-top5-acc\u001b[0m = \u001b[94m0.977\u001b[0m\n",
      "Epoch  7/300: \u001b[1mloss\u001b[0m = \u001b[94m0.648\u001b[0m; \u001b[1mv-loss\u001b[0m = \u001b[94m0.517\u001b[0m; \u001b[1macc\u001b[0m = \u001b[94m0.802\u001b[0m; \u001b[1mv-acc\u001b[0m = \u001b[94m0.841\u001b[0m; \u001b[1mtop5-acc\u001b[0m = \u001b[94m0.968\u001b[0m; \u001b[1mv-top5-acc\u001b[0m = \u001b[94m0.979\u001b[0m\n",
      "Epoch  8/300: \u001b[1mloss\u001b[0m = \u001b[94m0.614\u001b[0m; \u001b[1mv-loss\u001b[0m = \u001b[94m0.498\u001b[0m; \u001b[1macc\u001b[0m = \u001b[94m0.811\u001b[0m; \u001b[1mv-acc\u001b[0m = \u001b[94m0.849\u001b[0m; \u001b[1mtop5-acc\u001b[0m = \u001b[94m0.972\u001b[0m; \u001b[1mv-top5-acc\u001b[0m = \u001b[94m0.980\u001b[0m\n",
      "Epoch  9/300: \u001b[1mloss\u001b[0m = \u001b[94m0.570\u001b[0m; \u001b[1mv-loss\u001b[0m = \u001b[94m0.467\u001b[0m; \u001b[1macc\u001b[0m = \u001b[94m0.824\u001b[0m; \u001b[1mv-acc\u001b[0m = \u001b[94m0.855\u001b[0m; \u001b[1mtop5-acc\u001b[0m = \u001b[94m0.975\u001b[0m; \u001b[1mv-top5-acc\u001b[0m = \u001b[94m0.982\u001b[0m\n",
      "Epoch 10/300: \u001b[1mloss\u001b[0m = \u001b[94m0.560\u001b[0m; \u001b[1mv-loss\u001b[0m = \u001b[94m0.451\u001b[0m; \u001b[1macc\u001b[0m = \u001b[94m0.827\u001b[0m; \u001b[1mv-acc\u001b[0m = \u001b[94m0.860\u001b[0m; \u001b[1mtop5-acc\u001b[0m = \u001b[94m0.976\u001b[0m; \u001b[1mv-top5-acc\u001b[0m = \u001b[94m0.985\u001b[0m\n",
      "Epoch 11/300: \u001b[1mloss\u001b[0m = \u001b[94m0.531\u001b[0m; \u001b[1mv-loss\u001b[0m = \u001b[94m0.442\u001b[0m; \u001b[1macc\u001b[0m = \u001b[94m0.836\u001b[0m; \u001b[1mv-acc\u001b[0m = \u001b[94m0.858\u001b[0m; \u001b[1mtop5-acc\u001b[0m = \u001b[94m0.979\u001b[0m; \u001b[1mv-top5-acc\u001b[0m = \u001b[94m0.986\u001b[0m\n",
      "Epoch 12/300: \u001b[1mloss\u001b[0m = \u001b[94m0.515\u001b[0m; \u001b[1mv-loss\u001b[0m = \u001b[94m0.393\u001b[0m; \u001b[1macc\u001b[0m = \u001b[94m0.840\u001b[0m; \u001b[1mv-acc\u001b[0m = \u001b[94m0.876\u001b[0m; \u001b[1mtop5-acc\u001b[0m = \u001b[94m0.980\u001b[0m; \u001b[1mv-top5-acc\u001b[0m = \u001b[94m0.989\u001b[0m\n",
      "Epoch 13/300: \u001b[1mloss\u001b[0m = \u001b[94m0.491\u001b[0m; \u001b[1mv-loss\u001b[0m = \u001b[94m0.385\u001b[0m; \u001b[1macc\u001b[0m = \u001b[94m0.847\u001b[0m; \u001b[1mv-acc\u001b[0m = \u001b[94m0.877\u001b[0m; \u001b[1mtop5-acc\u001b[0m = \u001b[94m0.982\u001b[0m; \u001b[1mv-top5-acc\u001b[0m = \u001b[94m0.987\u001b[0m\n",
      "Epoch 14/300: \u001b[1mloss\u001b[0m = \u001b[94m0.477\u001b[0m; \u001b[1mv-loss\u001b[0m = \u001b[94m0.368\u001b[0m; \u001b[1macc\u001b[0m = \u001b[94m0.851\u001b[0m; \u001b[1mv-acc\u001b[0m = \u001b[94m0.883\u001b[0m; \u001b[1mtop5-acc\u001b[0m = \u001b[94m0.982\u001b[0m; \u001b[1mv-top5-acc\u001b[0m = \u001b[94m0.990\u001b[0m\n",
      "Epoch 15/300: \u001b[1mloss\u001b[0m = \u001b[94m0.459\u001b[0m; \u001b[1mv-loss\u001b[0m = \u001b[94m0.374\u001b[0m; \u001b[1macc\u001b[0m = \u001b[94m0.856\u001b[0m; \u001b[1mv-acc\u001b[0m = \u001b[94m0.880\u001b[0m; \u001b[1mtop5-acc\u001b[0m = \u001b[94m0.984\u001b[0m; \u001b[1mv-top5-acc\u001b[0m = \u001b[94m0.990\u001b[0m\n",
      "Epoch 16/300: \u001b[1mloss\u001b[0m = \u001b[94m0.448\u001b[0m; \u001b[1mv-loss\u001b[0m = \u001b[94m0.343\u001b[0m; \u001b[1macc\u001b[0m = \u001b[94m0.859\u001b[0m; \u001b[1mv-acc\u001b[0m = \u001b[94m0.893\u001b[0m; \u001b[1mtop5-acc\u001b[0m = \u001b[94m0.985\u001b[0m; \u001b[1mv-top5-acc\u001b[0m = \u001b[94m0.991\u001b[0m\n",
      "Epoch 17/300: \u001b[1mloss\u001b[0m = \u001b[94m0.432\u001b[0m; \u001b[1mv-loss\u001b[0m = \u001b[94m0.332\u001b[0m; \u001b[1macc\u001b[0m = \u001b[94m0.864\u001b[0m; \u001b[1mv-acc\u001b[0m = \u001b[94m0.898\u001b[0m; \u001b[1mtop5-acc\u001b[0m = \u001b[94m0.986\u001b[0m; \u001b[1mv-top5-acc\u001b[0m = \u001b[94m0.991\u001b[0m\n",
      "Epoch 18/300: \u001b[1mloss\u001b[0m = \u001b[94m0.415\u001b[0m; \u001b[1mv-loss\u001b[0m = \u001b[94m0.314\u001b[0m; \u001b[1macc\u001b[0m = \u001b[94m0.869\u001b[0m; \u001b[1mv-acc\u001b[0m = \u001b[94m0.905\u001b[0m; \u001b[1mtop5-acc\u001b[0m = \u001b[94m0.987\u001b[0m; \u001b[1mv-top5-acc\u001b[0m = \u001b[94m0.994\u001b[0m\n",
      "Epoch 19/300: \u001b[1mloss\u001b[0m = \u001b[94m0.404\u001b[0m; \u001b[1mv-loss\u001b[0m = \u001b[94m0.311\u001b[0m; \u001b[1macc\u001b[0m = \u001b[94m0.873\u001b[0m; \u001b[1mv-acc\u001b[0m = \u001b[94m0.904\u001b[0m; \u001b[1mtop5-acc\u001b[0m = \u001b[94m0.988\u001b[0m; \u001b[1mv-top5-acc\u001b[0m = \u001b[94m0.992\u001b[0m\n",
      "Epoch 20/300: \u001b[1mloss\u001b[0m = \u001b[94m0.394\u001b[0m; \u001b[1mv-loss\u001b[0m = \u001b[94m0.304\u001b[0m; \u001b[1macc\u001b[0m = \u001b[94m0.877\u001b[0m; \u001b[1mv-acc\u001b[0m = \u001b[94m0.901\u001b[0m; \u001b[1mtop5-acc\u001b[0m = \u001b[94m0.989\u001b[0m; \u001b[1mv-top5-acc\u001b[0m = \u001b[94m0.994\u001b[0m\n",
      "Epoch 21/300: \u001b[1mloss\u001b[0m = \u001b[94m0.390\u001b[0m; \u001b[1mv-loss\u001b[0m = \u001b[94m0.289\u001b[0m; \u001b[1macc\u001b[0m = \u001b[94m0.877\u001b[0m; \u001b[1mv-acc\u001b[0m = \u001b[94m0.913\u001b[0m; \u001b[1mtop5-acc\u001b[0m = \u001b[94m0.988\u001b[0m; \u001b[1mv-top5-acc\u001b[0m = \u001b[94m0.995\u001b[0m\n",
      "Epoch 22/300: \u001b[1mloss\u001b[0m = \u001b[94m0.377\u001b[0m; \u001b[1mv-loss\u001b[0m = \u001b[94m0.280\u001b[0m; \u001b[1macc\u001b[0m = \u001b[94m0.880\u001b[0m; \u001b[1mv-acc\u001b[0m = \u001b[94m0.914\u001b[0m; \u001b[1mtop5-acc\u001b[0m = \u001b[94m0.990\u001b[0m; \u001b[1mv-top5-acc\u001b[0m = \u001b[94m0.993\u001b[0m\n",
      "Epoch 23/300: \u001b[1mloss\u001b[0m = \u001b[94m0.366\u001b[0m; \u001b[1mv-loss\u001b[0m = \u001b[94m0.283\u001b[0m; \u001b[1macc\u001b[0m = \u001b[94m0.885\u001b[0m; \u001b[1mv-acc\u001b[0m = \u001b[94m0.912\u001b[0m; \u001b[1mtop5-acc\u001b[0m = \u001b[94m0.991\u001b[0m; \u001b[1mv-top5-acc\u001b[0m = \u001b[94m0.993\u001b[0m\n",
      "Epoch 24/300: \u001b[1mloss\u001b[0m = \u001b[94m0.354\u001b[0m; \u001b[1mv-loss\u001b[0m = \u001b[94m0.271\u001b[0m; \u001b[1macc\u001b[0m = \u001b[94m0.888\u001b[0m; \u001b[1mv-acc\u001b[0m = \u001b[94m0.916\u001b[0m; \u001b[1mtop5-acc\u001b[0m = \u001b[94m0.991\u001b[0m; \u001b[1mv-top5-acc\u001b[0m = \u001b[94m0.994\u001b[0m\n",
      "Epoch 25/300: \u001b[1mloss\u001b[0m = \u001b[94m0.347\u001b[0m; \u001b[1mv-loss\u001b[0m = \u001b[94m0.255\u001b[0m; \u001b[1macc\u001b[0m = \u001b[94m0.890\u001b[0m; \u001b[1mv-acc\u001b[0m = \u001b[94m0.922\u001b[0m; \u001b[1mtop5-acc\u001b[0m = \u001b[94m0.991\u001b[0m; \u001b[1mv-top5-acc\u001b[0m = \u001b[94m0.995\u001b[0m\n",
      "Epoch 26/300: \u001b[1mloss\u001b[0m = \u001b[94m0.339\u001b[0m; \u001b[1mv-loss\u001b[0m = \u001b[94m0.252\u001b[0m; \u001b[1macc\u001b[0m = \u001b[94m0.892\u001b[0m; \u001b[1mv-acc\u001b[0m = \u001b[94m0.920\u001b[0m; \u001b[1mtop5-acc\u001b[0m = \u001b[94m0.991\u001b[0m; \u001b[1mv-top5-acc\u001b[0m = \u001b[94m0.995\u001b[0m\n",
      "Epoch 27/300: \u001b[1mloss\u001b[0m = \u001b[94m0.336\u001b[0m; \u001b[1mv-loss\u001b[0m = \u001b[94m0.258\u001b[0m; \u001b[1macc\u001b[0m = \u001b[94m0.893\u001b[0m; \u001b[1mv-acc\u001b[0m = \u001b[94m0.923\u001b[0m; \u001b[1mtop5-acc\u001b[0m = \u001b[94m0.992\u001b[0m; \u001b[1mv-top5-acc\u001b[0m = \u001b[94m0.995\u001b[0m\n",
      "Epoch 28/300: \u001b[1mloss\u001b[0m = \u001b[94m0.323\u001b[0m; \u001b[1mv-loss\u001b[0m = \u001b[94m0.243\u001b[0m; \u001b[1macc\u001b[0m = \u001b[94m0.897\u001b[0m; \u001b[1mv-acc\u001b[0m = \u001b[94m0.927\u001b[0m; \u001b[1mtop5-acc\u001b[0m = \u001b[94m0.992\u001b[0m; \u001b[1mv-top5-acc\u001b[0m = \u001b[94m0.996\u001b[0m\n",
      "Epoch 29/300: \u001b[1mloss\u001b[0m = \u001b[94m0.322\u001b[0m; \u001b[1mv-loss\u001b[0m = \u001b[94m0.237\u001b[0m; \u001b[1macc\u001b[0m = \u001b[94m0.896\u001b[0m; \u001b[1mv-acc\u001b[0m = \u001b[94m0.927\u001b[0m; \u001b[1mtop5-acc\u001b[0m = \u001b[94m0.993\u001b[0m; \u001b[1mv-top5-acc\u001b[0m = \u001b[94m0.996\u001b[0m\n",
      "Epoch 30/300: \u001b[1mloss\u001b[0m = \u001b[94m0.319\u001b[0m; \u001b[1mv-loss\u001b[0m = \u001b[94m0.228\u001b[0m; \u001b[1macc\u001b[0m = \u001b[94m0.898\u001b[0m; \u001b[1mv-acc\u001b[0m = \u001b[94m0.931\u001b[0m; \u001b[1mtop5-acc\u001b[0m = \u001b[94m0.992\u001b[0m; \u001b[1mv-top5-acc\u001b[0m = \u001b[94m0.997\u001b[0m\n",
      "Epoch 31/300: \u001b[1mloss\u001b[0m = \u001b[94m0.303\u001b[0m; \u001b[1mv-loss\u001b[0m = \u001b[94m0.230\u001b[0m; \u001b[1macc\u001b[0m = \u001b[94m0.904\u001b[0m; \u001b[1mv-acc\u001b[0m = \u001b[94m0.927\u001b[0m; \u001b[1mtop5-acc\u001b[0m = \u001b[94m0.993\u001b[0m; \u001b[1mv-top5-acc\u001b[0m = \u001b[94m0.996\u001b[0m\n",
      "Epoch 32/300: \u001b[1mloss\u001b[0m = \u001b[94m0.301\u001b[0m; \u001b[1mv-loss\u001b[0m = \u001b[94m0.224\u001b[0m; \u001b[1macc\u001b[0m = \u001b[94m0.905\u001b[0m; \u001b[1mv-acc\u001b[0m = \u001b[94m0.931\u001b[0m; \u001b[1mtop5-acc\u001b[0m = \u001b[94m0.993\u001b[0m; \u001b[1mv-top5-acc\u001b[0m = \u001b[94m0.996\u001b[0m\n",
      "Epoch 33/300: \u001b[1mloss\u001b[0m = \u001b[94m0.300\u001b[0m; \u001b[1mv-loss\u001b[0m = \u001b[94m0.219\u001b[0m; \u001b[1macc\u001b[0m = \u001b[94m0.904\u001b[0m; \u001b[1mv-acc\u001b[0m = \u001b[94m0.931\u001b[0m; \u001b[1mtop5-acc\u001b[0m = \u001b[94m0.993\u001b[0m; \u001b[1mv-top5-acc\u001b[0m = \u001b[94m0.997\u001b[0m\n",
      "Epoch 34/300: \u001b[1mloss\u001b[0m = \u001b[94m0.287\u001b[0m; \u001b[1mv-loss\u001b[0m = \u001b[94m0.218\u001b[0m; \u001b[1macc\u001b[0m = \u001b[94m0.909\u001b[0m; \u001b[1mv-acc\u001b[0m = \u001b[94m0.932\u001b[0m; \u001b[1mtop5-acc\u001b[0m = \u001b[94m0.994\u001b[0m; \u001b[1mv-top5-acc\u001b[0m = \u001b[94m0.997\u001b[0m\n",
      "Epoch 35/300: \u001b[1mloss\u001b[0m = \u001b[94m0.284\u001b[0m; \u001b[1mv-loss\u001b[0m = \u001b[94m0.214\u001b[0m; \u001b[1macc\u001b[0m = \u001b[94m0.910\u001b[0m; \u001b[1mv-acc\u001b[0m = \u001b[94m0.933\u001b[0m; \u001b[1mtop5-acc\u001b[0m = \u001b[94m0.994\u001b[0m; \u001b[1mv-top5-acc\u001b[0m = \u001b[94m0.998\u001b[0m\n",
      "Epoch 36/300: \u001b[1mloss\u001b[0m = \u001b[94m0.285\u001b[0m; \u001b[1mv-loss\u001b[0m = \u001b[94m0.201\u001b[0m; \u001b[1macc\u001b[0m = \u001b[94m0.909\u001b[0m; \u001b[1mv-acc\u001b[0m = \u001b[94m0.936\u001b[0m; \u001b[1mtop5-acc\u001b[0m = \u001b[94m0.994\u001b[0m; \u001b[1mv-top5-acc\u001b[0m = \u001b[94m0.998\u001b[0m\n",
      "Epoch 37/300: \u001b[1mloss\u001b[0m = \u001b[94m0.274\u001b[0m; \u001b[1mv-loss\u001b[0m = \u001b[94m0.203\u001b[0m; \u001b[1macc\u001b[0m = \u001b[94m0.913\u001b[0m; \u001b[1mv-acc\u001b[0m = \u001b[94m0.938\u001b[0m; \u001b[1mtop5-acc\u001b[0m = \u001b[94m0.995\u001b[0m; \u001b[1mv-top5-acc\u001b[0m = \u001b[94m0.997\u001b[0m\n",
      "Epoch 38/300: \u001b[1mloss\u001b[0m = \u001b[94m0.274\u001b[0m; \u001b[1mv-loss\u001b[0m = \u001b[94m0.191\u001b[0m; \u001b[1macc\u001b[0m = \u001b[94m0.914\u001b[0m; \u001b[1mv-acc\u001b[0m = \u001b[94m0.942\u001b[0m; \u001b[1mtop5-acc\u001b[0m = \u001b[94m0.995\u001b[0m; \u001b[1mv-top5-acc\u001b[0m = \u001b[94m0.997\u001b[0m\n",
      "Epoch 39/300: \u001b[1mloss\u001b[0m = \u001b[94m0.272\u001b[0m; \u001b[1mv-loss\u001b[0m = \u001b[94m0.196\u001b[0m; \u001b[1macc\u001b[0m = \u001b[94m0.912\u001b[0m; \u001b[1mv-acc\u001b[0m = \u001b[94m0.940\u001b[0m; \u001b[1mtop5-acc\u001b[0m = \u001b[94m0.995\u001b[0m; \u001b[1mv-top5-acc\u001b[0m = \u001b[94m0.997\u001b[0m\n",
      "Epoch 40/300: \u001b[1mloss\u001b[0m = \u001b[94m0.264\u001b[0m; \u001b[1mv-loss\u001b[0m = \u001b[94m0.194\u001b[0m; \u001b[1macc\u001b[0m = \u001b[94m0.916\u001b[0m; \u001b[1mv-acc\u001b[0m = \u001b[94m0.941\u001b[0m; \u001b[1mtop5-acc\u001b[0m = \u001b[94m0.995\u001b[0m; \u001b[1mv-top5-acc\u001b[0m = \u001b[94m0.998\u001b[0m\n",
      "Epoch 41/300: \u001b[1mloss\u001b[0m = \u001b[94m0.262\u001b[0m; \u001b[1mv-loss\u001b[0m = \u001b[94m0.195\u001b[0m; \u001b[1macc\u001b[0m = \u001b[94m0.917\u001b[0m; \u001b[1mv-acc\u001b[0m = \u001b[94m0.940\u001b[0m; \u001b[1mtop5-acc\u001b[0m = \u001b[94m0.996\u001b[0m; \u001b[1mv-top5-acc\u001b[0m = \u001b[94m0.997\u001b[0m\n",
      "Epoch 42/300: \u001b[1mloss\u001b[0m = \u001b[94m0.256\u001b[0m; \u001b[1mv-loss\u001b[0m = \u001b[94m0.189\u001b[0m; \u001b[1macc\u001b[0m = \u001b[94m0.919\u001b[0m; \u001b[1mv-acc\u001b[0m = \u001b[94m0.939\u001b[0m; \u001b[1mtop5-acc\u001b[0m = \u001b[94m0.995\u001b[0m; \u001b[1mv-top5-acc\u001b[0m = \u001b[94m0.997\u001b[0m\n",
      "Epoch 43/300: \u001b[1mloss\u001b[0m = \u001b[94m0.252\u001b[0m; \u001b[1mv-loss\u001b[0m = \u001b[94m0.176\u001b[0m; \u001b[1macc\u001b[0m = \u001b[94m0.920\u001b[0m; \u001b[1mv-acc\u001b[0m = \u001b[94m0.945\u001b[0m; \u001b[1mtop5-acc\u001b[0m = \u001b[94m0.996\u001b[0m; \u001b[1mv-top5-acc\u001b[0m = \u001b[94m0.998\u001b[0m\n",
      "Epoch 44/300: \u001b[1mloss\u001b[0m = \u001b[94m0.249\u001b[0m; \u001b[1mv-loss\u001b[0m = \u001b[94m0.171\u001b[0m; \u001b[1macc\u001b[0m = \u001b[94m0.920\u001b[0m; \u001b[1mv-acc\u001b[0m = \u001b[94m0.946\u001b[0m; \u001b[1mtop5-acc\u001b[0m = \u001b[94m0.996\u001b[0m; \u001b[1mv-top5-acc\u001b[0m = \u001b[94m0.998\u001b[0m\n",
      "Epoch 45/300: \u001b[1mloss\u001b[0m = \u001b[94m0.246\u001b[0m; \u001b[1mv-loss\u001b[0m = \u001b[94m0.172\u001b[0m; \u001b[1macc\u001b[0m = \u001b[94m0.921\u001b[0m; \u001b[1mv-acc\u001b[0m = \u001b[94m0.945\u001b[0m; \u001b[1mtop5-acc\u001b[0m = \u001b[94m0.996\u001b[0m; \u001b[1mv-top5-acc\u001b[0m = \u001b[94m0.998\u001b[0m\n",
      "Epoch 46/300: \u001b[1mloss\u001b[0m = \u001b[94m0.243\u001b[0m; \u001b[1mv-loss\u001b[0m = \u001b[94m0.171\u001b[0m; \u001b[1macc\u001b[0m = \u001b[94m0.921\u001b[0m; \u001b[1mv-acc\u001b[0m = \u001b[94m0.948\u001b[0m; \u001b[1mtop5-acc\u001b[0m = \u001b[94m0.996\u001b[0m; \u001b[1mv-top5-acc\u001b[0m = \u001b[94m0.998\u001b[0m\n",
      "Epoch 47/300: \u001b[1mloss\u001b[0m = \u001b[94m0.236\u001b[0m; \u001b[1mv-loss\u001b[0m = \u001b[94m0.171\u001b[0m; \u001b[1macc\u001b[0m = \u001b[94m0.925\u001b[0m; \u001b[1mv-acc\u001b[0m = \u001b[94m0.947\u001b[0m; \u001b[1mtop5-acc\u001b[0m = \u001b[94m0.996\u001b[0m; \u001b[1mv-top5-acc\u001b[0m = \u001b[94m0.998\u001b[0m\n",
      "Epoch 48/300: \u001b[1mloss\u001b[0m = \u001b[94m0.231\u001b[0m; \u001b[1mv-loss\u001b[0m = \u001b[94m0.160\u001b[0m; \u001b[1macc\u001b[0m = \u001b[94m0.927\u001b[0m; \u001b[1mv-acc\u001b[0m = \u001b[94m0.952\u001b[0m; \u001b[1mtop5-acc\u001b[0m = \u001b[94m0.996\u001b[0m; \u001b[1mv-top5-acc\u001b[0m = \u001b[94m0.999\u001b[0m\n",
      "Epoch 49/300: \u001b[1mloss\u001b[0m = \u001b[94m0.235\u001b[0m; \u001b[1mv-loss\u001b[0m = \u001b[94m0.162\u001b[0m; \u001b[1macc\u001b[0m = \u001b[94m0.926\u001b[0m; \u001b[1mv-acc\u001b[0m = \u001b[94m0.950\u001b[0m; \u001b[1mtop5-acc\u001b[0m = \u001b[94m0.996\u001b[0m; \u001b[1mv-top5-acc\u001b[0m = \u001b[94m0.998\u001b[0m\n",
      "Epoch 50/300: \u001b[1mloss\u001b[0m = \u001b[94m0.229\u001b[0m; \u001b[1mv-loss\u001b[0m = \u001b[94m0.161\u001b[0m; \u001b[1macc\u001b[0m = \u001b[94m0.927\u001b[0m; \u001b[1mv-acc\u001b[0m = \u001b[94m0.951\u001b[0m; \u001b[1mtop5-acc\u001b[0m = \u001b[94m0.996\u001b[0m; \u001b[1mv-top5-acc\u001b[0m = \u001b[94m0.998\u001b[0m\n",
      "Epoch 51/300: \u001b[1mloss\u001b[0m = \u001b[94m0.226\u001b[0m; \u001b[1mv-loss\u001b[0m = \u001b[94m0.168\u001b[0m; \u001b[1macc\u001b[0m = \u001b[94m0.929\u001b[0m; \u001b[1mv-acc\u001b[0m = \u001b[94m0.950\u001b[0m; \u001b[1mtop5-acc\u001b[0m = \u001b[94m0.997\u001b[0m; \u001b[1mv-top5-acc\u001b[0m = \u001b[94m0.998\u001b[0m\n",
      "Epoch 52/300: \u001b[1mloss\u001b[0m = \u001b[94m0.224\u001b[0m; \u001b[1mv-loss\u001b[0m = \u001b[94m0.159\u001b[0m; \u001b[1macc\u001b[0m = \u001b[94m0.928\u001b[0m; \u001b[1mv-acc\u001b[0m = \u001b[94m0.952\u001b[0m; \u001b[1mtop5-acc\u001b[0m = \u001b[94m0.997\u001b[0m; \u001b[1mv-top5-acc\u001b[0m = \u001b[94m0.998\u001b[0m\n",
      "Epoch 53/300: \u001b[1mloss\u001b[0m = \u001b[94m0.222\u001b[0m; \u001b[1mv-loss\u001b[0m = \u001b[94m0.153\u001b[0m; \u001b[1macc\u001b[0m = \u001b[94m0.930\u001b[0m; \u001b[1mv-acc\u001b[0m = \u001b[94m0.953\u001b[0m; \u001b[1mtop5-acc\u001b[0m = \u001b[94m0.996\u001b[0m; \u001b[1mv-top5-acc\u001b[0m = \u001b[94m0.998\u001b[0m\n",
      "Epoch 54/300: \u001b[1mloss\u001b[0m = \u001b[94m0.220\u001b[0m; \u001b[1mv-loss\u001b[0m = \u001b[94m0.158\u001b[0m; \u001b[1macc\u001b[0m = \u001b[94m0.930\u001b[0m; \u001b[1mv-acc\u001b[0m = \u001b[94m0.950\u001b[0m; \u001b[1mtop5-acc\u001b[0m = \u001b[94m0.997\u001b[0m; \u001b[1mv-top5-acc\u001b[0m = \u001b[94m0.998\u001b[0m\n",
      "Epoch 55/300: \u001b[1mloss\u001b[0m = \u001b[94m0.217\u001b[0m; \u001b[1mv-loss\u001b[0m = \u001b[94m0.147\u001b[0m; \u001b[1macc\u001b[0m = \u001b[94m0.932\u001b[0m; \u001b[1mv-acc\u001b[0m = \u001b[94m0.955\u001b[0m; \u001b[1mtop5-acc\u001b[0m = \u001b[94m0.997\u001b[0m; \u001b[1mv-top5-acc\u001b[0m = \u001b[94m0.998\u001b[0m\n",
      "Epoch 56/300: \u001b[1mloss\u001b[0m = \u001b[94m0.215\u001b[0m; \u001b[1mv-loss\u001b[0m = \u001b[94m0.140\u001b[0m; \u001b[1macc\u001b[0m = \u001b[94m0.932\u001b[0m; \u001b[1mv-acc\u001b[0m = \u001b[94m0.957\u001b[0m; \u001b[1mtop5-acc\u001b[0m = \u001b[94m0.997\u001b[0m; \u001b[1mv-top5-acc\u001b[0m = \u001b[94m0.999\u001b[0m\n",
      "Epoch 57/300: \u001b[1mloss\u001b[0m = \u001b[94m0.206\u001b[0m; \u001b[1mv-loss\u001b[0m = \u001b[94m0.146\u001b[0m; \u001b[1macc\u001b[0m = \u001b[94m0.935\u001b[0m; \u001b[1mv-acc\u001b[0m = \u001b[94m0.956\u001b[0m; \u001b[1mtop5-acc\u001b[0m = \u001b[94m0.997\u001b[0m; \u001b[1mv-top5-acc\u001b[0m = \u001b[94m0.999\u001b[0m\n",
      "Epoch 58/300: \u001b[1mloss\u001b[0m = \u001b[94m0.209\u001b[0m; \u001b[1mv-loss\u001b[0m = \u001b[94m0.140\u001b[0m; \u001b[1macc\u001b[0m = \u001b[94m0.934\u001b[0m; \u001b[1mv-acc\u001b[0m = \u001b[94m0.959\u001b[0m; \u001b[1mtop5-acc\u001b[0m = \u001b[94m0.997\u001b[0m; \u001b[1mv-top5-acc\u001b[0m = \u001b[94m0.998\u001b[0m\n",
      "Epoch 59/300: \u001b[1mloss\u001b[0m = \u001b[94m0.202\u001b[0m; \u001b[1mv-loss\u001b[0m = \u001b[94m0.150\u001b[0m; \u001b[1macc\u001b[0m = \u001b[94m0.937\u001b[0m; \u001b[1mv-acc\u001b[0m = \u001b[94m0.956\u001b[0m; \u001b[1mtop5-acc\u001b[0m = \u001b[94m0.997\u001b[0m; \u001b[1mv-top5-acc\u001b[0m = \u001b[94m0.998\u001b[0m\n",
      "Epoch 60/300: \u001b[1mloss\u001b[0m = \u001b[94m0.203\u001b[0m; \u001b[1mv-loss\u001b[0m = \u001b[94m0.134\u001b[0m; \u001b[1macc\u001b[0m = \u001b[94m0.936\u001b[0m; \u001b[1mv-acc\u001b[0m = \u001b[94m0.960\u001b[0m; \u001b[1mtop5-acc\u001b[0m = \u001b[94m0.997\u001b[0m; \u001b[1mv-top5-acc\u001b[0m = \u001b[94m0.999\u001b[0m\n",
      "Epoch 61/300: \u001b[1mloss\u001b[0m = \u001b[94m0.197\u001b[0m; \u001b[1mv-loss\u001b[0m = \u001b[94m0.141\u001b[0m; \u001b[1macc\u001b[0m = \u001b[94m0.937\u001b[0m; \u001b[1mv-acc\u001b[0m = \u001b[94m0.957\u001b[0m; \u001b[1mtop5-acc\u001b[0m = \u001b[94m0.997\u001b[0m; \u001b[1mv-top5-acc\u001b[0m = \u001b[94m0.999\u001b[0m\n",
      "Epoch 62/300: \u001b[1mloss\u001b[0m = \u001b[94m0.201\u001b[0m; \u001b[1mv-loss\u001b[0m = \u001b[94m0.136\u001b[0m; \u001b[1macc\u001b[0m = \u001b[94m0.937\u001b[0m; \u001b[1mv-acc\u001b[0m = \u001b[94m0.958\u001b[0m; \u001b[1mtop5-acc\u001b[0m = \u001b[94m0.997\u001b[0m; \u001b[1mv-top5-acc\u001b[0m = \u001b[94m0.999\u001b[0m\n",
      "Epoch 63/300: \u001b[1mloss\u001b[0m = \u001b[94m0.195\u001b[0m; \u001b[1mv-loss\u001b[0m = \u001b[94m0.134\u001b[0m; \u001b[1macc\u001b[0m = \u001b[94m0.938\u001b[0m; \u001b[1mv-acc\u001b[0m = \u001b[94m0.959\u001b[0m; \u001b[1mtop5-acc\u001b[0m = \u001b[94m0.997\u001b[0m; \u001b[1mv-top5-acc\u001b[0m = \u001b[94m0.999\u001b[0m\n",
      "Epoch 64/300: \u001b[1mloss\u001b[0m = \u001b[94m0.190\u001b[0m; \u001b[1mv-loss\u001b[0m = \u001b[94m0.131\u001b[0m; \u001b[1macc\u001b[0m = \u001b[94m0.939\u001b[0m; \u001b[1mv-acc\u001b[0m = \u001b[94m0.961\u001b[0m; \u001b[1mtop5-acc\u001b[0m = \u001b[94m0.998\u001b[0m; \u001b[1mv-top5-acc\u001b[0m = \u001b[94m0.999\u001b[0m\n",
      "Epoch 65/300: \u001b[1mloss\u001b[0m = \u001b[94m0.196\u001b[0m; \u001b[1mv-loss\u001b[0m = \u001b[94m0.134\u001b[0m; \u001b[1macc\u001b[0m = \u001b[94m0.939\u001b[0m; \u001b[1mv-acc\u001b[0m = \u001b[94m0.961\u001b[0m; \u001b[1mtop5-acc\u001b[0m = \u001b[94m0.997\u001b[0m; \u001b[1mv-top5-acc\u001b[0m = \u001b[94m0.999\u001b[0m\n",
      "Epoch 66/300: \u001b[1mloss\u001b[0m = \u001b[94m0.188\u001b[0m; \u001b[1mv-loss\u001b[0m = \u001b[94m0.133\u001b[0m; \u001b[1macc\u001b[0m = \u001b[94m0.941\u001b[0m; \u001b[1mv-acc\u001b[0m = \u001b[94m0.961\u001b[0m; \u001b[1mtop5-acc\u001b[0m = \u001b[94m0.998\u001b[0m; \u001b[1mv-top5-acc\u001b[0m = \u001b[94m0.999\u001b[0m\n",
      "Epoch 67/300: \u001b[1mloss\u001b[0m = \u001b[94m0.189\u001b[0m; \u001b[1mv-loss\u001b[0m = \u001b[94m0.131\u001b[0m; \u001b[1macc\u001b[0m = \u001b[94m0.940\u001b[0m; \u001b[1mv-acc\u001b[0m = \u001b[94m0.961\u001b[0m; \u001b[1mtop5-acc\u001b[0m = \u001b[94m0.997\u001b[0m; \u001b[1mv-top5-acc\u001b[0m = \u001b[94m0.999\u001b[0m\n",
      "Epoch 68/300: \u001b[1mloss\u001b[0m = \u001b[94m0.183\u001b[0m; \u001b[1mv-loss\u001b[0m = \u001b[94m0.127\u001b[0m; \u001b[1macc\u001b[0m = \u001b[94m0.942\u001b[0m; \u001b[1mv-acc\u001b[0m = \u001b[94m0.964\u001b[0m; \u001b[1mtop5-acc\u001b[0m = \u001b[94m0.998\u001b[0m; \u001b[1mv-top5-acc\u001b[0m = \u001b[94m0.999\u001b[0m\n",
      "Epoch 69/300: \u001b[1mloss\u001b[0m = \u001b[94m0.190\u001b[0m; \u001b[1mv-loss\u001b[0m = \u001b[94m0.131\u001b[0m; \u001b[1macc\u001b[0m = \u001b[94m0.940\u001b[0m; \u001b[1mv-acc\u001b[0m = \u001b[94m0.959\u001b[0m; \u001b[1mtop5-acc\u001b[0m = \u001b[94m0.998\u001b[0m; \u001b[1mv-top5-acc\u001b[0m = \u001b[94m0.998\u001b[0m\n",
      "Epoch 70/300: \u001b[1mloss\u001b[0m = \u001b[94m0.185\u001b[0m; \u001b[1mv-loss\u001b[0m = \u001b[94m0.122\u001b[0m; \u001b[1macc\u001b[0m = \u001b[94m0.942\u001b[0m; \u001b[1mv-acc\u001b[0m = \u001b[94m0.966\u001b[0m; \u001b[1mtop5-acc\u001b[0m = \u001b[94m0.997\u001b[0m; \u001b[1mv-top5-acc\u001b[0m = \u001b[94m0.999\u001b[0m\n",
      "Epoch 71/300: \u001b[1mloss\u001b[0m = \u001b[94m0.181\u001b[0m; \u001b[1mv-loss\u001b[0m = \u001b[94m0.117\u001b[0m; \u001b[1macc\u001b[0m = \u001b[94m0.944\u001b[0m; \u001b[1mv-acc\u001b[0m = \u001b[94m0.965\u001b[0m; \u001b[1mtop5-acc\u001b[0m = \u001b[94m0.997\u001b[0m; \u001b[1mv-top5-acc\u001b[0m = \u001b[94m0.999\u001b[0m\n",
      "Epoch 72/300: \u001b[1mloss\u001b[0m = \u001b[94m0.180\u001b[0m; \u001b[1mv-loss\u001b[0m = \u001b[94m0.132\u001b[0m; \u001b[1macc\u001b[0m = \u001b[94m0.943\u001b[0m; \u001b[1mv-acc\u001b[0m = \u001b[94m0.959\u001b[0m; \u001b[1mtop5-acc\u001b[0m = \u001b[94m0.998\u001b[0m; \u001b[1mv-top5-acc\u001b[0m = \u001b[94m0.998\u001b[0m\n",
      "Epoch 73/300: \u001b[1mloss\u001b[0m = \u001b[94m0.178\u001b[0m; \u001b[1mv-loss\u001b[0m = \u001b[94m0.123\u001b[0m; \u001b[1macc\u001b[0m = \u001b[94m0.944\u001b[0m; \u001b[1mv-acc\u001b[0m = \u001b[94m0.961\u001b[0m; \u001b[1mtop5-acc\u001b[0m = \u001b[94m0.998\u001b[0m; \u001b[1mv-top5-acc\u001b[0m = \u001b[94m0.999\u001b[0m\n",
      "Epoch 74/300: \u001b[1mloss\u001b[0m = \u001b[94m0.177\u001b[0m; \u001b[1mv-loss\u001b[0m = \u001b[94m0.125\u001b[0m; \u001b[1macc\u001b[0m = \u001b[94m0.944\u001b[0m; \u001b[1mv-acc\u001b[0m = \u001b[94m0.963\u001b[0m; \u001b[1mtop5-acc\u001b[0m = \u001b[94m0.998\u001b[0m; \u001b[1mv-top5-acc\u001b[0m = \u001b[94m0.999\u001b[0m\n",
      "Epoch 75/300: \u001b[1mloss\u001b[0m = \u001b[94m0.174\u001b[0m; \u001b[1mv-loss\u001b[0m = \u001b[94m0.116\u001b[0m; \u001b[1macc\u001b[0m = \u001b[94m0.945\u001b[0m; \u001b[1mv-acc\u001b[0m = \u001b[94m0.967\u001b[0m; \u001b[1mtop5-acc\u001b[0m = \u001b[94m0.997\u001b[0m; \u001b[1mv-top5-acc\u001b[0m = \u001b[94m0.999\u001b[0m\n",
      "Epoch 76/300: \u001b[1mloss\u001b[0m = \u001b[94m0.173\u001b[0m; \u001b[1mv-loss\u001b[0m = \u001b[94m0.117\u001b[0m; \u001b[1macc\u001b[0m = \u001b[94m0.945\u001b[0m; \u001b[1mv-acc\u001b[0m = \u001b[94m0.965\u001b[0m; \u001b[1mtop5-acc\u001b[0m = \u001b[94m0.998\u001b[0m; \u001b[1mv-top5-acc\u001b[0m = \u001b[94m0.999\u001b[0m\n",
      "Epoch 77/300: \u001b[1mloss\u001b[0m = \u001b[94m0.173\u001b[0m; \u001b[1mv-loss\u001b[0m = \u001b[94m0.116\u001b[0m; \u001b[1macc\u001b[0m = \u001b[94m0.945\u001b[0m; \u001b[1mv-acc\u001b[0m = \u001b[94m0.967\u001b[0m; \u001b[1mtop5-acc\u001b[0m = \u001b[94m0.998\u001b[0m; \u001b[1mv-top5-acc\u001b[0m = \u001b[94m0.999\u001b[0m\n",
      "Epoch 78/300: \u001b[1mloss\u001b[0m = \u001b[94m0.169\u001b[0m; \u001b[1mv-loss\u001b[0m = \u001b[94m0.111\u001b[0m; \u001b[1macc\u001b[0m = \u001b[94m0.948\u001b[0m; \u001b[1mv-acc\u001b[0m = \u001b[94m0.967\u001b[0m; \u001b[1mtop5-acc\u001b[0m = \u001b[94m0.998\u001b[0m; \u001b[1mv-top5-acc\u001b[0m = \u001b[94m0.999\u001b[0m\n",
      "Epoch 79/300: \u001b[1mloss\u001b[0m = \u001b[94m0.169\u001b[0m; \u001b[1mv-loss\u001b[0m = \u001b[94m0.109\u001b[0m; \u001b[1macc\u001b[0m = \u001b[94m0.946\u001b[0m; \u001b[1mv-acc\u001b[0m = \u001b[94m0.968\u001b[0m; \u001b[1mtop5-acc\u001b[0m = \u001b[94m0.998\u001b[0m; \u001b[1mv-top5-acc\u001b[0m = \u001b[94m0.999\u001b[0m\n",
      "Epoch 80/300: \u001b[1mloss\u001b[0m = \u001b[94m0.171\u001b[0m; \u001b[1mv-loss\u001b[0m = \u001b[94m0.107\u001b[0m; \u001b[1macc\u001b[0m = \u001b[94m0.947\u001b[0m; \u001b[1mv-acc\u001b[0m = \u001b[94m0.969\u001b[0m; \u001b[1mtop5-acc\u001b[0m = \u001b[94m0.998\u001b[0m; \u001b[1mv-top5-acc\u001b[0m = \u001b[94m0.999\u001b[0m\n",
      "Epoch 81/300: \u001b[1mloss\u001b[0m = \u001b[94m0.169\u001b[0m; \u001b[1mv-loss\u001b[0m = \u001b[94m0.114\u001b[0m; \u001b[1macc\u001b[0m = \u001b[94m0.948\u001b[0m; \u001b[1mv-acc\u001b[0m = \u001b[94m0.966\u001b[0m; \u001b[1mtop5-acc\u001b[0m = \u001b[94m0.998\u001b[0m; \u001b[1mv-top5-acc\u001b[0m = \u001b[94m0.999\u001b[0m\n",
      "Epoch 82/300: \u001b[1mloss\u001b[0m = \u001b[94m0.167\u001b[0m; \u001b[1mv-loss\u001b[0m = \u001b[94m0.104\u001b[0m; \u001b[1macc\u001b[0m = \u001b[94m0.948\u001b[0m; \u001b[1mv-acc\u001b[0m = \u001b[94m0.971\u001b[0m; \u001b[1mtop5-acc\u001b[0m = \u001b[94m0.998\u001b[0m; \u001b[1mv-top5-acc\u001b[0m = \u001b[94m0.999\u001b[0m\n",
      "Epoch 83/300: \u001b[1mloss\u001b[0m = \u001b[94m0.167\u001b[0m; \u001b[1mv-loss\u001b[0m = \u001b[94m0.107\u001b[0m; \u001b[1macc\u001b[0m = \u001b[94m0.948\u001b[0m; \u001b[1mv-acc\u001b[0m = \u001b[94m0.969\u001b[0m; \u001b[1mtop5-acc\u001b[0m = \u001b[94m0.998\u001b[0m; \u001b[1mv-top5-acc\u001b[0m = \u001b[94m0.999\u001b[0m\n",
      "Epoch 84/300: \u001b[1mloss\u001b[0m = \u001b[94m0.164\u001b[0m; \u001b[1mv-loss\u001b[0m = \u001b[94m0.106\u001b[0m; \u001b[1macc\u001b[0m = \u001b[94m0.947\u001b[0m; \u001b[1mv-acc\u001b[0m = \u001b[94m0.969\u001b[0m; \u001b[1mtop5-acc\u001b[0m = \u001b[94m0.998\u001b[0m; \u001b[1mv-top5-acc\u001b[0m = \u001b[94m0.999\u001b[0m\n",
      "Epoch 85/300: \u001b[1mloss\u001b[0m = \u001b[94m0.163\u001b[0m; \u001b[1mv-loss\u001b[0m = \u001b[94m0.109\u001b[0m; \u001b[1macc\u001b[0m = \u001b[94m0.948\u001b[0m; \u001b[1mv-acc\u001b[0m = \u001b[94m0.970\u001b[0m; \u001b[1mtop5-acc\u001b[0m = \u001b[94m0.998\u001b[0m; \u001b[1mv-top5-acc\u001b[0m = \u001b[94m0.999\u001b[0m\n",
      "Epoch 86/300: \u001b[1mloss\u001b[0m = \u001b[94m0.162\u001b[0m; \u001b[1mv-loss\u001b[0m = \u001b[94m0.109\u001b[0m; \u001b[1macc\u001b[0m = \u001b[94m0.949\u001b[0m; \u001b[1mv-acc\u001b[0m = \u001b[94m0.967\u001b[0m; \u001b[1mtop5-acc\u001b[0m = \u001b[94m0.998\u001b[0m; \u001b[1mv-top5-acc\u001b[0m = \u001b[94m0.999\u001b[0m\n",
      "Epoch 87/300: \u001b[1mloss\u001b[0m = \u001b[94m0.154\u001b[0m; \u001b[1mv-loss\u001b[0m = \u001b[94m0.113\u001b[0m; \u001b[1macc\u001b[0m = \u001b[94m0.952\u001b[0m; \u001b[1mv-acc\u001b[0m = \u001b[94m0.966\u001b[0m; \u001b[1mtop5-acc\u001b[0m = \u001b[94m0.998\u001b[0m; \u001b[1mv-top5-acc\u001b[0m = \u001b[94m0.999\u001b[0m\n",
      "Epoch 88/300: \u001b[1mloss\u001b[0m = \u001b[94m0.160\u001b[0m; \u001b[1mv-loss\u001b[0m = \u001b[94m0.095\u001b[0m; \u001b[1macc\u001b[0m = \u001b[94m0.950\u001b[0m; \u001b[1mv-acc\u001b[0m = \u001b[94m0.973\u001b[0m; \u001b[1mtop5-acc\u001b[0m = \u001b[94m0.998\u001b[0m; \u001b[1mv-top5-acc\u001b[0m = \u001b[94m0.999\u001b[0m\n",
      "Epoch 89/300: \u001b[1mloss\u001b[0m = \u001b[94m0.154\u001b[0m; \u001b[1mv-loss\u001b[0m = \u001b[94m0.107\u001b[0m; \u001b[1macc\u001b[0m = \u001b[94m0.952\u001b[0m; \u001b[1mv-acc\u001b[0m = \u001b[94m0.970\u001b[0m; \u001b[1mtop5-acc\u001b[0m = \u001b[94m0.998\u001b[0m; \u001b[1mv-top5-acc\u001b[0m = \u001b[94m0.999\u001b[0m\n",
      "Epoch 90/300: \u001b[1mloss\u001b[0m = \u001b[94m0.158\u001b[0m; \u001b[1mv-loss\u001b[0m = \u001b[94m0.101\u001b[0m; \u001b[1macc\u001b[0m = \u001b[94m0.951\u001b[0m; \u001b[1mv-acc\u001b[0m = \u001b[94m0.974\u001b[0m; \u001b[1mtop5-acc\u001b[0m = \u001b[94m0.998\u001b[0m; \u001b[1mv-top5-acc\u001b[0m = \u001b[94m0.999\u001b[0m\n",
      "Epoch 91/300: \u001b[1mloss\u001b[0m = \u001b[94m0.152\u001b[0m; \u001b[1mv-loss\u001b[0m = \u001b[94m0.099\u001b[0m; \u001b[1macc\u001b[0m = \u001b[94m0.952\u001b[0m; \u001b[1mv-acc\u001b[0m = \u001b[94m0.971\u001b[0m; \u001b[1mtop5-acc\u001b[0m = \u001b[94m0.998\u001b[0m; \u001b[1mv-top5-acc\u001b[0m = \u001b[94m0.999\u001b[0m\n",
      "Epoch 92/300: \u001b[1mloss\u001b[0m = \u001b[94m0.150\u001b[0m; \u001b[1mv-loss\u001b[0m = \u001b[94m0.100\u001b[0m; \u001b[1macc\u001b[0m = \u001b[94m0.953\u001b[0m; \u001b[1mv-acc\u001b[0m = \u001b[94m0.970\u001b[0m; \u001b[1mtop5-acc\u001b[0m = \u001b[94m0.998\u001b[0m; \u001b[1mv-top5-acc\u001b[0m = \u001b[94m0.999\u001b[0m\n",
      "Epoch 93/300: \u001b[1mloss\u001b[0m = \u001b[94m0.151\u001b[0m; \u001b[1mv-loss\u001b[0m = \u001b[94m0.098\u001b[0m; \u001b[1macc\u001b[0m = \u001b[94m0.953\u001b[0m; \u001b[1mv-acc\u001b[0m = \u001b[94m0.972\u001b[0m; \u001b[1mtop5-acc\u001b[0m = \u001b[94m0.998\u001b[0m; \u001b[1mv-top5-acc\u001b[0m = \u001b[94m0.999\u001b[0m\n",
      "Epoch 94/300: \u001b[1mloss\u001b[0m = \u001b[94m0.155\u001b[0m; \u001b[1mv-loss\u001b[0m = \u001b[94m0.096\u001b[0m; \u001b[1macc\u001b[0m = \u001b[94m0.950\u001b[0m; \u001b[1mv-acc\u001b[0m = \u001b[94m0.973\u001b[0m; \u001b[1mtop5-acc\u001b[0m = \u001b[94m0.998\u001b[0m; \u001b[1mv-top5-acc\u001b[0m = \u001b[94m0.999\u001b[0m\n",
      "Epoch 95/300: \u001b[1mloss\u001b[0m = \u001b[94m0.150\u001b[0m; \u001b[1mv-loss\u001b[0m = \u001b[94m0.105\u001b[0m; \u001b[1macc\u001b[0m = \u001b[94m0.953\u001b[0m; \u001b[1mv-acc\u001b[0m = \u001b[94m0.968\u001b[0m; \u001b[1mtop5-acc\u001b[0m = \u001b[94m0.998\u001b[0m; \u001b[1mv-top5-acc\u001b[0m = \u001b[94m0.999\u001b[0m\n",
      "Epoch 96/300: \u001b[1mloss\u001b[0m = \u001b[94m0.150\u001b[0m; \u001b[1mv-loss\u001b[0m = \u001b[94m0.098\u001b[0m; \u001b[1macc\u001b[0m = \u001b[94m0.952\u001b[0m; \u001b[1mv-acc\u001b[0m = \u001b[94m0.973\u001b[0m; \u001b[1mtop5-acc\u001b[0m = \u001b[94m0.998\u001b[0m; \u001b[1mv-top5-acc\u001b[0m = \u001b[94m0.999\u001b[0m\n",
      "Epoch 97/300: \u001b[1mloss\u001b[0m = \u001b[94m0.152\u001b[0m; \u001b[1mv-loss\u001b[0m = \u001b[94m0.098\u001b[0m; \u001b[1macc\u001b[0m = \u001b[94m0.952\u001b[0m; \u001b[1mv-acc\u001b[0m = \u001b[94m0.972\u001b[0m; \u001b[1mtop5-acc\u001b[0m = \u001b[94m0.998\u001b[0m; \u001b[1mv-top5-acc\u001b[0m = \u001b[94m0.999\u001b[0m\n",
      "Epoch 98/300: \u001b[1mloss\u001b[0m = \u001b[94m0.150\u001b[0m; \u001b[1mv-loss\u001b[0m = \u001b[94m0.094\u001b[0m; \u001b[1macc\u001b[0m = \u001b[94m0.953\u001b[0m; \u001b[1mv-acc\u001b[0m = \u001b[94m0.972\u001b[0m; \u001b[1mtop5-acc\u001b[0m = \u001b[94m0.998\u001b[0m; \u001b[1mv-top5-acc\u001b[0m = \u001b[94m1.000\u001b[0m\n",
      "Training: \u001b[92mend\u001b[0m\n"
     ]
    }
   ],
   "source": [
    "history_resnet50_freeze = resnet50_freeze.fit(train_set_cifar,\n",
    "                                              epochs = nb_epochs,\n",
    "                                              steps_per_epoch= train_steps_per_epoch,\n",
    "                                              validation_data= (val_set_cifar),\n",
    "                                              validation_steps= valid_steps_per_epoch,\n",
    "                                              verbose=0,\n",
    "                                              callbacks= callbacks)"
   ]
  },
  {
   "cell_type": "code",
   "execution_count": 33,
   "metadata": {},
   "outputs": [
    {
     "name": "stdout",
     "output_type": "stream",
     "text": [
      "Time: 482.09 Minutes\n",
      "Time: 8.03 hours\n"
     ]
    }
   ],
   "source": [
    "# Stop the timer:\n",
    "stop = timeit.default_timer()\n",
    "print('Time: {} Minutes'.format(round((stop - start)/60, 2)))\n",
    "print('Time: {} hours'.format(round((stop - start)/3600, 2)))"
   ]
  },
  {
   "cell_type": "markdown",
   "metadata": {},
   "source": [
    "### Observation:\n",
    "\n",
    "\n",
    "## 6 - Model Performance:\n",
    "\n",
    "## 6.1 - Inspect TensorBoard:\n",
    "\n",
    "These can also be found in TensorBoard with the input in terminal: \"tensorboard --logdir ./models\" or in this case, \"tensorboard --logdir .\\models\\ResNet50_freezeAll_run1\""
   ]
  },
  {
   "cell_type": "markdown",
   "metadata": {},
   "source": [
    "![Tensorboard screenshot - joint results](./Description\\ Images/ResNet50_freezeAll_run1.png)"
   ]
  },
  {
   "cell_type": "markdown",
   "metadata": {},
   "source": [
    "## 6.2 - Plot of the Model's Performance:\n",
    "\n",
    "NOTE: the \"history\" object returned from the \"model.fit()\" method also provides data for plotting the training metrics. The following till plot these metrics."
   ]
  },
  {
   "cell_type": "code",
   "execution_count": 34,
   "metadata": {},
   "outputs": [
    {
     "data": {
      "text/plain": [
       "[<matplotlib.lines.Line2D at 0x262ff00be88>]"
      ]
     },
     "execution_count": 34,
     "metadata": {},
     "output_type": "execute_result"
    },
    {
     "data": {
      "image/png": "[encoded data removed]",
      "text/plain": [
       "<Figure size 1080x720 with 6 Axes>"
      ]
     },
     "metadata": {
      "needs_background": "light"
     },
     "output_type": "display_data"
    }
   ],
   "source": [
    "fig, ax = plt.subplots(3, 2, figsize=(15, 10), sharex='col') # add parameter `sharey='row'` for a more direct comparison\n",
    "ax[0, 0].set_title(\"loss\")\n",
    "ax[0, 1].set_title(\"val-loss\")\n",
    "ax[1, 0].set_title(\"acc\")\n",
    "ax[1, 1].set_title(\"val-acc\")\n",
    "ax[2, 0].set_title(\"top5-acc\")\n",
    "ax[2, 1].set_title(\"val-top5-acc\")\n",
    "\n",
    "ax[0, 0].plot(history_resnet50_freeze.history['loss'])\n",
    "ax[0, 1].plot(history_resnet50_freeze.history['val_loss'])\n",
    "ax[1, 0].plot(history_resnet50_freeze.history['acc'])\n",
    "ax[1, 1].plot(history_resnet50_freeze.history['val_acc'])\n",
    "ax[2, 0].plot(history_resnet50_freeze.history['top5_acc'])\n",
    "ax[2, 1].plot(history_resnet50_freeze.history['val_top5_acc'])\n"
   ]
  },
  {
   "cell_type": "code",
   "execution_count": 35,
   "metadata": {},
   "outputs": [
    {
     "name": "stdout",
     "output_type": "stream",
     "text": [
      "Best Validation Accuracy: 97.38%\n",
      "Best Validation Top 5 Accuracy: 99.96%\n"
     ]
    }
   ],
   "source": [
    "# Get the best performing scores:\n",
    "best_val_accuracy = max(history_resnet50_freeze.history['val_acc']) * 100\n",
    "best_val_top5accuracy = max(history_resnet50_freeze.history['val_top5_acc']) * 100\n",
    "\n",
    "# Print out the results:\n",
    "print(\"Best Validation Accuracy: {:2.2f}%\".format(best_val_accuracy))\n",
    "print(\"Best Validation Top 5 Accuracy: {:2.2f}%\".format(best_val_top5accuracy))"
   ]
  },
  {
   "cell_type": "markdown",
   "metadata": {},
   "source": [
    "### Observation:\n",
    "\n",
    "## 7 - Fine-Tuning the Resnet Feature Extractor:\n",
    "\n",
    "As mentioned earlier in this notebook, fine-tuning is advantageous when the training dataset can be said to be big enough where the model won't overfit it. In this section, the ResNet-50 model and its pretrained weights/parameters (layers) will be instantiated again. However, a complete freezing of the feature extractor layers __will not__ be done for the purpose of fine tuning the deeper (latest) higher-level convolutional layers. \n",
    "\n",
    "## 7.1 - Selectively Freezing Layers of the model:\n",
    "\n",
    "With what was previously mentioned, the higher-level convolutional layers are in the deeper layers of the model, this means that the weights of the first few layers will be fixed (frozen) while the remainding layers will undergo the training phase. \n",
    "\n",
    "The following is an example code to demonstrate the logic behind selective freezing. For example here, the weights of the 3 first macro-blocks (these macro blocks were mentioned in Notebook 2 Section 3.2.5) will be fixed, where the rest of the layers will be fine tuned during training."
   ]
  },
  {
   "cell_type": "code",
   "execution_count": null,
   "metadata": {},
   "outputs": [],
   "source": [
    "for layer in resnest50_featureExtractor.layers:\n",
    "    if 'res5' in layer.names:\n",
    "        # The devs of Keras have explicitly named the layers in the ResNet model, \n",
    "        # to identify which macro-block (and blocks) in each layer belongs to.\n",
    "        # Here, if the loop reaches the layer named 'res5' for 'resnet5', it would mean that\n",
    "        # the fourth macro-block was reached, passing the 3 first macro-blocks. \n",
    "        break\n",
    "    \n",
    "    if isinstance(layer, tf.keras.layers.Conv2D):\n",
    "        layer.trainable = False"
   ]
  },
  {
   "cell_type": "markdown",
   "metadata": {},
   "source": [
    "## 7.2 - Meta-Iterating to discover the best Transfer Learning Solution:\n",
    "\n",
    "It should be noted that in practice, __the decision in which layers will be fine-tuned or not, will require several iterations of training__. This is to compare the performance of each instantiaed model in each loop. \n",
    "\n",
    "This section will dive into the testing of different __Macro-Configurations__, where the freezing of a variable number of layers will be conducted, then the performance of the resulting network will be evaluated during the training phase. The exercise here will go through freezing macro-blocks from 0 to all 4 of them in the ResNet feeature extractor model.\n",
    "\n",
    "__Warning:__ This part of will or may take up to days of training. It is recommended to run these in parallel. Also note that \"ModelCheckpoint()\" callback can be used to restore the models if the training process were to be interrupted. This can be implemented by the following: \"reset50_finetine.load_weights(filename_latest_checkpoint)\" before launching the training phase again. Further, the Keras logs will be switched off for this section as it can overload the print out and make the notebook unreadable.\n",
    "\n",
    "#### Number of macro blocks to freeze:"
   ]
  },
  {
   "cell_type": "code",
   "execution_count": null,
   "metadata": {},
   "outputs": [],
   "source": [
    "# Selecting the number of macro blocks to freeze:\n",
    "nb_macroblocks_to_freeze = [0, 1, 2, 3]"
   ]
  },
  {
   "cell_type": "markdown",
   "metadata": {},
   "source": [
    "#### Meta-Iterating of the models:"
   ]
  },
  {
   "cell_type": "code",
   "execution_count": null,
   "metadata": {},
   "outputs": [],
   "source": [
    "histories = dict()\n",
    "histories['freeze all'] = history_freeze\n",
    "\n",
    "runing_total_time = 0\n",
    "\n",
    "# Loop over the training with different macro blocks:\n",
    "for freeze_nb in nb_macroblocks_to_freeze:\n",
    "    \n",
    "    print('{1}{2} >> {3}ResNet-50 with {0} macro-blocks(s) frozen{4}:'.format(\n",
    "        freeze_nb, log_begin_green, log_begin_bold, log_begin_underline, log_end_format))\n",
    "    \n",
    "    # STAGE 1 ---------------------------------------------------------------------------\n",
    "    # Instantiate a new ResNet model (classifier) each time:\n",
    "    resnet50_feature_extractor = tf.keras.applications.resnet50.Resnet50(include_top = False,\n",
    "                                                                         weights = 'imagenet',\n",
    "                                                                         input_shape = input_shape,\n",
    "                                                                         classes = nb_classes)\n",
    "    \n",
    "    # Add the final prediction layers:\n",
    "    features = resnet50_feature_extractor.ouput\n",
    "    avg_pool = GlobalAveragePooling2D(data_format = 'channels_last')(features)\n",
    "    predictions = Dense(nb_classes, \n",
    "                        activation='softmax',\n",
    "                       )(avg_pool)\n",
    "    \n",
    "    # Complete the model instantiation:\n",
    "    resnet50_finetune = Model(resnet50_feature_extractor.input, predictions)\n",
    "    \n",
    "    # STAGE 2 ---------------------------------------------------------------------------\n",
    "    # Freeze the desired layers:\n",
    "    break_layer_name = 'res{}'.format(freeze_nb + 2) if freeze_nb > 0 else 'conv1'\n",
    "    \n",
    "    frozen_layers = []\n",
    "    \n",
    "    # Loop over the layers to determine which is frozen or trainable:\n",
    "    for layer in resnet50_finetune.layers:\n",
    "        if break_layer_name in layer.name:\n",
    "            break\n",
    "        \n",
    "        if isinstance(layer,, tf.keras.layers.Conv2D):\n",
    "            # Check if the layer is a Convolution, and that it isn't after the 1st layer, so that it is not trained.\n",
    "            layer.trainable = False\n",
    "            frozen_layers.append(layer.name)\n",
    "            \n",
    "    print('\\t> {2}Layers frozen:{4} {0} ({3}total = {1}{4}).'.format(\n",
    "        frozen_layers, len(frozen_layers), log_begin_red, log_begin_bold, log_end_format))\n",
    "    \n",
    "    # STAGE 3 ---------------------------------------------------------------------------\n",
    "    # Reinstantiate the Input Pipelines: Begining with the data iteration.  \n",
    "    # Training Dataset:\n",
    "    train_set_cifar = DataPrepCIFAR_utility.get_dataset(phase='train',\n",
    "                                                        batch_size= batch_size,\n",
    "                                                        nb_epochs= nb_epochs,\n",
    "                                                        shuffle=True,\n",
    "                                                        input_shape= input_shape,\n",
    "                                                        seed= Seed_nb)\n",
    "\n",
    "    # Validation Dataset:\n",
    "    val_set_cifar = DataPrepCIFAR_utility.get_dataset(phase='test',\n",
    "                                                      batch_size= batch_size,\n",
    "                                                      nb_epochs= 1,\n",
    "                                                      shuffle= False,\n",
    "                                                      input_shape= input_shape,\n",
    "                                                      seed= Seed_nb)\n",
    "    \n",
    "    # STAGE 4 ---------------------------------------------------------------------------\n",
    "    # Set up the training process:\n",
    "    \n",
    "    # Define the model optimiser:\n",
    "    optimiser = tf.keras.optimizers.SGD(momentum=0.9,\n",
    "                                        nesterov=True)\n",
    "\n",
    "    # Define the accuracy metric:\n",
    "    accuracy_metric = tf.metrics.SparseCategoricalAccuracy(name = 'acc')\n",
    "\n",
    "    # Define the top-5 accuracy metric: a.k.a Top-K\n",
    "    top5_acc_metric = tf.metrics.SparseTopKCategoricalAccuracy(k = 5,\n",
    "                                                               name = 'top5_acc')\n",
    "    \n",
    "    \n",
    "    # Define the model directtory:\n",
    "    model_dir = '.\\models\\ResNet50_freeze_{}_macroblock'.format(freeze_nb)\n",
    "\n",
    "    # Define the Callbacks:\n",
    "    callbacks = [\n",
    "\n",
    "        # Callback to interrupt the training if the validation loss/metric stops imrpoving for some amount of epochs:\n",
    "        tf.keras.callbacks.EarlyStopping(monitor ='val_acc',\n",
    "                                        patience =8,\n",
    "                                        restore_best_weights = True\n",
    "                                        ),\n",
    "\n",
    "        # Callback to log the graph, Losses and Metrics into TensorBoard:\n",
    "        tf.keras.callbacks.TensorBoard(log_dir = model_dir,\n",
    "                                        histogram_freq = 0,\n",
    "                                        write_graph = True\n",
    "                                      ),\n",
    "\n",
    "        # Callback to save the model: at every 5 epochs and specifies the poch and val-loss in the filename.\n",
    "        tf.keras.callbacks.ModelCheckpoint(\n",
    "            os.path.join(model_dir, 'weights-epoch{epoch:02}-loss{val_loss:.2f}.h5'), period = 5\n",
    "                                        )\n",
    "\n",
    "    ]\n",
    "    \n",
    "    # Compile the Model:\n",
    "    resnet50_finetune.compile(optimizer = optimiser,\n",
    "                              loss = 'sparse_categorical_crossentropy',\n",
    "                              metrics = [accuracy_metric, top5_acc_metric]\n",
    "                             )\n",
    "    \n",
    "    # Train the model:\n",
    "    print('\\t> Training - {0}start{1} (logs = off)'.format(log_begin_red, log_end_format))\n",
    "    \n",
    "    # running time calculation\n",
    "    start = timeit.default_timer()\n",
    "    \n",
    "    # Run the model through the training:\n",
    "    history_resnet50_finetune = resnet50_finetune.fit(train_set_cifar,\n",
    "                                                      epochs = nb_epochs,\n",
    "                                                      steps_per_epoch= train_steps_per_epoch,\n",
    "                                                      validation_data= (val_set_cifar),\n",
    "                                                      validation_steps= valid_steps_per_epoch,\n",
    "                                                      verbose=0,\n",
    "                                                      callbacks= callbacks)\n",
    "    \n",
    "    print('\\t> Training - {0}over{1}'.format(log_begin_green, log_end_format))\n",
    "    \n",
    "    # Stop the timer:\n",
    "    stop = timeit.default_timer()\n",
    "    print('Time: {} Minutes'.format(round((stop - start)/60, 2)))\n",
    "    print('Time: {} hours'.format(round((stop - start)/3600, 2)))\n",
    "    \n",
    "    # Save to total time taken:\n",
    "    runing_total_time += round((stop - start)/3600, 2))\n",
    "    \n",
    "    print('Current Running Time Taken: {}'.format(runing_total_time))\n",
    "    \n",
    "    # STAGE 5 ---------------------------------------------------------------------------\n",
    "    # Print the results/metrics of each of the Tested Models:\n",
    "    \n",
    "    acc = history_resnet50_finetune.history['acc'][-1] * 100\n",
    "    top5 = history_resnet50_finetune.history['top5_acc'][-1] * 100\n",
    "    val_acc = history_resnet50_finetune.history['val_acc'][-1] * 100\n",
    "    val_top5 =history_resnet50_finetune.history['val_top5_acc'][-1] * 100\n",
    "    epochs = len(history_resnet50_finetune.history['val_loss'])\n",
    "    \n",
    "    print(\"\\t> Results after {5}{0}{6} epochs:\\t{5}acc = {1:.2f}%; top5 = {2:.2f}%; val_acc = {3:.2f}%; val_top5 = {4:.2f}%{6}\".format(\n",
    "        epochs, acc, top5, val_acc, val_top5, log_begin_bold, log_end_format))\n",
    "    \n",
    "    # STAGE 6 ---------------------------------------------------------------------------\n",
    "    # Update the Histories Dict:\n",
    "    histories['freeze {}'.format(freeze_num)] = history\n",
    "    "
   ]
  },
  {
   "cell_type": "markdown",
   "metadata": {},
   "source": [
    "## 8 - Inspect TensorBoard:\n",
    "\n",
    "These can also be found in TensorBoard with the input in terminal: \"tensorboard --logdir ./models\" or in this case, \"tensorboard --logdir .\\models\\ResNet50_freeze_/////////NUMBER//////_macroblock\""
   ]
  },
  {
   "cell_type": "markdown",
   "metadata": {},
   "source": [
    "\n",
    "![Tensorboard screenshot - joint results](./Description\\ Images/ResNet50_freezeAll_run1.png)"
   ]
  },
  {
   "cell_type": "markdown",
   "metadata": {},
   "source": [
    "## 9 - Plot of the Model's Performance:\n",
    "\n",
    "NOTE: the \"history\" object returned from the \"model.fit()\" method also provides data for plotting the training metrics. The following till plot these metrics."
   ]
  },
  {
   "cell_type": "code",
   "execution_count": null,
   "metadata": {},
   "outputs": [],
   "source": [
    "fig, ax = plt.subplots(3, 2, figsize=(15, 10), sharex='col') # add parameter `sharey='row'` for a more direct comparison\n",
    "ax[0, 0].set_title(\"loss\")\n",
    "ax[0, 1].set_title(\"val-loss\")\n",
    "ax[1, 0].set_title(\"acc\")\n",
    "ax[1, 1].set_title(\"val-acc\")\n",
    "ax[2, 0].set_title(\"top5-acc\")\n",
    "ax[2, 1].set_title(\"val-top5-acc\")\n",
    "\n",
    "lines, labels = [], []\n",
    "\n",
    "for config_name in histories:\n",
    "    history = histories[config_name]\n",
    "\n",
    "    ax[0, 0].plot(history.history['loss'])\n",
    "    ax[0, 1].plot(history.history['val_loss'])\n",
    "    ax[1, 0].plot(history.history['acc'])\n",
    "    ax[1, 1].plot(history.history['val_acc'])\n",
    "    ax[2, 0].plot(history.history['top5_acc'])\n",
    "    ax[2, 1].plot(history.history['val_top5_acc'])\n",
    "    \n",
    "    line = ax[2, 1].plot(history.history['val_top5_acc'])\n",
    "    lines.append(line[0])\n",
    "    labels.append(config_name)\n",
    "    \n",
    "fig.legend(lines, labels, loc='center right', borderaxespad = 0.1)\n",
    "plt.subplots_adjust(right=0.87)"
   ]
  },
  {
   "cell_type": "code",
   "execution_count": null,
   "metadata": {},
   "outputs": [],
   "source": [
    "# Get the best performing scores:\n",
    "best_val_accuracy = max(history_resnet50_freeze.history['val_acc']) * 100\n",
    "best_val_top5accuracy = max(history_resnet50_freeze.history['val_top5_acc']) * 100\n",
    "\n",
    "# Print out the results:\n",
    "print(\"Best Validation Accuracy: {:2.2f}%\".format(best_val_accuracy))\n",
    "print(\"Best Validation Top 5 Accuracy: {:2.2f}%\".format(best_val_top5accuracy))"
   ]
  },
  {
   "cell_type": "markdown",
   "metadata": {},
   "source": [
    "### Observation:\n",
    "\n",
    "\n",
    "## 10 - "
   ]
  },
  {
   "cell_type": "code",
   "execution_count": null,
   "metadata": {},
   "outputs": [],
   "source": []
  },
  {
   "cell_type": "code",
   "execution_count": null,
   "metadata": {},
   "outputs": [],
   "source": []
  },
  {
   "cell_type": "code",
   "execution_count": null,
   "metadata": {},
   "outputs": [],
   "source": []
  },
  {
   "cell_type": "code",
   "execution_count": null,
   "metadata": {},
   "outputs": [],
   "source": []
  },
  {
   "cell_type": "code",
   "execution_count": null,
   "metadata": {},
   "outputs": [],
   "source": []
  },
  {
   "cell_type": "markdown",
   "metadata": {},
   "source": [
    "## Conclusions:\n",
    "\n",
    "\n",
    "\n",
    "## Summary:\n",
    "\n",
    "Although this is not the end of this project, it does conclude the 1st notebook relevant to the theory of these advanced deep learning models. Please go to check out __Notebook 7__ for the ____."
   ]
  },
  {
   "cell_type": "code",
   "execution_count": null,
   "metadata": {},
   "outputs": [],
   "source": []
  }
 ],
 "metadata": {
  "kernelspec": {
   "display_name": "Python 3",
   "language": "python",
   "name": "python3"
  },
  "language_info": {
   "codemirror_mode": {
    "name": "ipython",
    "version": 3
   },
   "file_extension": ".py",
   "mimetype": "text/x-python",
   "name": "python",
   "nbconvert_exporter": "python",
   "pygments_lexer": "ipython3",
   "version": "3.7.7"
  }
 },
 "nbformat": 4,
 "nbformat_minor": 4
}
