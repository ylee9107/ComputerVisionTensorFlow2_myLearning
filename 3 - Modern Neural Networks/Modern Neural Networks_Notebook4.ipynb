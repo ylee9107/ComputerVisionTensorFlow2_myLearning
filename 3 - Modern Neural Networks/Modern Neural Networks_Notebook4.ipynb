{
 "cells": [
  {
   "cell_type": "markdown",
   "metadata": {},
   "source": [
    "# Modern Neural Networks - Notebook 4\n",
    "\n",
    "This notebook will continue on from Notebook 3 of Modern Neural Networks and dive into the OOP-style development of CNN (LeNet-5) with TensorFlow 2 along with an experiment on different Regularisation methods.\n",
    "\n",
    "### Import the required libraries:"
   ]
  },
  {
   "cell_type": "code",
   "execution_count": 1,
   "metadata": {},
   "outputs": [],
   "source": [
    "%matplotlib inline\n",
    "\n",
    "import tensorflow as tf\n",
    "import numpy as np\n",
    "import matplotlib\n",
    "from matplotlib import pyplot as plt\n",
    "import timeit"
   ]
  },
  {
   "cell_type": "code",
   "execution_count": 2,
   "metadata": {},
   "outputs": [],
   "source": [
    "import os\n",
    "from IPython.display import display, Image\n",
    "import matplotlib.pyplot as plt\n",
    "\n",
    "# %matplotlib inline\n",
    "\n",
    "# Set up the working directory for the images:\n",
    "image_folderName = 'Description Images'\n",
    "image_path = os.path.abspath(image_folderName) + '/'"
   ]
  },
  {
   "cell_type": "code",
   "execution_count": 3,
   "metadata": {},
   "outputs": [],
   "source": [
    "# Set the random set seed number: for reproducibility.\n",
    "Seed_nb = 42"
   ]
  },
  {
   "cell_type": "markdown",
   "metadata": {},
   "source": [
    "### GPU Information:"
   ]
  },
  {
   "cell_type": "code",
   "execution_count": 4,
   "metadata": {},
   "outputs": [
    {
     "name": "stdout",
     "output_type": "stream",
     "text": [
      "Device mapping:\n",
      "/job:localhost/replica:0/task:0/device:GPU:0 -> device: 0, name: GeForce RTX 2070 SUPER, pci bus id: 0000:09:00.0, compute capability: 7.5\n",
      "\n"
     ]
    },
    {
     "data": {
      "text/plain": [
       "[_DeviceAttributes(/job:localhost/replica:0/task:0/device:CPU:0, CPU, 268435456, 2066451336680563436),\n",
       " _DeviceAttributes(/job:localhost/replica:0/task:0/device:GPU:0, GPU, 6586313605, 17782900262590153792)]"
      ]
     },
     "execution_count": 4,
     "metadata": {},
     "output_type": "execute_result"
    }
   ],
   "source": [
    "sess = tf.compat.v1.Session(config=tf.compat.v1.ConfigProto(log_device_placement=True))\n",
    "devices = sess.list_devices()\n",
    "devices"
   ]
  },
  {
   "cell_type": "markdown",
   "metadata": {},
   "source": [
    "## 5 - Adding Regularisation to the Model:\n",
    "\n",
    "## 5.1 - What is Regularisation?\n",
    "\n",
    "Previously covered sections mainly trains the models to minimise the loss function to update the network weights in order to obtain better accuracies over time. Regularly, the model may need further improvements to be applied to prevent the model from overfitting the data. Overfitting is undesired because when the trained model recevies new unknown data to classify, it won't be able to perform with the same accuracy. The idea here, is to employ techniques to prevent overfitting so that the model can generalise well. \n",
    "\n",
    "Methods without regularisation can be:\n",
    "1) Training the model on a Rich dataset, this provides enough variability from the data to improve the model's performance during testing scenarios. \\\n",
    "2) Change the model architecture with experiments, ensuring that the model is not too shallow to avoid underfitting or too deep to prevent overfitting. \n",
    "\n",
    "Regularistion techniques are:\n",
    "1) Early Stopping. \\\n",
    "2) L1 and L2 Regularisation. \\\n",
    "3) Dropout. \\\n",
    "4) Batch Normalisation.\n",
    "\n",
    "The following section will discuss more about these techniques.\n",
    "\n",
    "## 5.2 - Early Stopping:\n",
    "\n",
    "This straightforward technique essentially stops the model during training at a certain point (traininng epoch), this is to prevent overfitting as the model iterates over the dataset too many times, where ususally more common when the dataset has less training samples. The stopping point should be low enough to stop overfitting and large enough to ensure that the model can learn all that is needed. \n",
    "\n",
    "Cross-validation is the key to deciding on the early stopping point. This is done with providing a validation dataset to test the model on and through this validation, the network is able to measure if the training process should be continued or not.\n",
    "\n",
    "Note: This can be automatically implemented with Keras Callbakcs, \"tf.keras.callbacks.EarlyStopping\".\n",
    "\n",
    "## 5.3 - L1 and L2 Regularisation:\n",
    "\n",
    "Generally, using regularisation in Machine Learning penalises the coefficients of the fitting function while in Deep Learning, the weight matrices of the nodes are the ones being penalised.\n",
    "\n",
    "Mathematically, the regularisation term $R(P)$ is added to the loss function before training. This can be represened as the following:\n",
    "\n",
    "$$ L(y, y^{true}) + \\lambda R(P) $$ with $$ y = f(x, P) $$\n",
    "\n",
    "Where, \n",
    "- $\\lambda$ is the controlling factor for the strength of the regularisation term. \n",
    "- $y$ is the output of the function $f$ that is parameterised by $P$ for the input data $x$.\n",
    "\n",
    "Next, the L1 and L2 regularisation terms can be defined as:\n",
    "\n",
    "__For L1 Regularisation (a.k.a LASSO)__:\n",
    "\n",
    "$$ R_{L1}(P) = \\left\\lvert \\left\\lvert P \\right\\rvert \\right\\rvert _{1} = \\sum_{k} \\left\\lvert P_{k} \\right\\rvert$$\n",
    "\n",
    "In more detail, the L1 Regulariser (LASSO, Least Absolute Shrinkage and Selection Operator) makes the network minimise the sum of its absolute parameter values. The larger weights are not penalised by the squaring factor, where instead it shrinks the parameters that are linked to the less important feature towards zero. Essentially, the network will ignore the less meaningful features, adopting sparse parameters. This technique is also useful when being applied to models that needs to run on mobile applications.\n",
    "\n",
    "__For L2 Regularisaiton (a.k.a RIDGE)__:\n",
    "\n",
    "$$ R_{L2}(P) = \\frac{1}{2} \\left\\lvert \\left\\lvert P \\right\\rvert \\right\\rvert _{1}^{2} = \\sum_{k} \\frac{1}{2}  \\left\\lvert P_{k}^{2} \\right\\rvert$$\n",
    "\n",
    "In more detail, the L2 Regulariser (RIDGE) makes the network minimise the sum of its squared parameter values. This technique will decay all of the parameter values but it does so more strongly on large parameters (because of the squared term). Essentially, the network will keep its parameter values low and therefore it will be more homogeneously distributed. This technique prevents the network from developing a small set of parameters that has large values which influences the predictions.\n",
    "\n",
    "The Code implementations for these will be shown in the sections below.\n",
    "\n",
    "## 5.4 - Dropout:\n",
    "\n",
    "Larger neural networks with greater number of parameters inherently have the problem of overfitting and with the increase of architecture complexity, the model will be slower to compute. Dropout can be implemented to address these issues. The main concept is to randomly drop units from the neural network by temporarily removing it and its incoming and outgoing connections in the training phase. Applying this technique on the network essentially mean it amounts to sampling a thinned-out network, where it consists of only the units that has survived dropout. \n",
    "\n",
    "This method takes in a hyperparameter ratio of $\\rho$ which is the probability of that neuron being switched off at each of the training step. This value is typically set betweem 0.1 to 0.5.\n",
    "\n",
    "Note: In TF code implementation, \"tf.nn.dropout()\" and in Keras API implementation, \"tf.kears.layers.Dropout()\".\n",
    "\n",
    "#### The diagram below briefly describes the dropout being applied to the network:"
   ]
  },
  {
   "cell_type": "code",
   "execution_count": 5,
   "metadata": {},
   "outputs": [
    {
     "ename": "FileNotFoundError",
     "evalue": "No such file or directory: 'D:\\OneDrive\\Packt - Computer Vision with TensorFlow 2\\3 - Modern Neural Networks\\For Github\\3 - Modern Neural Networks\\Description Images/Dropout.png'",
     "output_type": "error",
     "traceback": [
      "\u001b[1;31m---------------------------------------------------------------------------\u001b[0m",
      "\u001b[1;31mTypeError\u001b[0m                                 Traceback (most recent call last)",
      "\u001b[1;32mD:\\anaconda3\\envs\\Py37Work\\lib\\site-packages\\IPython\\core\\display.py\u001b[0m in \u001b[0;36m_data_and_metadata\u001b[1;34m(self, always_both)\u001b[0m\n\u001b[0;32m   1292\u001b[0m         \u001b[1;32mtry\u001b[0m\u001b[1;33m:\u001b[0m\u001b[1;33m\u001b[0m\u001b[1;33m\u001b[0m\u001b[0m\n\u001b[1;32m-> 1293\u001b[1;33m             \u001b[0mb64_data\u001b[0m \u001b[1;33m=\u001b[0m \u001b[0mb2a_base64\u001b[0m\u001b[1;33m(\u001b[0m\u001b[0mself\u001b[0m\u001b[1;33m.\u001b[0m\u001b[0mdata\u001b[0m\u001b[1;33m)\u001b[0m\u001b[1;33m.\u001b[0m\u001b[0mdecode\u001b[0m\u001b[1;33m(\u001b[0m\u001b[1;34m'ascii'\u001b[0m\u001b[1;33m)\u001b[0m\u001b[1;33m\u001b[0m\u001b[1;33m\u001b[0m\u001b[0m\n\u001b[0m\u001b[0;32m   1294\u001b[0m         \u001b[1;32mexcept\u001b[0m \u001b[0mTypeError\u001b[0m\u001b[1;33m:\u001b[0m\u001b[1;33m\u001b[0m\u001b[1;33m\u001b[0m\u001b[0m\n",
      "\u001b[1;31mTypeError\u001b[0m: a bytes-like object is required, not 'str'",
      "\nDuring handling of the above exception, another exception occurred:\n",
      "\u001b[1;31mFileNotFoundError\u001b[0m                         Traceback (most recent call last)",
      "\u001b[1;32mD:\\anaconda3\\envs\\Py37Work\\lib\\site-packages\\IPython\\core\\formatters.py\u001b[0m in \u001b[0;36m__call__\u001b[1;34m(self, obj, include, exclude)\u001b[0m\n\u001b[0;32m    968\u001b[0m \u001b[1;33m\u001b[0m\u001b[0m\n\u001b[0;32m    969\u001b[0m             \u001b[1;32mif\u001b[0m \u001b[0mmethod\u001b[0m \u001b[1;32mis\u001b[0m \u001b[1;32mnot\u001b[0m \u001b[1;32mNone\u001b[0m\u001b[1;33m:\u001b[0m\u001b[1;33m\u001b[0m\u001b[1;33m\u001b[0m\u001b[0m\n\u001b[1;32m--> 970\u001b[1;33m                 \u001b[1;32mreturn\u001b[0m \u001b[0mmethod\u001b[0m\u001b[1;33m(\u001b[0m\u001b[0minclude\u001b[0m\u001b[1;33m=\u001b[0m\u001b[0minclude\u001b[0m\u001b[1;33m,\u001b[0m \u001b[0mexclude\u001b[0m\u001b[1;33m=\u001b[0m\u001b[0mexclude\u001b[0m\u001b[1;33m)\u001b[0m\u001b[1;33m\u001b[0m\u001b[1;33m\u001b[0m\u001b[0m\n\u001b[0m\u001b[0;32m    971\u001b[0m             \u001b[1;32mreturn\u001b[0m \u001b[1;32mNone\u001b[0m\u001b[1;33m\u001b[0m\u001b[1;33m\u001b[0m\u001b[0m\n\u001b[0;32m    972\u001b[0m         \u001b[1;32melse\u001b[0m\u001b[1;33m:\u001b[0m\u001b[1;33m\u001b[0m\u001b[1;33m\u001b[0m\u001b[0m\n",
      "\u001b[1;32mD:\\anaconda3\\envs\\Py37Work\\lib\\site-packages\\IPython\\core\\display.py\u001b[0m in \u001b[0;36m_repr_mimebundle_\u001b[1;34m(self, include, exclude)\u001b[0m\n\u001b[0;32m   1281\u001b[0m         \u001b[1;32mif\u001b[0m \u001b[0mself\u001b[0m\u001b[1;33m.\u001b[0m\u001b[0membed\u001b[0m\u001b[1;33m:\u001b[0m\u001b[1;33m\u001b[0m\u001b[1;33m\u001b[0m\u001b[0m\n\u001b[0;32m   1282\u001b[0m             \u001b[0mmimetype\u001b[0m \u001b[1;33m=\u001b[0m \u001b[0mself\u001b[0m\u001b[1;33m.\u001b[0m\u001b[0m_mimetype\u001b[0m\u001b[1;33m\u001b[0m\u001b[1;33m\u001b[0m\u001b[0m\n\u001b[1;32m-> 1283\u001b[1;33m             \u001b[0mdata\u001b[0m\u001b[1;33m,\u001b[0m \u001b[0mmetadata\u001b[0m \u001b[1;33m=\u001b[0m \u001b[0mself\u001b[0m\u001b[1;33m.\u001b[0m\u001b[0m_data_and_metadata\u001b[0m\u001b[1;33m(\u001b[0m\u001b[0malways_both\u001b[0m\u001b[1;33m=\u001b[0m\u001b[1;32mTrue\u001b[0m\u001b[1;33m)\u001b[0m\u001b[1;33m\u001b[0m\u001b[1;33m\u001b[0m\u001b[0m\n\u001b[0m\u001b[0;32m   1284\u001b[0m             \u001b[1;32mif\u001b[0m \u001b[0mmetadata\u001b[0m\u001b[1;33m:\u001b[0m\u001b[1;33m\u001b[0m\u001b[1;33m\u001b[0m\u001b[0m\n\u001b[0;32m   1285\u001b[0m                 \u001b[0mmetadata\u001b[0m \u001b[1;33m=\u001b[0m \u001b[1;33m{\u001b[0m\u001b[0mmimetype\u001b[0m\u001b[1;33m:\u001b[0m \u001b[0mmetadata\u001b[0m\u001b[1;33m}\u001b[0m\u001b[1;33m\u001b[0m\u001b[1;33m\u001b[0m\u001b[0m\n",
      "\u001b[1;32mD:\\anaconda3\\envs\\Py37Work\\lib\\site-packages\\IPython\\core\\display.py\u001b[0m in \u001b[0;36m_data_and_metadata\u001b[1;34m(self, always_both)\u001b[0m\n\u001b[0;32m   1294\u001b[0m         \u001b[1;32mexcept\u001b[0m \u001b[0mTypeError\u001b[0m\u001b[1;33m:\u001b[0m\u001b[1;33m\u001b[0m\u001b[1;33m\u001b[0m\u001b[0m\n\u001b[0;32m   1295\u001b[0m             raise FileNotFoundError(\n\u001b[1;32m-> 1296\u001b[1;33m                 \"No such file or directory: '%s'\" % (self.data))\n\u001b[0m\u001b[0;32m   1297\u001b[0m         \u001b[0mmd\u001b[0m \u001b[1;33m=\u001b[0m \u001b[1;33m{\u001b[0m\u001b[1;33m}\u001b[0m\u001b[1;33m\u001b[0m\u001b[1;33m\u001b[0m\u001b[0m\n\u001b[0;32m   1298\u001b[0m         \u001b[1;32mif\u001b[0m \u001b[0mself\u001b[0m\u001b[1;33m.\u001b[0m\u001b[0mmetadata\u001b[0m\u001b[1;33m:\u001b[0m\u001b[1;33m\u001b[0m\u001b[1;33m\u001b[0m\u001b[0m\n",
      "\u001b[1;31mFileNotFoundError\u001b[0m: No such file or directory: 'D:\\OneDrive\\Packt - Computer Vision with TensorFlow 2\\3 - Modern Neural Networks\\For Github\\3 - Modern Neural Networks\\Description Images/Dropout.png'"
     ]
    },
    {
     "ename": "FileNotFoundError",
     "evalue": "No such file or directory: 'D:\\OneDrive\\Packt - Computer Vision with TensorFlow 2\\3 - Modern Neural Networks\\For Github\\3 - Modern Neural Networks\\Description Images/Dropout.png'",
     "output_type": "error",
     "traceback": [
      "\u001b[1;31m---------------------------------------------------------------------------\u001b[0m",
      "\u001b[1;31mTypeError\u001b[0m                                 Traceback (most recent call last)",
      "\u001b[1;32mD:\\anaconda3\\envs\\Py37Work\\lib\\site-packages\\IPython\\core\\display.py\u001b[0m in \u001b[0;36m_data_and_metadata\u001b[1;34m(self, always_both)\u001b[0m\n\u001b[0;32m   1292\u001b[0m         \u001b[1;32mtry\u001b[0m\u001b[1;33m:\u001b[0m\u001b[1;33m\u001b[0m\u001b[1;33m\u001b[0m\u001b[0m\n\u001b[1;32m-> 1293\u001b[1;33m             \u001b[0mb64_data\u001b[0m \u001b[1;33m=\u001b[0m \u001b[0mb2a_base64\u001b[0m\u001b[1;33m(\u001b[0m\u001b[0mself\u001b[0m\u001b[1;33m.\u001b[0m\u001b[0mdata\u001b[0m\u001b[1;33m)\u001b[0m\u001b[1;33m.\u001b[0m\u001b[0mdecode\u001b[0m\u001b[1;33m(\u001b[0m\u001b[1;34m'ascii'\u001b[0m\u001b[1;33m)\u001b[0m\u001b[1;33m\u001b[0m\u001b[1;33m\u001b[0m\u001b[0m\n\u001b[0m\u001b[0;32m   1294\u001b[0m         \u001b[1;32mexcept\u001b[0m \u001b[0mTypeError\u001b[0m\u001b[1;33m:\u001b[0m\u001b[1;33m\u001b[0m\u001b[1;33m\u001b[0m\u001b[0m\n",
      "\u001b[1;31mTypeError\u001b[0m: a bytes-like object is required, not 'str'",
      "\nDuring handling of the above exception, another exception occurred:\n",
      "\u001b[1;31mFileNotFoundError\u001b[0m                         Traceback (most recent call last)",
      "\u001b[1;32mD:\\anaconda3\\envs\\Py37Work\\lib\\site-packages\\IPython\\core\\formatters.py\u001b[0m in \u001b[0;36m__call__\u001b[1;34m(self, obj)\u001b[0m\n\u001b[0;32m    343\u001b[0m             \u001b[0mmethod\u001b[0m \u001b[1;33m=\u001b[0m \u001b[0mget_real_method\u001b[0m\u001b[1;33m(\u001b[0m\u001b[0mobj\u001b[0m\u001b[1;33m,\u001b[0m \u001b[0mself\u001b[0m\u001b[1;33m.\u001b[0m\u001b[0mprint_method\u001b[0m\u001b[1;33m)\u001b[0m\u001b[1;33m\u001b[0m\u001b[1;33m\u001b[0m\u001b[0m\n\u001b[0;32m    344\u001b[0m             \u001b[1;32mif\u001b[0m \u001b[0mmethod\u001b[0m \u001b[1;32mis\u001b[0m \u001b[1;32mnot\u001b[0m \u001b[1;32mNone\u001b[0m\u001b[1;33m:\u001b[0m\u001b[1;33m\u001b[0m\u001b[1;33m\u001b[0m\u001b[0m\n\u001b[1;32m--> 345\u001b[1;33m                 \u001b[1;32mreturn\u001b[0m \u001b[0mmethod\u001b[0m\u001b[1;33m(\u001b[0m\u001b[1;33m)\u001b[0m\u001b[1;33m\u001b[0m\u001b[1;33m\u001b[0m\u001b[0m\n\u001b[0m\u001b[0;32m    346\u001b[0m             \u001b[1;32mreturn\u001b[0m \u001b[1;32mNone\u001b[0m\u001b[1;33m\u001b[0m\u001b[1;33m\u001b[0m\u001b[0m\n\u001b[0;32m    347\u001b[0m         \u001b[1;32melse\u001b[0m\u001b[1;33m:\u001b[0m\u001b[1;33m\u001b[0m\u001b[1;33m\u001b[0m\u001b[0m\n",
      "\u001b[1;32mD:\\anaconda3\\envs\\Py37Work\\lib\\site-packages\\IPython\\core\\display.py\u001b[0m in \u001b[0;36m_repr_png_\u001b[1;34m(self)\u001b[0m\n\u001b[0;32m   1311\u001b[0m     \u001b[1;32mdef\u001b[0m \u001b[0m_repr_png_\u001b[0m\u001b[1;33m(\u001b[0m\u001b[0mself\u001b[0m\u001b[1;33m)\u001b[0m\u001b[1;33m:\u001b[0m\u001b[1;33m\u001b[0m\u001b[1;33m\u001b[0m\u001b[0m\n\u001b[0;32m   1312\u001b[0m         \u001b[1;32mif\u001b[0m \u001b[0mself\u001b[0m\u001b[1;33m.\u001b[0m\u001b[0membed\u001b[0m \u001b[1;32mand\u001b[0m \u001b[0mself\u001b[0m\u001b[1;33m.\u001b[0m\u001b[0mformat\u001b[0m \u001b[1;33m==\u001b[0m \u001b[0mself\u001b[0m\u001b[1;33m.\u001b[0m\u001b[0m_FMT_PNG\u001b[0m\u001b[1;33m:\u001b[0m\u001b[1;33m\u001b[0m\u001b[1;33m\u001b[0m\u001b[0m\n\u001b[1;32m-> 1313\u001b[1;33m             \u001b[1;32mreturn\u001b[0m \u001b[0mself\u001b[0m\u001b[1;33m.\u001b[0m\u001b[0m_data_and_metadata\u001b[0m\u001b[1;33m(\u001b[0m\u001b[1;33m)\u001b[0m\u001b[1;33m\u001b[0m\u001b[1;33m\u001b[0m\u001b[0m\n\u001b[0m\u001b[0;32m   1314\u001b[0m \u001b[1;33m\u001b[0m\u001b[0m\n\u001b[0;32m   1315\u001b[0m     \u001b[1;32mdef\u001b[0m \u001b[0m_repr_jpeg_\u001b[0m\u001b[1;33m(\u001b[0m\u001b[0mself\u001b[0m\u001b[1;33m)\u001b[0m\u001b[1;33m:\u001b[0m\u001b[1;33m\u001b[0m\u001b[1;33m\u001b[0m\u001b[0m\n",
      "\u001b[1;32mD:\\anaconda3\\envs\\Py37Work\\lib\\site-packages\\IPython\\core\\display.py\u001b[0m in \u001b[0;36m_data_and_metadata\u001b[1;34m(self, always_both)\u001b[0m\n\u001b[0;32m   1294\u001b[0m         \u001b[1;32mexcept\u001b[0m \u001b[0mTypeError\u001b[0m\u001b[1;33m:\u001b[0m\u001b[1;33m\u001b[0m\u001b[1;33m\u001b[0m\u001b[0m\n\u001b[0;32m   1295\u001b[0m             raise FileNotFoundError(\n\u001b[1;32m-> 1296\u001b[1;33m                 \"No such file or directory: '%s'\" % (self.data))\n\u001b[0m\u001b[0;32m   1297\u001b[0m         \u001b[0mmd\u001b[0m \u001b[1;33m=\u001b[0m \u001b[1;33m{\u001b[0m\u001b[1;33m}\u001b[0m\u001b[1;33m\u001b[0m\u001b[1;33m\u001b[0m\u001b[0m\n\u001b[0;32m   1298\u001b[0m         \u001b[1;32mif\u001b[0m \u001b[0mself\u001b[0m\u001b[1;33m.\u001b[0m\u001b[0mmetadata\u001b[0m\u001b[1;33m:\u001b[0m\u001b[1;33m\u001b[0m\u001b[1;33m\u001b[0m\u001b[0m\n",
      "\u001b[1;31mFileNotFoundError\u001b[0m: No such file or directory: 'D:\\OneDrive\\Packt - Computer Vision with TensorFlow 2\\3 - Modern Neural Networks\\For Github\\3 - Modern Neural Networks\\Description Images/Dropout.png'"
     ]
    },
    {
     "data": {
      "text/plain": [
       "<IPython.core.display.Image object>"
      ]
     },
     "metadata": {},
     "output_type": "display_data"
    },
    {
     "name": "stdout",
     "output_type": "stream",
     "text": [
      "Image ref -> https://www.cs.toronto.edu/~hinton/absps/JMLRdropout.pdf\n"
     ]
    }
   ],
   "source": [
    "# Dropout: \n",
    "display(Image(image_path + 'Dropout.png', width=600, unconfined=True))\n",
    "print('Image ref -> https://www.cs.toronto.edu/~hinton/absps/JMLRdropout.pdf')"
   ]
  },
  {
   "cell_type": "markdown",
   "metadata": {},
   "source": [
    "## 5.5 - Batch Normalisation:\n",
    "\n",
    "Batch normalization is a technique used in deep learning to tackle the problem known as internal covariate shift. For each layers output becomes the input for the next layer in the hidden layers. As the model updates after each training iteration using gradient descent, the distribution of the activations changes as well, hence this slows down the training process because each layer has to adapt to these new changes.\n",
    "\n",
    "The batch normalisation operation normalises the output results the from the previous layer and normalises it by subtracting the batch mean and then divides it by the batch standard deviation.\n",
    "As the batches in Stochastic Gradient descent are randomly sampled, this also means that the data won't be normalised the same way twice, therefore, the network learns to deal with these fluctuations making it more robust and generalise better.\n",
    "\n",
    "Note: In TF code implementation, \"tf.nn.batch_normalization()\" and in Keras API implementation, \"tf.kears.layers.BatchNormalization()\".\n",
    "\n",
    "## 5.6 - TF and Keras implementation: Adding Regularisation to the model.\n",
    "\n",
    "### 5.6.1 - Load in the Data:"
   ]
  },
  {
   "cell_type": "code",
   "execution_count": 6,
   "metadata": {},
   "outputs": [],
   "source": [
    "# Define the number of classes:\n",
    "nb_classes = 10\n",
    "\n",
    "# Define the image dimensions:\n",
    "img_rows, img_cols, img_chnls = 28, 28, 1\n",
    "\n",
    "# Define the input shape:\n",
    "input_shape = (img_rows, img_cols, img_chnls)\n",
    "\n",
    "# Load in the dataset:\n",
    "(x_train, y_train), (x_test, y_test) = tf.keras.datasets.mnist.load_data()"
   ]
  },
  {
   "cell_type": "markdown",
   "metadata": {},
   "source": [
    "### 5.6.2 - Data Preprocessing:\n",
    "\n",
    "NOTE: the \"*input_shape\" where the single \" * \" notation in the code means a to create a tuple from this argument. where two \" * \" like \" ** \" is to create a dictionary."
   ]
  },
  {
   "cell_type": "code",
   "execution_count": 7,
   "metadata": {},
   "outputs": [
    {
     "data": {
      "text/plain": [
       "((60000, 28, 28), (10000, 28, 28))"
      ]
     },
     "execution_count": 7,
     "metadata": {},
     "output_type": "execute_result"
    }
   ],
   "source": [
    "# Normalise the data:\n",
    "x_train, x_test = x_train / 255.0, x_test / 255.0\n",
    "\n",
    "# Inspect:\n",
    "x_train.shape, x_test.shape"
   ]
  },
  {
   "cell_type": "code",
   "execution_count": 8,
   "metadata": {},
   "outputs": [
    {
     "data": {
      "text/plain": [
       "((60000, 28, 28, 1), (10000, 28, 28, 1))"
      ]
     },
     "execution_count": 8,
     "metadata": {},
     "output_type": "execute_result"
    }
   ],
   "source": [
    "# Reshape the inputs:\n",
    "x_train = x_train.reshape(x_train.shape[0], *input_shape)\n",
    "x_test = x_test.reshape(x_test.shape[0], *input_shape)\n",
    "\n",
    "# Inspect:\n",
    "x_train.shape, x_test.shape"
   ]
  },
  {
   "cell_type": "markdown",
   "metadata": {},
   "source": [
    "### 5.6.3 - Take a subset of the data: to demonstrate regularisation."
   ]
  },
  {
   "cell_type": "code",
   "execution_count": 9,
   "metadata": {},
   "outputs": [],
   "source": [
    "nb_subset = 200"
   ]
  },
  {
   "cell_type": "code",
   "execution_count": 10,
   "metadata": {},
   "outputs": [
    {
     "name": "stdout",
     "output_type": "stream",
     "text": [
      "Training data subset: (200, 28, 28, 1)\n",
      "Testing data subset: (10000, 28, 28, 1)\n"
     ]
    }
   ],
   "source": [
    "# Taking 200 training samples:\n",
    "x_train, y_train = x_train[:nb_subset], y_train[:nb_subset] \n",
    "\n",
    "print('Training data subset: {}'.format(x_train.shape))\n",
    "print('Testing data subset: {}'.format(x_test.shape))"
   ]
  },
  {
   "cell_type": "markdown",
   "metadata": {},
   "source": [
    "### 5.6.4 - Manually Apply the Regularisation Losses:\n",
    "\n",
    "This section will show the addition of regularisation loss to __any__ layer. This begins with the SimpleConvolutionalLayer."
   ]
  },
  {
   "cell_type": "code",
   "execution_count": 11,
   "metadata": {},
   "outputs": [],
   "source": [
    "# Import the required libraries:\n",
    "from tensorflow.keras.models import Model, Sequential\n",
    "from tensorflow.keras.layers import (Input, Activation, Dense, Flatten, \n",
    "                                     Conv2D, MaxPooling2D, Dropout, BatchNormalization)"
   ]
  },
  {
   "cell_type": "markdown",
   "metadata": {},
   "source": [
    "### Define the Global Variables:"
   ]
  },
  {
   "cell_type": "code",
   "execution_count": 12,
   "metadata": {},
   "outputs": [],
   "source": [
    "epochs = 200\n",
    "batch_size = 512"
   ]
  },
  {
   "cell_type": "code",
   "execution_count": 13,
   "metadata": {},
   "outputs": [],
   "source": [
    "@ tf.function\n",
    "def conv_layer(x, kernels, bias, s):\n",
    "    z = tf.nn.conv2d(x, kernels, strides = [1, s, s, 1], padding = 'VALID')\n",
    "    \n",
    "    # Add the bias and activation function:\n",
    "    return tf.nn.relu(z + bias)\n",
    "\n",
    "class SimpleConvolutionalLayer(tf.keras.layers.Layer):\n",
    "    \n",
    "    def __init__(self, nb_kernels=32, kernel_size=(3, 3), strides=1):\n",
    "        \"\"\" This initialises the Conv-Layer.\n",
    "        Parameters:\n",
    "            - nb_kernels: Number of Kernels for the convolution operation.\n",
    "            - kernel_size: Kernel size (H x W)\n",
    "            - strides: Vertical and horizontal stride defined as a list.\n",
    "        \"\"\"\n",
    "        # Call the 'Layer' super __init__() method to initialise the hidden mechanisms:\n",
    "        super().__init__()\n",
    "        \n",
    "        # Assign the parameters:\n",
    "        self.nb_kernels = nb_kernels\n",
    "        self.kernel_size = kernel_size\n",
    "        self.strides = strides\n",
    "\n",
    "        \n",
    "    def build(self, input_shape):\n",
    "        \"\"\" This builds the Layer by initialising the its parameters based on the input shape.\n",
    "            This func. will be internally called for the first time the layer is used (it can \n",
    "            also be called manually).\n",
    "            \n",
    "        Parameters:\n",
    "            - input_shape: Input shape of the layer is (B x H x W x C)\n",
    "        \n",
    "        Additional info.:\n",
    "            - (B x H x W x C) is (batch size x height x width x depth)\n",
    "        \"\"\"\n",
    "        # Define the Input Channels (assumes the shape format to be BHWC):\n",
    "        nb_input_channels = input_shape[-1]\n",
    "        \n",
    "        # Define the shape of the Tensor of the Kernel:\n",
    "        kernels_shape = (*self.kernel_size, nb_input_channels, self.nb_kernels)\n",
    "        \n",
    "        # Initialise the Kernels with values from the Glorot Distribution:\n",
    "        glorot_uni_initialiser = tf.initializers.GlorotUniform()\n",
    "        \n",
    "        # Make the Kernel variable trainable: by using the \"add_weights\" method.\n",
    "        self.kernels = self.add_weight(name = 'kernels',\n",
    "                                      shape = kernels_shape,\n",
    "                                      initializer = glorot_uni_initialiser,\n",
    "                                      trainable = True)\n",
    "        # Add the Bias to make the Kernel variable trainable:\n",
    "        self.bias = self.add_weight(name = 'bias',\n",
    "                                    shape = (self.nb_kernels, ),\n",
    "                                    initializer = 'random_normal', # Normal distribution.\n",
    "                                    trainable = True)\n",
    "    \n",
    "    def call(self, inputs):\n",
    "        \"\"\" This builds the Call method, to call the layer and perform the operations on the input Tensors.\n",
    "        Paramters:\n",
    "            - inputs: Input Tensor\n",
    "        Returns:\n",
    "            - returns the Output from \"conv_layer\"\n",
    "        \"\"\"\n",
    "        return conv_layer(x = inputs, kernels = self.kernels, bias = self.bias, s = self.strides)\n",
    "    \n",
    "    def get_config(self):\n",
    "        \"\"\" This is the Helper Functtion to define the layer and its parameters.\n",
    "        Returns:\n",
    "            - returns a Dictionary consisting of the layer's configuration.\n",
    "        \"\"\"\n",
    "        return {'nb_kernels': self.nb_kernels,\n",
    "                'kernel_size': self.kernel_size,\n",
    "                'strides': self.strides,\n",
    "                'use_bias': self.use_bias}"
   ]
  },
  {
   "cell_type": "markdown",
   "metadata": {},
   "source": [
    "#### Extend this layer: by adding kernel/bias regularisation.\n",
    "\n",
    "This is the \"Layer.add_loss()\" method will be utilised here."
   ]
  },
  {
   "cell_type": "code",
   "execution_count": 14,
   "metadata": {},
   "outputs": [],
   "source": [
    "# Import the required Libraries:\n",
    "from functools import partial"
   ]
  },
  {
   "cell_type": "code",
   "execution_count": 15,
   "metadata": {},
   "outputs": [],
   "source": [
    "def l2_reg(coef=1e-2):\n",
    "    \"\"\" This builds the function to compute the weighted L2 norm of the input Tensor.\n",
    "        (Similar implementation of tf.keras.regularizers.l2())\n",
    "    Parameters:\n",
    "        - coef, is the weight for the norm.\n",
    "    Returns:\n",
    "        - returns the loss function.    \n",
    "    \"\"\"\n",
    "    return lambda x: tf.reduce_sum(x ** 2) * coef"
   ]
  },
  {
   "cell_type": "code",
   "execution_count": 16,
   "metadata": {},
   "outputs": [],
   "source": [
    "class Conv_withRegulariser(SimpleConvolutionalLayer):\n",
    "    def __init__(self, nb_kernels=32, kernel_size=(3, 3), stride=1, \n",
    "                 kernel_regulariser=l2_reg(), bias_regulariser=None):\n",
    "        \"\"\" This buuilds the Initialisation Layer.\n",
    "        Parameters:\n",
    "            - nb_kernels, is the number of kernels for the convolutions.\n",
    "            - kernel_size, is the Kernel size of (H x W).\n",
    "            - stride, is the Vertical and Horizontal strides.\n",
    "            - kernel_regulariser, is an optional param. and is the Regularisation loss of the kernel variable.\n",
    "            - bias_regulariser, is an optional param. and is the Regularisation loss of the bias variable.\n",
    "        \"\"\"\n",
    "        # Inherits the parameters of SimpleConvolutionalLayer and initialises it.\n",
    "        super().__init__(nb_kernels, kernel_size, stride) \n",
    "        self.kernel_regulariser = kernel_regulariser\n",
    "        self.bias_regulariser = bias_regulariser\n",
    "    \n",
    "    def build(self, input_shape):\n",
    "        \"\"\" This builds the layer, by initialising its components\n",
    "        \n",
    "        \"\"\"\n",
    "        super().build(input_shape)\n",
    "        \n",
    "        # Attaches the regularisation loss to the following variables: weights(kernel) and bias.\n",
    "        if self.kernel_regulariser is not None:\n",
    "            self.add_loss( partial(self.kernel_regulariser, self.kernels) )\n",
    "            \n",
    "        if self.bias_regulariser is not None:\n",
    "            self.add_loss( partial(self.bias_regulariser, self.bias) )\n",
    "    "
   ]
  },
  {
   "cell_type": "markdown",
   "metadata": {},
   "source": [
    "When the above Regularised Convolution layers are instantiated, the regulariser will be passed as attributes that will be attached to the layer. Note that the loss values for these regularisers can be obtained by calling \".losses\". Demonstrated in the next section.\n",
    "\n",
    "### 5.6.5 - Test the \"Conv_withRegulariser\":\n",
    "\n",
    "This section will show how \".losses\" can be called and be printed out."
   ]
  },
  {
   "cell_type": "code",
   "execution_count": 17,
   "metadata": {},
   "outputs": [
    {
     "name": "stdout",
     "output_type": "stream",
     "text": [
      "Regularisation losses over kernel and bias parameter: [2.13663, 0.068708345]\n",
      "L2 norm of kernel and bias parameters: [2.13663, 0.068708345]\n"
     ]
    }
   ],
   "source": [
    "# Make an instance of the convolutional layer with regularisatio:\n",
    "conv_reg = Conv_withRegulariser(\n",
    "                                nb_kernels=32, \n",
    "                                kernel_size=(3, 3), \n",
    "                                stride=1, \n",
    "                                kernel_regulariser=l2_reg(coef=1.0), \n",
    "                                bias_regulariser=l2_reg(coef=1.0)\n",
    "                               )\n",
    "\n",
    "# Build the layer: input the tensor.\n",
    "conv_reg.build(input_shape = tf.TensorShape( (None, 28, 28, 1) ))\n",
    "\n",
    "\n",
    "# Call the Layer's Losses:\n",
    "reg_losses = conv_reg.losses\n",
    "# Print out the losses:\n",
    "print('Regularisation losses over kernel and bias parameter: {}'.format( [loss.numpy() for loss in reg_losses] ))\n",
    "\n",
    "# Compare \"reg_losses\" with L2 norms of its kernel and bias parameters:\n",
    "kernel_norm, bias_norm = tf.reduce_sum(conv_reg.kernels ** 2).numpy(), tf.reduce_sum(conv_reg.bias ** 2).numpy()\n",
    "# Print out the compared losses:\n",
    "print('L2 norm of kernel and bias parameters: {}'.format( [kernel_norm, bias_norm] ))"
   ]
  },
  {
   "cell_type": "markdown",
   "metadata": {},
   "source": [
    "Due to its form of implementation, it also means that the property \".losses\" also will list the losses attached to all the layers and models, composing an instance. Below will demonstrate more attached losses from increasing the number of Convolution with Regularisers."
   ]
  },
  {
   "cell_type": "code",
   "execution_count": 18,
   "metadata": {},
   "outputs": [
    {
     "name": "stdout",
     "output_type": "stream",
     "text": [
      "Losses that are attached to the model and its layers:\n",
      "[1.8380398, 0.11504121, 32.1099, 0.10067837, 32.068, 0.0565977] (6 losses)\n"
     ]
    }
   ],
   "source": [
    "# Instantiate a model: Using the Keras Sequential API.\n",
    "model = Sequential(\n",
    "    [Input(shape = input_shape), \n",
    "     Conv_withRegulariser(kernel_regulariser=l2_reg(coef=1.0), bias_regulariser=l2_reg(coef=1.0)),\n",
    "     Conv_withRegulariser(kernel_regulariser=l2_reg(coef=1.0), bias_regulariser=l2_reg(coef=1.0)), \n",
    "     Conv_withRegulariser(kernel_regulariser=l2_reg(coef=1.0), bias_regulariser=l2_reg(coef=1.0))\n",
    "    ]\n",
    ")\n",
    "\n",
    "# Print out the losses:\n",
    "print('Losses that are attached to the model and its layers:\\n\\r{} ({} losses)'.format(\n",
    "    [loss.numpy() for loss in model.losses], len(model.losses))\n",
    "     )"
   ]
  },
  {
   "cell_type": "markdown",
   "metadata": {},
   "source": [
    "As it can be seen in the above output, the losses are listed and these are the ones attached to the model and its layers.\n",
    "\n",
    "### 5.6.6 - Build a LeNet-5 model with the above custom layers:\n",
    "\n",
    "Here, the training will also take into account the regularisation terms."
   ]
  },
  {
   "cell_type": "code",
   "execution_count": 19,
   "metadata": {},
   "outputs": [],
   "source": [
    "# Here, the \"Model\" signifies that the LeNet5 will inherit the API, \n",
    "# this is also similar to the 'Layer' API, with additional extensions.\n",
    "\n",
    "class LeNet5(Model):\n",
    "    \n",
    "    def __init__(self, nb_classes, kernel_regulariser=l2_reg(), bias_regulariser=l2_reg()):\n",
    "        \n",
    "        # Create the model with its layers:\n",
    "        super(LeNet5, self).__init__()\n",
    "        \n",
    "        # 1st Convolutional block:\n",
    "        self.conv1 = Conv_withRegulariser(\n",
    "                                        nb_kernels=6,\n",
    "                                        kernel_size=(5, 5),\n",
    "                                        stride=1,\n",
    "                                        kernel_regulariser=kernel_regulariser,\n",
    "                                        bias_regulariser=bias_regulariser,\n",
    "                                    )\n",
    "        \n",
    "        # 2nd Convolutional block:\n",
    "        self.conv2 = Conv_withRegulariser(\n",
    "                                        nb_kernels=16,\n",
    "                                        kernel_size=(5, 5),\n",
    "                                        stride=1,\n",
    "                                        kernel_regulariser=kernel_regulariser,\n",
    "                                        bias_regulariser=bias_regulariser,\n",
    "                                    )\n",
    "        \n",
    "        # Add the max pooling layer:\n",
    "        self.max_pool = MaxPooling2D(pool_size=(2, 2))\n",
    "        \n",
    "        # Add the Flattening Layer:\n",
    "        self.flatten = Flatten()\n",
    "        \n",
    "        # Add the input layer of the FC-layer:\n",
    "        self.dense1 = Dense(units = 120, \n",
    "                            activation='relu')\n",
    "        \n",
    "        # Add the hidden layer of the FC-layer:\n",
    "        self.dense2 = Dense(units = 84, \n",
    "                            activation='relu')\n",
    "        \n",
    "        # Add the output layer of the FC-layer:\n",
    "        self.dense3 = Dense(units = 10, \n",
    "                            activation='softmax')\n",
    "    \n",
    "    # Setting up the layers according to the architecture: so that to process the inputs.\n",
    "    def call(self, x):\n",
    "        x = self.max_pool( self.conv1(x) )\n",
    "        x = self.max_pool( self.conv2(x) )\n",
    "        x = self.flatten(x)\n",
    "        x = self.dense3(self.dense2(self.dense1(x)))\n",
    "        return x"
   ]
  },
  {
   "cell_type": "markdown",
   "metadata": {},
   "source": [
    "#### Setting some variables to format the logs:\n"
   ]
  },
  {
   "cell_type": "code",
   "execution_count": 20,
   "metadata": {},
   "outputs": [],
   "source": [
    "log_begin_red, log_begin_blue, log_begin_green = '\\033[91m', '\\033[94m', '\\033[92m'\n",
    "log_begin_bold, log_begin_underline = '\\033[1m', '\\033[4m'\n",
    "log_end_format = '\\033[0m'"
   ]
  },
  {
   "cell_type": "markdown",
   "metadata": {},
   "source": [
    "#### Define the Batch Training and log the metrics:\n",
    "\n",
    "This will also define the optimiser and slicing of the dataset accordingly to the batch size."
   ]
  },
  {
   "cell_type": "code",
   "execution_count": 21,
   "metadata": {},
   "outputs": [],
   "source": [
    "# Define the otimiser:\n",
    "# optimiser = tf.optimizers.SGD()\n",
    "optimiser = tf.optimizers.Adam()\n",
    "\n",
    "# Slice the dataset into the batch sizes:\n",
    "dataset = tf.data.Dataset.from_tensor_slices((x_train, y_train)).batch(batch_size)\n",
    "\n",
    "# Define the logs' string template:\n",
    "log_string_template = 'Epoch {0:3}/{1}: main loss = {5}{2:5.3f}{6}; ' + \\\n",
    "                      'reg loss = {5}{3:5.3f}{6}; val acc = {5}{4:5.3f}%{6}'"
   ]
  },
  {
   "cell_type": "code",
   "execution_count": 22,
   "metadata": {},
   "outputs": [
    {
     "data": {
      "text/plain": [
       "<BatchDataset shapes: ((None, 28, 28, 1), (None,)), types: (tf.float64, tf.uint8)>"
      ]
     },
     "execution_count": 22,
     "metadata": {},
     "output_type": "execute_result"
    }
   ],
   "source": [
    "# Checkout \"dataset\"\n",
    "dataset"
   ]
  },
  {
   "cell_type": "code",
   "execution_count": 23,
   "metadata": {},
   "outputs": [],
   "source": [
    "def train_classifier_onData_MNIST(model, log_frequency=10):\n",
    "    \n",
    "    # Compute the average losses:\n",
    "    avg_main_loss = tf.keras.metrics.Mean(name = 'avg_main_loss', dtype = tf.float32)\n",
    "    avg_reg_loss = tf.keras.metrics.Mean(name = 'avg_reg_loss', dtype = tf.float32)\n",
    "    \n",
    "    # Print the Start of Training Logging:\n",
    "    print('Training: {}start{}'.format(log_begin_red, log_end_format))\n",
    "    \n",
    "    # For each epoch, perform the batched training:\n",
    "    for epoch in range(epochs):\n",
    "        # For each batch of this epoch, do:\n",
    "        for (batch_images, batch_gts) in dataset:\n",
    "            \n",
    "            # Use TF to tape the gradients: automatic compute of the derivatives.\n",
    "            with tf.GradientTape() as grad_tape:\n",
    "                # Feed forward pass of the data:\n",
    "                y = model(batch_images)\n",
    "                # Compute the main loss:\n",
    "                main_loss = tf.losses.sparse_categorical_crossentropy(batch_gts, y)\n",
    "                # Lost and add the other losses:\n",
    "                reg_loss = sum(model.losses)\n",
    "                loss = main_loss + reg_loss\n",
    "                \n",
    "            # Obtain the gradients (from GradientTape) of the combined losses and BackPropagate:\n",
    "            grads = grad_tape.gradient(loss, model.trainable_variables)\n",
    "            optimiser.apply_gradients( zip(grads, model.trainable_variables))\n",
    "            \n",
    "            # Update the losses dict, to keep a track record:\n",
    "            avg_main_loss.update_state(main_loss)\n",
    "            avg_reg_loss.update_state(reg_loss)\n",
    "        \n",
    "        # Log additional metrics:\n",
    "        if epoch % log_frequency == 0 or epoch == (epoch - 1):\n",
    "            # Validate the model, Compute the accuracy on the TEST data:\n",
    "            acc= tf.reduce_mean(\n",
    "                tf.metrics.sparse_categorical_accuracy(tf.constant(y_test), model(x_test))\n",
    "            ).numpy() * 100\n",
    "            \n",
    "            main_loss = avg_main_loss.result()\n",
    "            reg_loss = avg_reg_loss.result()\n",
    "            \n",
    "            print(log_string_template.format(\n",
    "                epoch, epochs, main_loss, reg_loss, acc, log_begin_blue, log_end_format)\n",
    "                 )\n",
    "            \n",
    "        avg_main_loss.reset_states()\n",
    "        avg_reg_loss.reset_states()\n",
    "    \n",
    "    # Print the End of Training Logging:\n",
    "    print('Training: {}end{}'.format(log_begin_green, log_end_format))\n",
    "    \n",
    "    return model"
   ]
  },
  {
   "cell_type": "markdown",
   "metadata": {},
   "source": [
    "#### Begin the training:"
   ]
  },
  {
   "cell_type": "code",
   "execution_count": 24,
   "metadata": {},
   "outputs": [
    {
     "name": "stdout",
     "output_type": "stream",
     "text": [
      "Training: \u001b[91mstart\u001b[0m\n",
      "WARNING:tensorflow:Layer le_net5 is casting an input tensor from dtype float64 to the layer's dtype of float32, which is new behavior in TensorFlow 2.  The layer has dtype float32 because it's dtype defaults to floatx.\n",
      "\n",
      "If you intended to run this layer in float32, you can safely ignore this warning. If in doubt, this warning is likely only an issue if you are porting a TensorFlow 1.X model to TensorFlow 2.\n",
      "\n",
      "To change all layers to have dtype float64 by default, call `tf.keras.backend.set_floatx('float64')`. To change just this layer, pass dtype='float64' to the layer constructor. If you are the author of this layer, you can disable autocasting by passing autocast=False to the base Layer constructor.\n",
      "\n",
      "WARNING:tensorflow:5 out of the last 5 calls to <function conv_layer at 0x0000014D4A308828> triggered tf.function retracing. Tracing is expensive and the excessive number of tracings is likely due to passing python objects instead of tensors. Also, tf.function has experimental_relax_shapes=True option that relaxes argument shapes that can avoid unnecessary retracing. Please refer to https://www.tensorflow.org/tutorials/customization/performance#python_or_tensor_args and https://www.tensorflow.org/api_docs/python/tf/function for more details.\n",
      "WARNING:tensorflow:6 out of the last 6 calls to <function conv_layer at 0x0000014D4A308828> triggered tf.function retracing. Tracing is expensive and the excessive number of tracings is likely due to passing python objects instead of tensors. Also, tf.function has experimental_relax_shapes=True option that relaxes argument shapes that can avoid unnecessary retracing. Please refer to https://www.tensorflow.org/tutorials/customization/performance#python_or_tensor_args and https://www.tensorflow.org/api_docs/python/tf/function for more details.\n",
      "WARNING:tensorflow:7 out of the last 7 calls to <function conv_layer at 0x0000014D4A308828> triggered tf.function retracing. Tracing is expensive and the excessive number of tracings is likely due to passing python objects instead of tensors. Also, tf.function has experimental_relax_shapes=True option that relaxes argument shapes that can avoid unnecessary retracing. Please refer to https://www.tensorflow.org/tutorials/customization/performance#python_or_tensor_args and https://www.tensorflow.org/api_docs/python/tf/function for more details.\n",
      "Epoch   0/200: main loss = \u001b[94m2.298\u001b[0m; reg loss = \u001b[94m0.105\u001b[0m; val acc = \u001b[94m17.050%\u001b[0m\n",
      "Epoch  10/200: main loss = \u001b[94m1.886\u001b[0m; reg loss = \u001b[94m0.097\u001b[0m; val acc = \u001b[94m54.990%\u001b[0m\n",
      "Epoch  20/200: main loss = \u001b[94m0.988\u001b[0m; reg loss = \u001b[94m0.097\u001b[0m; val acc = \u001b[94m71.550%\u001b[0m\n",
      "Epoch  30/200: main loss = \u001b[94m0.399\u001b[0m; reg loss = \u001b[94m0.102\u001b[0m; val acc = \u001b[94m78.060%\u001b[0m\n",
      "Epoch  40/200: main loss = \u001b[94m0.150\u001b[0m; reg loss = \u001b[94m0.106\u001b[0m; val acc = \u001b[94m80.250%\u001b[0m\n",
      "Epoch  50/200: main loss = \u001b[94m0.046\u001b[0m; reg loss = \u001b[94m0.107\u001b[0m; val acc = \u001b[94m80.170%\u001b[0m\n",
      "Epoch  60/200: main loss = \u001b[94m0.017\u001b[0m; reg loss = \u001b[94m0.105\u001b[0m; val acc = \u001b[94m80.520%\u001b[0m\n",
      "Epoch  70/200: main loss = \u001b[94m0.009\u001b[0m; reg loss = \u001b[94m0.101\u001b[0m; val acc = \u001b[94m81.010%\u001b[0m\n",
      "Epoch  80/200: main loss = \u001b[94m0.006\u001b[0m; reg loss = \u001b[94m0.096\u001b[0m; val acc = \u001b[94m81.050%\u001b[0m\n",
      "Epoch  90/200: main loss = \u001b[94m0.005\u001b[0m; reg loss = \u001b[94m0.090\u001b[0m; val acc = \u001b[94m81.120%\u001b[0m\n",
      "Epoch 100/200: main loss = \u001b[94m0.005\u001b[0m; reg loss = \u001b[94m0.085\u001b[0m; val acc = \u001b[94m81.070%\u001b[0m\n",
      "Epoch 110/200: main loss = \u001b[94m0.004\u001b[0m; reg loss = \u001b[94m0.079\u001b[0m; val acc = \u001b[94m81.240%\u001b[0m\n",
      "Epoch 120/200: main loss = \u001b[94m0.004\u001b[0m; reg loss = \u001b[94m0.074\u001b[0m; val acc = \u001b[94m81.250%\u001b[0m\n",
      "Epoch 130/200: main loss = \u001b[94m0.004\u001b[0m; reg loss = \u001b[94m0.070\u001b[0m; val acc = \u001b[94m81.340%\u001b[0m\n",
      "Epoch 140/200: main loss = \u001b[94m0.004\u001b[0m; reg loss = \u001b[94m0.066\u001b[0m; val acc = \u001b[94m81.340%\u001b[0m\n",
      "Epoch 150/200: main loss = \u001b[94m0.004\u001b[0m; reg loss = \u001b[94m0.062\u001b[0m; val acc = \u001b[94m81.360%\u001b[0m\n",
      "Epoch 160/200: main loss = \u001b[94m0.004\u001b[0m; reg loss = \u001b[94m0.058\u001b[0m; val acc = \u001b[94m81.500%\u001b[0m\n",
      "Epoch 170/200: main loss = \u001b[94m0.004\u001b[0m; reg loss = \u001b[94m0.055\u001b[0m; val acc = \u001b[94m81.560%\u001b[0m\n",
      "Epoch 180/200: main loss = \u001b[94m0.004\u001b[0m; reg loss = \u001b[94m0.052\u001b[0m; val acc = \u001b[94m81.580%\u001b[0m\n",
      "Epoch 190/200: main loss = \u001b[94m0.003\u001b[0m; reg loss = \u001b[94m0.050\u001b[0m; val acc = \u001b[94m81.540%\u001b[0m\n",
      "Training: \u001b[92mend\u001b[0m\n"
     ]
    }
   ],
   "source": [
    "model = LeNet5(nb_classes,\n",
    "               kernel_regulariser=l2_reg(coef=0.01),\n",
    "               bias_regulariser=l2_reg(coef=0.01)\n",
    "              )\n",
    "\n",
    "model = train_classifier_onData_MNIST(model, log_frequency=10)"
   ]
  },
  {
   "cell_type": "markdown",
   "metadata": {},
   "source": [
    "### Observation:\n",
    "\n",
    "Taking a look at the \"reg_loss\", it can be seen that this increases while \"main_loss\" (or Classification loss) is decreasing. In the begining the \"main_loss\" presents with a higher score, where the model then proceeds to minimise it as intended. This was regardless of the values the kernels or biases were taking. When the classification \"main_loss\" dropped low enough (at the 30th epoch), the \"reg_loss\" then began to decrease, which means that it was here that the regularisation was taken into account (or the regularisation was in effect).\n",
    "\n",
    "### Compare the Models: One with regularisation and One without."
   ]
  },
  {
   "cell_type": "code",
   "execution_count": 25,
   "metadata": {},
   "outputs": [
    {
     "name": "stdout",
     "output_type": "stream",
     "text": [
      "Training: \u001b[91mstart\u001b[0m\n",
      "WARNING:tensorflow:Layer le_net5_1 is casting an input tensor from dtype float64 to the layer's dtype of float32, which is new behavior in TensorFlow 2.  The layer has dtype float32 because it's dtype defaults to floatx.\n",
      "\n",
      "If you intended to run this layer in float32, you can safely ignore this warning. If in doubt, this warning is likely only an issue if you are porting a TensorFlow 1.X model to TensorFlow 2.\n",
      "\n",
      "To change all layers to have dtype float64 by default, call `tf.keras.backend.set_floatx('float64')`. To change just this layer, pass dtype='float64' to the layer constructor. If you are the author of this layer, you can disable autocasting by passing autocast=False to the base Layer constructor.\n",
      "\n",
      "Epoch   0/200: main loss = \u001b[94m2.318\u001b[0m; reg loss = \u001b[94m0.000\u001b[0m; val acc = \u001b[94m15.730%\u001b[0m\n",
      "Epoch  10/200: main loss = \u001b[94m1.011\u001b[0m; reg loss = \u001b[94m0.000\u001b[0m; val acc = \u001b[94m67.960%\u001b[0m\n",
      "Epoch  20/200: main loss = \u001b[94m0.235\u001b[0m; reg loss = \u001b[94m0.000\u001b[0m; val acc = \u001b[94m76.800%\u001b[0m\n",
      "Epoch  30/200: main loss = \u001b[94m0.052\u001b[0m; reg loss = \u001b[94m0.000\u001b[0m; val acc = \u001b[94m79.480%\u001b[0m\n",
      "Epoch  40/200: main loss = \u001b[94m0.011\u001b[0m; reg loss = \u001b[94m0.000\u001b[0m; val acc = \u001b[94m78.010%\u001b[0m\n",
      "Epoch  50/200: main loss = \u001b[94m0.004\u001b[0m; reg loss = \u001b[94m0.000\u001b[0m; val acc = \u001b[94m77.110%\u001b[0m\n",
      "Epoch  60/200: main loss = \u001b[94m0.002\u001b[0m; reg loss = \u001b[94m0.000\u001b[0m; val acc = \u001b[94m77.940%\u001b[0m\n",
      "Epoch  70/200: main loss = \u001b[94m0.002\u001b[0m; reg loss = \u001b[94m0.000\u001b[0m; val acc = \u001b[94m77.870%\u001b[0m\n",
      "Epoch  80/200: main loss = \u001b[94m0.001\u001b[0m; reg loss = \u001b[94m0.000\u001b[0m; val acc = \u001b[94m77.970%\u001b[0m\n",
      "Epoch  90/200: main loss = \u001b[94m0.001\u001b[0m; reg loss = \u001b[94m0.000\u001b[0m; val acc = \u001b[94m78.020%\u001b[0m\n",
      "Epoch 100/200: main loss = \u001b[94m0.001\u001b[0m; reg loss = \u001b[94m0.000\u001b[0m; val acc = \u001b[94m77.910%\u001b[0m\n",
      "Epoch 110/200: main loss = \u001b[94m0.001\u001b[0m; reg loss = \u001b[94m0.000\u001b[0m; val acc = \u001b[94m77.980%\u001b[0m\n",
      "Epoch 120/200: main loss = \u001b[94m0.001\u001b[0m; reg loss = \u001b[94m0.000\u001b[0m; val acc = \u001b[94m78.020%\u001b[0m\n",
      "Epoch 130/200: main loss = \u001b[94m0.001\u001b[0m; reg loss = \u001b[94m0.000\u001b[0m; val acc = \u001b[94m78.080%\u001b[0m\n",
      "Epoch 140/200: main loss = \u001b[94m0.001\u001b[0m; reg loss = \u001b[94m0.000\u001b[0m; val acc = \u001b[94m78.110%\u001b[0m\n",
      "Epoch 150/200: main loss = \u001b[94m0.001\u001b[0m; reg loss = \u001b[94m0.000\u001b[0m; val acc = \u001b[94m78.130%\u001b[0m\n",
      "Epoch 160/200: main loss = \u001b[94m0.000\u001b[0m; reg loss = \u001b[94m0.000\u001b[0m; val acc = \u001b[94m78.160%\u001b[0m\n",
      "Epoch 170/200: main loss = \u001b[94m0.000\u001b[0m; reg loss = \u001b[94m0.000\u001b[0m; val acc = \u001b[94m78.200%\u001b[0m\n",
      "Epoch 180/200: main loss = \u001b[94m0.000\u001b[0m; reg loss = \u001b[94m0.000\u001b[0m; val acc = \u001b[94m78.200%\u001b[0m\n",
      "Epoch 190/200: main loss = \u001b[94m0.000\u001b[0m; reg loss = \u001b[94m0.000\u001b[0m; val acc = \u001b[94m78.230%\u001b[0m\n",
      "Training: \u001b[92mend\u001b[0m\n"
     ]
    }
   ],
   "source": [
    "# Instantiate a LeNet5 model without Regularisation:\n",
    "\n",
    "model = LeNet5(nb_classes,\n",
    "               kernel_regulariser=None,\n",
    "               bias_regulariser=None\n",
    "              )\n",
    "\n",
    "model = train_classifier_onData_MNIST(model, log_frequency=10)"
   ]
  },
  {
   "cell_type": "markdown",
   "metadata": {},
   "source": [
    "### Observation:\n",
    "\n",
    "According to the Validation accuracy of the non-regularised model, the achieved value was 79%, and comparing this to the regularised model (at ~ 82%), it can be said that the regularised model achieved a better overall performance, although, not by much.\n",
    "\n",
    "### Key Take-aways:\n",
    "\n",
    "The main goal of this notebook was to show the different ways and usage of \"add_loss()\" method which can be found in Section 5.6.4, and \".losses\" method in Section 5.6.5. These can proved to be useful down the line for the development of more complex models and that there is a need to apply layer-specific losses. \n",
    "\n",
    "It should also be noted that TF and Keras has provided a more simpler way to implement regularisation to models, and this can be seen in the next section.\n",
    "\n",
    "## 5.7 - TF and Keras implementation: Applying Different types of Regularisation Methods:\n",
    "\n",
    "This section will utilise the pre-implemented regularisation methods that are implemented solely with the Keras API. Experiments will be performed with the methods introduced earlier in the notebook for comparison of their effects on the model.\n",
    "\n",
    "### 5.7.1 - Create another LeNet-5 model: In the Keras Sequential API.  "
   ]
  },
  {
   "cell_type": "code",
   "execution_count": 26,
   "metadata": {},
   "outputs": [],
   "source": [
    "def lenet(name = 'lenet', input_shape = input_shape, use_dropout = False,\n",
    "          use_batchnorm = False, regulariser = None):\n",
    "    \"\"\" This builds hte LeNet-5 (KERAS) Model, with the option of using different regularisation methods.\n",
    "    Parameters:\n",
    "        - name, is the Name of the model\n",
    "        - input_shape, is the model's input Tensor shape.\n",
    "        - use_dropout, a Flag to add Dropout layers after each of the key layers in the model.\n",
    "        - use_batchnorm, a Flag to add BatchNormalization layers after each of the key layers in the model.\n",
    "        - regulariser, is input the Regularization function to be applied to the layers' kernels.\n",
    "    Returns:\n",
    "        - returns the LeNet-5 Keras model.\n",
    "    \"\"\"\n",
    "    \n",
    "    layers = []\n",
    "    \n",
    "    # ======== Define the 1st Convolutional Block:\n",
    "    layers += [Conv2D(filters = 6, \n",
    "                      kernel_size = (5, 5),  \n",
    "                      padding ='same', \n",
    "                      input_shape = input_shape, \n",
    "                      kernel_regularizer = regulariser)\n",
    "              ]\n",
    "    \n",
    "    # Add batchNorm if needed:\n",
    "    if use_batchnorm:\n",
    "        layers += [BatchNormalization()]\n",
    "        \n",
    "    # Define the Acitvation and MaxPooling for this layer:\n",
    "    layers += [Activation('relu'), MaxPooling2D(pool_size = (2, 2))]\n",
    "        \n",
    "    # Add Dropout if needed:\n",
    "    if use_dropout:\n",
    "        layers += [Dropout(rate = 0.25)]\n",
    "    \n",
    "    # ======== Define the 2nd Convolutional Block:\n",
    "    layers += [Conv2D(filters = 16, \n",
    "                      kernel_size = (5, 5),  \n",
    "                      padding ='same', \n",
    "                      input_shape = input_shape, \n",
    "                      kernel_regularizer = regulariser)\n",
    "              ]\n",
    "    \n",
    "    # Add batchNorm if needed:\n",
    "    if use_batchnorm:\n",
    "        layers += [BatchNormalization()]\n",
    "        \n",
    "    # Define the Acitvation and MaxPooling for this layer:\n",
    "    layers += [Activation('relu'), MaxPooling2D(pool_size = (2, 2))]\n",
    "        \n",
    "    # Add Dropout if needed:\n",
    "    if use_dropout:\n",
    "        layers += [Dropout(rate = 0.25)]\n",
    "    \n",
    "    # ======== Define the Fc-Layers:\n",
    "    # Flatten the input tensors for the FC-layer:\n",
    "    layers += [Flatten()]\n",
    "    \n",
    "    # Define the Input layer of the FC-Layers:\n",
    "    layers += [Dense(units = 120, \n",
    "                     kernel_regularizer = regulariser)]\n",
    "    # Add batchNorm if needed:\n",
    "    if use_batchnorm:\n",
    "        layers += [BatchNormalization()]  \n",
    "    # Define the Acitvation func:\n",
    "    layers += [Activation('relu')]\n",
    "    \n",
    "    # Define the Hidden layer of the FC-Layers:\n",
    "    layers += [Dense(units = 84, \n",
    "                     kernel_regularizer = regulariser)]\n",
    "    # Define the Acitvation func:\n",
    "    layers += [Activation('relu')]\n",
    "    \n",
    "    # Define the Hidden layer of the FC-Layers:\n",
    "    layers += [Dense(units = 10, \n",
    "                     activation = 'softmax')]\n",
    "    \n",
    "    # Build the Sequential model:\n",
    "    model = Sequential(layers, name= name)\n",
    "    \n",
    "    return model    "
   ]
  },
  {
   "cell_type": "markdown",
   "metadata": {},
   "source": [
    "### 5.7.2 - Build a LeNet-5 model for each of the listed regularisation techniques:\n",
    "\n",
    "This section will show the effects of the different types of regularisation methods available in TF and Keras on the training process. To do this, for each of the listed regularisation techniques, an instance of the LeNet model will be instantiated.\n",
    "\n",
    "#### Define the list of regularisation methods:"
   ]
  },
  {
   "cell_type": "code",
   "execution_count": 27,
   "metadata": {},
   "outputs": [],
   "source": [
    "configurations = {\n",
    "    'none':              {'use_dropout': False, 'use_batchnorm': False, 'regulariser': None},\n",
    "    'L1':                {'use_dropout': False, 'use_batchnorm': False, 'regulariser': tf.keras.regularizers.l1(0.01)},\n",
    "    'L2':                {'use_dropout': False, 'use_batchnorm': False, 'regulariser': tf.keras.regularizers.l2(0.01)},\n",
    "    'Dropout':           {'use_dropout': True,  'use_batchnorm': False, 'regulariser': None},\n",
    "    'BatchNorm':         {'use_dropout': False, 'use_batchnorm': True,  'regulariser': None},\n",
    "    'L1_with_Dropout':   {'use_dropout': True, 'use_batchnorm': True,  'regulariser': tf.keras.regularizers.l1(0.01)},\n",
    "    'L1_with_BatchNorm': {'use_dropout': False, 'use_batchnorm': True,  'regulariser': tf.keras.regularizers.l1(0.01)},\n",
    "    'L1_with_dropout_bn':{'use_dropout': True, 'use_batchnorm': True,  'regulariser': tf.keras.regularizers.l1(0.01)}\n",
    "}"
   ]
  },
  {
   "cell_type": "markdown",
   "metadata": {},
   "source": [
    "# Save each of the model's \"history\" during Training:\n",
    "\n",
    "Create a \"history\" for each of the models to save losses and metrics that were computed during training."
   ]
  },
  {
   "cell_type": "code",
   "execution_count": 28,
   "metadata": {},
   "outputs": [],
   "source": [
    "# running time calculation\n",
    "start = timeit.default_timer()"
   ]
  },
  {
   "cell_type": "code",
   "execution_count": 29,
   "metadata": {},
   "outputs": [
    {
     "name": "stdout",
     "output_type": "stream",
     "text": [
      "Experiment: \u001b[91mstart\u001b[0m (training logs = 0ff)\n",
      "\t> Training with none: \u001b[91mstart\u001b[0m\n",
      "\t> Training with none: \u001b[92mdone\u001b[0m\n",
      "\t> Training with L1: \u001b[91mstart\u001b[0m\n",
      "\t> Training with L1: \u001b[92mdone\u001b[0m\n",
      "\t> Training with L2: \u001b[91mstart\u001b[0m\n",
      "\t> Training with L2: \u001b[92mdone\u001b[0m\n",
      "\t> Training with Dropout: \u001b[91mstart\u001b[0m\n",
      "\t> Training with Dropout: \u001b[92mdone\u001b[0m\n",
      "\t> Training with BatchNorm: \u001b[91mstart\u001b[0m\n",
      "\t> Training with BatchNorm: \u001b[92mdone\u001b[0m\n",
      "\t> Training with L1_with_Dropout: \u001b[91mstart\u001b[0m\n",
      "\t> Training with L1_with_Dropout: \u001b[92mdone\u001b[0m\n",
      "\t> Training with L1_with_BatchNorm: \u001b[91mstart\u001b[0m\n",
      "\t> Training with L1_with_BatchNorm: \u001b[92mdone\u001b[0m\n",
      "\t> Training with L1_with_dropout_bn: \u001b[91mstart\u001b[0m\n",
      "\t> Training with L1_with_dropout_bn: \u001b[92mdone\u001b[0m\n",
      "Experiment: \u001b[92mend\u001b[0m\n"
     ]
    }
   ],
   "source": [
    "# Create a dictionary to store the training (history) results:\n",
    "history_per_instance = dict()\n",
    "\n",
    "# Print out the Training Start logs:\n",
    "print('Experiment: {0}start{1} (training logs = 0ff)'.format(log_begin_red, log_end_format))\n",
    "\n",
    "# For each regularisation technique from \"configurations\" list, instantiate the model:\n",
    "for config_name in configurations:\n",
    "    # Set seed: for reproducibility.\n",
    "    tf.random.set_seed(Seed_nb)\n",
    "    np.random.seed(Seed_nb)\n",
    "    \n",
    "    # Creating each model instance with the regularisation techniques:\n",
    "    model = lenet('lenet_{}'.format(config_name), **configurations[config_name])\n",
    "    \n",
    "    # Compile the model:\n",
    "    model.compile(optimizer='sgd', \n",
    "                  loss= 'sparse_categorical_crossentropy', \n",
    "                  metrics=['accuracy'])\n",
    "    \n",
    "    # Launch the training process: Verbose is set to 0, no logs output.\n",
    "    print(\"\\t> Training with {0}: {1}start{2}\".format(config_name, log_begin_red, log_end_format))\n",
    "    \n",
    "    history = model.fit(x= x_train, \n",
    "                        y= y_train, \n",
    "                        batch_size=32, \n",
    "                        epochs=300, \n",
    "                        validation_data = (x_test, y_test), \n",
    "                        verbose = 0)\n",
    "    \n",
    "    # Update the history dict:\n",
    "    history_per_instance[history] = history\n",
    "    \n",
    "    # Print out that training is done:\n",
    "    print(\"\\t> Training with {0}: {1}done{2}\".format(config_name, log_begin_green, log_end_format))\n",
    "    \n",
    "# Print out the Training Eng logs:\n",
    "print('Experiment: {0}end{1}'.format(log_begin_green, log_end_format))    \n"
   ]
  },
  {
   "cell_type": "code",
   "execution_count": 30,
   "metadata": {},
   "outputs": [
    {
     "name": "stdout",
     "output_type": "stream",
     "text": [
      "Time: 17.96 Minutes\n",
      "Time: 0.3 hours\n"
     ]
    }
   ],
   "source": [
    "# Stop the timer:\n",
    "stop = timeit.default_timer()\n",
    "print('Time: {} Minutes'.format(round((stop - start)/60, 2)))\n",
    "print('Time: {} hours'.format(round((stop - start)/3600, 2)))"
   ]
  },
  {
   "cell_type": "markdown",
   "metadata": {},
   "source": [
    "### 5.7.3 - Plot the results:\n",
    "\n",
    "Here, the training and validation losses and accuracies will be plotted for comparison."
   ]
  },
  {
   "cell_type": "code",
   "execution_count": 31,
   "metadata": {},
   "outputs": [
    {
     "data": {
      "image/png": "[encoded data removed]",
      "text/plain": [
       "<Figure size 720x720 with 4 Axes>"
      ]
     },
     "metadata": {
      "needs_background": "light"
     },
     "output_type": "display_data"
    }
   ],
   "source": [
    "fig, ax = plt.subplots(2, 2, figsize=(10,10), sharex='col') # add parameter `sharey='row'` for a more direct comparison\n",
    "ax[0, 0].set_title(\"loss\")\n",
    "ax[0, 1].set_title(\"val-loss\")\n",
    "ax[1, 0].set_title(\"accuracy\")\n",
    "ax[1, 1].set_title(\"val-accuracy\")\n",
    "\n",
    "lines, labels = [], []\n",
    "for config_name, (config_name2, val)  in zip(history_per_instance, configurations.items()):\n",
    "    history = history_per_instance[config_name]\n",
    "    ax[0, 0].plot(history.history['loss'])\n",
    "    ax[0, 1].plot(history.history['val_loss'])\n",
    "    ax[1, 0].plot(history.history['accuracy'])\n",
    "    line = ax[1, 1].plot(history.history['val_accuracy'])\n",
    "    lines.append(line[0])\n",
    "    labels.append(config_name2)\n",
    "\n",
    "fig.legend(lines,labels, loc='center right', borderaxespad=0.1)\n",
    "plt.subplots_adjust(right=0.84)"
   ]
  },
  {
   "cell_type": "markdown",
   "metadata": {},
   "source": [
    "### 5.7.4 - Print out the Comparison results for each of the Regularisation Technique:"
   ]
  },
  {
   "cell_type": "code",
   "execution_count": 32,
   "metadata": {},
   "outputs": [
    {
     "name": "stdout",
     "output_type": "stream",
     "text": [
      "Max Validation Accuracy for the model \"none\": 80.23%\n",
      "Max Validation Accuracy for the model \"L1\": 76.52%\n",
      "Max Validation Accuracy for the model \"L2\": 80.92%\n",
      "Max Validation Accuracy for the model \"Dropout\": 84.14%\n",
      "Max Validation Accuracy for the model \"BatchNorm\": 84.26%\n",
      "Max Validation Accuracy for the model \"L1_with_Dropout\": 85.80%\n",
      "Max Validation Accuracy for the model \"L1_with_BatchNorm\": 87.97%\n",
      "Max Validation Accuracy for the model \"L1_with_dropout_bn\": 87.06%\n"
     ]
    }
   ],
   "source": [
    "for config_name, (config_name2, val)  in zip(history_per_instance, configurations.items()):\n",
    "    best_val_acc = max(history_per_instance[config_name].history['val_accuracy']) * 100\n",
    "    print('Max Validation Accuracy for the model \"{}\": {:2.2f}%'.format(config_name2, best_val_acc))"
   ]
  },
  {
   "cell_type": "markdown",
   "metadata": {},
   "source": [
    "### Conclusion and Observations:\n",
    "\n",
    "Taking a look at the results and comparing it with baseline (where there isn't a regularisation implemented), majority of the regularisation techniques does improve the model's accuracy and hence it's performance. Interestingly, the model with L1 regularisation did not perform better, this could mean that the weights of the model were penalised too much and resulted in a less accurate model. \n",
    "\n",
    "It can also be seen that the L1 regularisation and L1 with Dropout and BatchNorm regularisation does not converge as quickly when compared to the other models, until 150 epochs. There are also obvious fluctuations in validation accuracy during testing for the L1 rgularisation technique, L1 with BatchNorm technique and L1 with Dropout and BatchNorm technique. \n",
    "\n",
    "Overall, the idea here is to demonstrate the benefits of using regularisation to combat overfitting of the dataset by these models. \n"
   ]
  },
  {
   "cell_type": "markdown",
   "metadata": {},
   "source": [
    "## Summary:\n",
    "\n",
    "From this project, I was primarily able to learn and develop my skills in creating the convolutions blocks of the CNN from scratch. This inherently also improved my understanding with OOP style of programming. There were also several implementations of the network such as in TF, Keras Sequential and Functional APIs. I was able to cover the fundamentals of the CNN architecture, such as the convolutions, max/avg pooling, and the effective receptive fields. This project also covered modern techniques, such as different types of optimisers and regularisation methods to improve the CNN's performance and prevention of overfitting on the dataset."
   ]
  }
 ],
 "metadata": {
  "kernelspec": {
   "display_name": "Python 3",
   "language": "python",
   "name": "python3"
  },
  "language_info": {
   "codemirror_mode": {
    "name": "ipython",
    "version": 3
   },
   "file_extension": ".py",
   "mimetype": "text/x-python",
   "name": "python",
   "nbconvert_exporter": "python",
   "pygments_lexer": "ipython3",
   "version": "3.7.7"
  }
 },
 "nbformat": 4,
 "nbformat_minor": 4
}
