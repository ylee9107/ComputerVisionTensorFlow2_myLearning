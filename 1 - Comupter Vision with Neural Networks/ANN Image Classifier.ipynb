{
 "cells": [
  {
   "cell_type": "markdown",
   "metadata": {},
   "source": [
    "# Building a Neural Network\n",
    "\n",
    "## Introduction:\n",
    "\n",
    "This project will cover what neural networks are and its implementation in Python for the tass of basic recognition. This project will also explore the domain of computer vision and how it is an automation of extracting information from digital images. There are a lot of applications for computer vision such as control systems to be used in industry, facial filters in mobile apps, or security surveillance systems.\n",
    "\n",
    "Computer vision can also be broken down into the following:\n",
    "- Content recognition (Object Identification, Object detection and localisation, Object and instance segmentation or Pose estimation).\n",
    "- Video analysis (Instance Tracking, Action recognition, Motion estimation).\n",
    "- Content-Aware image edition.\n",
    "- Scene Reconstruction.\n",
    "\n",
    "## Breakdown of this Notebook:\n",
    "- Building an ANN from scratch\n",
    "- Calling network from .py File"
   ]
  },
  {
   "cell_type": "markdown",
   "metadata": {},
   "source": [
    "## 1.1 - Background on the Dataset: MNIST Digits.\n",
    "\n",
    "The dataset can be obtain from the link: http://yann.lecun.com/exdb/mnist/\n",
    "\n",
    "The MNIST Digits dataset contains 70,000 greyscale images that have 28 x 28 pixels for each of the image. This dataset has been a reference set over the last few years to test and improve methods for this recognition task. The Input vector for the network works out to be 28 x 28 = 784 values and it has an output of 10 values (where there are 10 different digits ranging from 0 to 9). Further, the number of hidden layers for this network will be up to the modeller. \n",
    "\n",
    "## 1.2 - Loading in the Dataset:\n",
    "\n",
    "The data can also be directly loaded in by using the the \"minst\" Python module. To install -> https://pypi.org/project/mnist/ or \"pip install mnist\" \n",
    "The data should be prepared by splitting into two sets that are the training aand testing sets."
   ]
  },
  {
   "cell_type": "code",
   "execution_count": 1,
   "metadata": {},
   "outputs": [],
   "source": [
    "# Import the required Libraries:\n",
    "import numpy as np\n",
    "import mnist\n",
    "\n",
    "seed_nb = 42\n",
    "\n",
    "np.random.seed(seed_nb)"
   ]
  },
  {
   "cell_type": "code",
   "execution_count": 2,
   "metadata": {},
   "outputs": [],
   "source": [
    "# Load in the Training dataset:\n",
    "X_train, y_train = mnist.train_images(), mnist.train_labels()\n",
    "\n",
    "# Load in the Testing dataset:\n",
    "X_test, y_test = mnist.test_images(), mnist.test_labels()\n",
    "\n",
    "# Set the Number of Classes:\n",
    "nb_classes = 10"
   ]
  },
  {
   "cell_type": "code",
   "execution_count": 3,
   "metadata": {},
   "outputs": [
    {
     "data": {
      "text/plain": [
       "(60000, 28, 28)"
      ]
     },
     "execution_count": 3,
     "metadata": {},
     "output_type": "execute_result"
    }
   ],
   "source": [
    "# Inspect:\n",
    "X_train.shape"
   ]
  },
  {
   "cell_type": "code",
   "execution_count": 4,
   "metadata": {},
   "outputs": [
    {
     "data": {
      "text/plain": [
       "(10000, 28, 28)"
      ]
     },
     "execution_count": 4,
     "metadata": {},
     "output_type": "execute_result"
    }
   ],
   "source": [
    "# Inspect:\n",
    "X_test.shape"
   ]
  },
  {
   "cell_type": "code",
   "execution_count": 5,
   "metadata": {},
   "outputs": [
    {
     "data": {
      "text/plain": [
       "array([5, 0, 4, ..., 5, 6, 8], dtype=uint8)"
      ]
     },
     "execution_count": 5,
     "metadata": {},
     "output_type": "execute_result"
    }
   ],
   "source": [
    "# Inspect:\n",
    "y_train"
   ]
  },
  {
   "cell_type": "markdown",
   "metadata": {},
   "source": [
    "## 2 - Visualise the data:\n",
    "\n",
    "Here, the \"matplotlib\" library will be used to visualise an image from the data."
   ]
  },
  {
   "cell_type": "code",
   "execution_count": 6,
   "metadata": {},
   "outputs": [],
   "source": [
    "import matplotlib\n",
    "import matplotlib.pyplot as plt\n",
    "\n",
    "%matplotlib inline"
   ]
  },
  {
   "cell_type": "code",
   "execution_count": 7,
   "metadata": {},
   "outputs": [
    {
     "name": "stdout",
     "output_type": "stream",
     "text": [
      "The image index taken is: 7270\n"
     ]
    },
    {
     "data": {
      "image/png": "[encoded data removed]",
      "text/plain": [
       "<Figure size 432x288 with 1 Axes>"
      ]
     },
     "metadata": {
      "needs_background": "light"
     },
     "output_type": "display_data"
    }
   ],
   "source": [
    "# Grab the image, by index:\n",
    "img_idx = np.random.randint(low = 0, high = X_test.shape[0])\n",
    "print('The image index taken is: ' + str(img_idx))\n",
    "\n",
    "# Plot:\n",
    "plt.imshow(X_test[img_idx], cmap = matplotlib.cm.binary)\n",
    "plt.axis(\"off\")\n",
    "plt.show()"
   ]
  },
  {
   "cell_type": "code",
   "execution_count": 8,
   "metadata": {},
   "outputs": [
    {
     "data": {
      "image/png": "[encoded data removed]",
      "text/plain": [
       "<Figure size 432x288 with 10 Axes>"
      ]
     },
     "metadata": {
      "needs_background": "light"
     },
     "output_type": "display_data"
    }
   ],
   "source": [
    "# Plot 10 of the Digits:\n",
    "fig = plt.figure()\n",
    "\n",
    "for i in range(10):\n",
    "    img_idx = np.argwhere(y_test == i)[0]\n",
    "    plottable_image = np.reshape(X_test[img_idx], (28, 28))\n",
    "    ax = fig.add_subplot(2, 5, i+1)\n",
    "    ax.imshow(plottable_image, cmap = matplotlib.cm.binary)"
   ]
  },
  {
   "cell_type": "markdown",
   "metadata": {},
   "source": [
    "## 3 - Dataset Preprocessing:\n",
    "\n",
    "Transform the images into the required column vectors to be used as the input for the Neural Network."
   ]
  },
  {
   "cell_type": "code",
   "execution_count": 9,
   "metadata": {},
   "outputs": [
    {
     "name": "stdout",
     "output_type": "stream",
     "text": [
      "Pixel values between 0 and 255\n"
     ]
    }
   ],
   "source": [
    "# Flatten the data into a single row of vectors:\n",
    "X_train, X_test = X_train.reshape(-1, 28 * 28), X_test.reshape(-1, 28 * 28)\n",
    "\n",
    "# Check out the Pixel Values:\n",
    "print(\"Pixel values between {} and {}\".format(X_train.min(), X_train.max()))"
   ]
  },
  {
   "cell_type": "code",
   "execution_count": 10,
   "metadata": {},
   "outputs": [
    {
     "name": "stdout",
     "output_type": "stream",
     "text": [
      "Normalized pixel values between 0.0 and 1.0\n"
     ]
    },
    {
     "data": {
      "text/plain": [
       "(60000, 784)"
      ]
     },
     "execution_count": 10,
     "metadata": {},
     "output_type": "execute_result"
    }
   ],
   "source": [
    "# Normalise the input data: scaling it between 0 and 1.\n",
    "X_train, X_test = X_train / 255., X_test / 255.\n",
    "print(\"Normalized pixel values between {} and {}\".format(X_train.min(), X_train.max()))\n",
    "\n",
    "# Inspect:\n",
    "X_train.shape"
   ]
  },
  {
   "cell_type": "code",
   "execution_count": 11,
   "metadata": {},
   "outputs": [
    {
     "data": {
      "text/plain": [
       "array([[0., 0., 0., ..., 0., 0., 0.],\n",
       "       [1., 0., 0., ..., 0., 0., 0.],\n",
       "       [0., 0., 0., ..., 0., 0., 0.],\n",
       "       ...,\n",
       "       [0., 0., 0., ..., 0., 0., 0.],\n",
       "       [0., 0., 0., ..., 0., 0., 0.],\n",
       "       [0., 0., 0., ..., 0., 1., 0.]])"
      ]
     },
     "execution_count": 11,
     "metadata": {},
     "output_type": "execute_result"
    }
   ],
   "source": [
    "# One-hot encode the labels:\n",
    "y_train = np.eye(nb_classes)[y_train]\n",
    "\n",
    "# Inpsect:\n",
    "y_train"
   ]
  },
  {
   "cell_type": "markdown",
   "metadata": {},
   "source": [
    "## 4 - Summary of the Training process:\n",
    "\n",
    "1. Select \"n\" amount of training images at a time (out of the whole training set) and input them to the network.\n",
    "2. Compute and backpropagate the loss. This is done by using chain rule to obtain the derivatives w.r.t the parameters of the layers.\n",
    "3. Update the parameters with the corresponding derivative(s) values that is scaled according to the learning rate.\n",
    "4. Repeat the steps 1 to 3 for the whole training set. Meaning the training is done in batches.\n",
    "5. Repeat the steps 1 to 4 until the network converges to a solution, or set a limited number of iterations (epochs)."
   ]
  },
  {
   "cell_type": "code",
   "execution_count": 12,
   "metadata": {},
   "outputs": [],
   "source": [
    "# Import the Classes from the \"NeuralNetwork_Utilities.py\" file:\n",
    "from NeuralNetwork_Utilities import *"
   ]
  },
  {
   "cell_type": "markdown",
   "metadata": {},
   "source": [
    "## 4.1 - Traing the Simple Network model on the dataset:\n",
    "\n",
    "Here, the SimpleNetwork will be instantiated as a network with 2 hidden layers. It will take an input of flattened images and ouput a 10 value vector that represents the prediction of which image belonging to each of the class. The higher the ouptut value, means that the stronger the network believes that the image belongs to that certain class."
   ]
  },
  {
   "cell_type": "code",
   "execution_count": 13,
   "metadata": {},
   "outputs": [],
   "source": [
    "# Instantiating the Network:\n",
    "mnist_classifier = SimpleNetwork(num_inputs = X_train.shape[1],\n",
    "                                 num_outputs = nb_classes,\n",
    "                                 hidden_layers_sizes = [64, 32])"
   ]
  },
  {
   "cell_type": "markdown",
   "metadata": {},
   "source": [
    "## 4.2 - Get a Baseline of the Un-trained model performance:\n",
    "\n",
    "Performance of the network can be found by calculating the loss over the training set and the accuracy reached over the test set."
   ]
  },
  {
   "cell_type": "code",
   "execution_count": 14,
   "metadata": {},
   "outputs": [
    {
     "name": "stdout",
     "output_type": "stream",
     "text": [
      "Untrained model performs with: training loss = 4.436700 | val accuracy = 12.19%\n"
     ]
    }
   ],
   "source": [
    "# Get the predictions the model made from the training set:\n",
    "predictions = mnist_classifier.forward(x = X_train)\n",
    "\n",
    "# Compute the loss of the un-trained model:\n",
    "loss_untrained = mnist_classifier.loss_func(pred = predictions,\n",
    "                                            target = y_train)\n",
    "\n",
    "# Compute the accuracy of the un-trained model:\n",
    "acc_untrained = mnist_classifier.evaluate_accuracy(X_val = X_test, \n",
    "                                                   y_val = y_test)\n",
    "\n",
    "# Print:\n",
    "print(\"Untrained model performs with: training loss = {:.6f} | val accuracy = {:.2f}%\".format(\n",
    "    loss_untrained, acc_untrained * 100))"
   ]
  },
  {
   "cell_type": "markdown",
   "metadata": {},
   "source": [
    "### 4.3 - Train the model and Validate it:"
   ]
  },
  {
   "cell_type": "code",
   "execution_count": 15,
   "metadata": {},
   "outputs": [],
   "source": [
    "import timeit"
   ]
  },
  {
   "cell_type": "code",
   "execution_count": 16,
   "metadata": {},
   "outputs": [],
   "source": [
    "# running time calculation\n",
    "start = timeit.default_timer()"
   ]
  },
  {
   "cell_type": "code",
   "execution_count": 17,
   "metadata": {},
   "outputs": [
    {
     "name": "stdout",
     "output_type": "stream",
     "text": [
      "Epoch    0: training loss = 1.097069 | val accuracy = 19.10%\n",
      "Epoch   20: training loss = 0.252957 | val accuracy = 84.89%\n",
      "Epoch   40: training loss = 0.177532 | val accuracy = 88.92%\n",
      "Epoch   60: training loss = 0.146596 | val accuracy = 90.49%\n",
      "Epoch   80: training loss = 0.128074 | val accuracy = 91.28%\n",
      "Epoch  100: training loss = 0.114770 | val accuracy = 92.01%\n",
      "Epoch  120: training loss = 0.104587 | val accuracy = 92.40%\n",
      "Epoch  140: training loss = 0.096668 | val accuracy = 92.76%\n",
      "Epoch  160: training loss = 0.090181 | val accuracy = 93.06%\n",
      "Epoch  180: training loss = 0.084636 | val accuracy = 93.21%\n",
      "Epoch  200: training loss = 0.079825 | val accuracy = 93.46%\n",
      "Epoch  220: training loss = 0.075630 | val accuracy = 93.66%\n",
      "Epoch  240: training loss = 0.071947 | val accuracy = 93.72%\n",
      "Epoch  260: training loss = 0.068686 | val accuracy = 93.94%\n",
      "Epoch  280: training loss = 0.065801 | val accuracy = 94.12%\n",
      "Epoch  300: training loss = 0.063199 | val accuracy = 94.27%\n",
      "Epoch  320: training loss = 0.060837 | val accuracy = 94.40%\n",
      "Epoch  340: training loss = 0.058655 | val accuracy = 94.46%\n",
      "Epoch  360: training loss = 0.056627 | val accuracy = 94.51%\n",
      "Epoch  380: training loss = 0.054750 | val accuracy = 94.49%\n",
      "Epoch  400: training loss = 0.052999 | val accuracy = 94.53%\n",
      "Epoch  420: training loss = 0.051358 | val accuracy = 94.51%\n",
      "Epoch  440: training loss = 0.049840 | val accuracy = 94.60%\n",
      "Epoch  460: training loss = 0.048435 | val accuracy = 94.69%\n",
      "Epoch  480: training loss = 0.047127 | val accuracy = 94.74%\n",
      "Epoch  499: training loss = 0.045962 | val accuracy = 94.79%\n"
     ]
    }
   ],
   "source": [
    "losses, accuracies = mnist_classifier.train(X_train = X_train, \n",
    "                                            y_train = y_train, \n",
    "                                            X_val = X_test, \n",
    "                                            y_val = y_test, \n",
    "                                            batch_size = 32, \n",
    "                                            nb_epochs = 500, \n",
    "                                            learning_rate = 0.001, \n",
    "                                            print_frequency = 20)"
   ]
  },
  {
   "cell_type": "code",
   "execution_count": 18,
   "metadata": {},
   "outputs": [
    {
     "name": "stdout",
     "output_type": "stream",
     "text": [
      "Time: 9.463166666666666 minutes\n"
     ]
    }
   ],
   "source": [
    "# running time check:\n",
    "stop = timeit.default_timer()\n",
    "print('Time: {} minutes'.format(round(stop - start, 2)/60))"
   ]
  },
  {
   "cell_type": "code",
   "execution_count": 19,
   "metadata": {},
   "outputs": [
    {
     "name": "stdout",
     "output_type": "stream",
     "text": [
      "The highest accuracy score found was: 94.8%\n"
     ]
    }
   ],
   "source": [
    "max_acc = accuracies[np.argmax(accuracies)]\n",
    "print(\"The highest accuracy score found was: {}%\".format(round(max_acc, 4) * 100))"
   ]
  },
  {
   "cell_type": "markdown",
   "metadata": {},
   "source": [
    "### Observation:\n",
    "\n",
    "The training completed relatively quickly as it is only running on the CPU. The highest accuracy achieved was 94.76% and this represents excellent performance.\n",
    "\n",
    "## 4.4 - Plot the Lossess and Accuracies over the training epochs:"
   ]
  },
  {
   "cell_type": "code",
   "execution_count": 20,
   "metadata": {},
   "outputs": [
    {
     "data": {
      "image/png": "[encoded data removed]",
      "text/plain": [
       "<Figure size 432x288 with 2 Axes>"
      ]
     },
     "metadata": {
      "needs_background": "light"
     },
     "output_type": "display_data"
    }
   ],
   "source": [
    "losses, accuracies = [loss_untrained] + losses, [acc_untrained] + accuracies\n",
    "fig, ax_loss = plt.subplots()\n",
    "\n",
    "# Instantiate the FIRST axes:\n",
    "color = 'red'\n",
    "ax_loss.set_xlim([0, 510])\n",
    "ax_loss.set_xlabel('Epochs')\n",
    "ax_loss.set_ylabel('Training Loss', color=color)\n",
    "ax_loss.plot(losses, color=color)\n",
    "ax_loss.tick_params(axis='y', labelcolor=color)\n",
    "\n",
    "# Instantiate a SECOND axes that shares the same x-axis\n",
    "ax_acc = ax_loss.twinx()  \n",
    "color = 'blue'\n",
    "ax_acc.set_xlim([0, 510])\n",
    "ax_acc.set_ylim([0, 1])\n",
    "ax_acc.set_ylabel('Val Accuracy', color=color)\n",
    "ax_acc.plot(accuracies, color=color)\n",
    "ax_acc.tick_params(axis='y', labelcolor=color)\n",
    "\n",
    "fig.tight_layout()\n",
    "plt.show()"
   ]
  },
  {
   "cell_type": "markdown",
   "metadata": {},
   "source": [
    "### Observation:\n",
    "\n",
    "The network's convergence is very quick and proceeded to increase its accuracy at a slower pace until reaching the end of 500 epochs of training. Judging from the curve of the line, it can be seen that a more accurate model can be obtained by increasing the number of training epochs. \n",
    "\n",
    "## 4.5 - Longer training times:\n",
    "\n",
    "Let's find out if a higher accuracy can be reached by increasing the number of epochs. The new model will be called \"mnist_classifier_LTT\" where LTT stands for Longer Training Times. The number of epochs will be set to 1,000."
   ]
  },
  {
   "cell_type": "code",
   "execution_count": 21,
   "metadata": {},
   "outputs": [],
   "source": [
    "# Instantiating the Network:\n",
    "mnist_classifier_LTT = SimpleNetwork(num_inputs = X_train.shape[1],\n",
    "                                 num_outputs = nb_classes,\n",
    "                                 hidden_layers_sizes = [64, 32])"
   ]
  },
  {
   "cell_type": "code",
   "execution_count": 22,
   "metadata": {},
   "outputs": [],
   "source": [
    "# running time calculation\n",
    "start = timeit.default_timer()"
   ]
  },
  {
   "cell_type": "code",
   "execution_count": 23,
   "metadata": {},
   "outputs": [
    {
     "name": "stdout",
     "output_type": "stream",
     "text": [
      "Epoch    0: training loss = 1.140538 | val accuracy = 31.13%\n",
      "Epoch   20: training loss = 0.237928 | val accuracy = 85.37%\n",
      "Epoch   40: training loss = 0.172657 | val accuracy = 88.90%\n",
      "Epoch   60: training loss = 0.143387 | val accuracy = 90.41%\n",
      "Epoch   80: training loss = 0.125376 | val accuracy = 91.26%\n",
      "Epoch  100: training loss = 0.112804 | val accuracy = 91.81%\n",
      "Epoch  120: training loss = 0.103321 | val accuracy = 92.27%\n",
      "Epoch  140: training loss = 0.095931 | val accuracy = 92.79%\n",
      "Epoch  160: training loss = 0.089873 | val accuracy = 93.03%\n",
      "Epoch  180: training loss = 0.084708 | val accuracy = 93.28%\n",
      "Epoch  200: training loss = 0.080205 | val accuracy = 93.47%\n",
      "Epoch  220: training loss = 0.076245 | val accuracy = 93.60%\n",
      "Epoch  240: training loss = 0.072734 | val accuracy = 93.70%\n",
      "Epoch  260: training loss = 0.069607 | val accuracy = 93.87%\n",
      "Epoch  280: training loss = 0.066776 | val accuracy = 93.94%\n",
      "Epoch  300: training loss = 0.064199 | val accuracy = 94.03%\n",
      "Epoch  320: training loss = 0.061848 | val accuracy = 94.15%\n",
      "Epoch  340: training loss = 0.059676 | val accuracy = 94.16%\n",
      "Epoch  360: training loss = 0.057640 | val accuracy = 94.22%\n",
      "Epoch  380: training loss = 0.055742 | val accuracy = 94.28%\n",
      "Epoch  400: training loss = 0.053976 | val accuracy = 94.28%\n",
      "Epoch  420: training loss = 0.052324 | val accuracy = 94.34%\n",
      "Epoch  440: training loss = 0.050790 | val accuracy = 94.35%\n",
      "Epoch  460: training loss = 0.049365 | val accuracy = 94.42%\n",
      "Epoch  480: training loss = 0.048029 | val accuracy = 94.52%\n",
      "Epoch  500: training loss = 0.046769 | val accuracy = 94.53%\n",
      "Epoch  520: training loss = 0.045587 | val accuracy = 94.58%\n",
      "Epoch  540: training loss = 0.044473 | val accuracy = 94.62%\n",
      "Epoch  560: training loss = 0.043411 | val accuracy = 94.62%\n",
      "Epoch  580: training loss = 0.042397 | val accuracy = 94.69%\n",
      "Epoch  600: training loss = 0.041446 | val accuracy = 94.74%\n",
      "Epoch  620: training loss = 0.040554 | val accuracy = 94.79%\n",
      "Epoch  640: training loss = 0.039710 | val accuracy = 94.86%\n",
      "Epoch  660: training loss = 0.038905 | val accuracy = 94.88%\n",
      "Epoch  680: training loss = 0.038138 | val accuracy = 94.87%\n",
      "Epoch  700: training loss = 0.037407 | val accuracy = 94.85%\n",
      "Epoch  720: training loss = 0.036701 | val accuracy = 94.83%\n",
      "Epoch  740: training loss = 0.036032 | val accuracy = 94.83%\n",
      "Epoch  760: training loss = 0.035406 | val accuracy = 94.81%\n",
      "Epoch  780: training loss = 0.034809 | val accuracy = 94.81%\n",
      "Epoch  800: training loss = 0.034234 | val accuracy = 94.80%\n",
      "Epoch  820: training loss = 0.033678 | val accuracy = 94.82%\n",
      "Epoch  840: training loss = 0.033140 | val accuracy = 94.83%\n",
      "Epoch  860: training loss = 0.032614 | val accuracy = 94.85%\n",
      "Epoch  880: training loss = 0.032097 | val accuracy = 94.89%\n",
      "Epoch  900: training loss = 0.031596 | val accuracy = 94.93%\n",
      "Epoch  920: training loss = 0.031118 | val accuracy = 94.97%\n",
      "Epoch  940: training loss = 0.030655 | val accuracy = 94.95%\n",
      "Epoch  960: training loss = 0.030208 | val accuracy = 94.99%\n",
      "Epoch  980: training loss = 0.029777 | val accuracy = 95.01%\n",
      "Epoch  999: training loss = 0.029393 | val accuracy = 95.00%\n"
     ]
    }
   ],
   "source": [
    "losses, accuracies = mnist_classifier_LTT.train(X_train = X_train, \n",
    "                                            y_train = y_train, \n",
    "                                            X_val = X_test, \n",
    "                                            y_val = y_test, \n",
    "                                            batch_size = 32, \n",
    "                                            nb_epochs = 1000, \n",
    "                                            learning_rate = 0.001, \n",
    "                                            print_frequency = 20)"
   ]
  },
  {
   "cell_type": "code",
   "execution_count": 24,
   "metadata": {},
   "outputs": [
    {
     "name": "stdout",
     "output_type": "stream",
     "text": [
      "Time: 18.85983333333333 minutes\n"
     ]
    }
   ],
   "source": [
    "# running time check:\n",
    "stop = timeit.default_timer()\n",
    "print('Time: {} minutes'.format(round(stop - start, 2)/60))"
   ]
  },
  {
   "cell_type": "code",
   "execution_count": 25,
   "metadata": {},
   "outputs": [
    {
     "name": "stdout",
     "output_type": "stream",
     "text": [
      "The highest accuracy score found was: 95.02000000000001%\n"
     ]
    }
   ],
   "source": [
    "max_acc = accuracies[np.argmax(accuracies)]\n",
    "print(\"The highest accuracy score found was: {}%\".format(round(max_acc, 4) * 100))"
   ]
  },
  {
   "cell_type": "markdown",
   "metadata": {},
   "source": [
    "### Observation:\n",
    "\n",
    "## 4.6 - Increasing the number of hidden layers:\n",
    "\n",
    "Here, the number of hidden layers will be reconfigured to [128, 64, 32]. The new model will be called \"mnist_classifier_MHL\" where MHL stands for More Hidden Layers."
   ]
  },
  {
   "cell_type": "code",
   "execution_count": 26,
   "metadata": {},
   "outputs": [],
   "source": [
    "# Instantiating the Network:\n",
    "mnist_classifier_MHL = SimpleNetwork(num_inputs = X_train.shape[1],\n",
    "                                 num_outputs = nb_classes,\n",
    "                                 hidden_layers_sizes = [128, 64, 32])"
   ]
  },
  {
   "cell_type": "code",
   "execution_count": 27,
   "metadata": {},
   "outputs": [],
   "source": [
    "# running time calculation\n",
    "start = timeit.default_timer()"
   ]
  },
  {
   "cell_type": "code",
   "execution_count": 28,
   "metadata": {},
   "outputs": [
    {
     "name": "stdout",
     "output_type": "stream",
     "text": [
      "Epoch    0: training loss = 0.923148 | val accuracy = 25.81%\n",
      "Epoch   20: training loss = 0.315040 | val accuracy = 78.51%\n",
      "Epoch   40: training loss = 0.174521 | val accuracy = 89.29%\n",
      "Epoch   60: training loss = 0.130832 | val accuracy = 91.33%\n",
      "Epoch   80: training loss = 0.109665 | val accuracy = 92.39%\n",
      "Epoch  100: training loss = 0.095735 | val accuracy = 92.89%\n",
      "Epoch  120: training loss = 0.085585 | val accuracy = 93.31%\n",
      "Epoch  140: training loss = 0.077788 | val accuracy = 93.58%\n",
      "Epoch  160: training loss = 0.071434 | val accuracy = 93.72%\n",
      "Epoch  180: training loss = 0.066097 | val accuracy = 93.91%\n",
      "Epoch  200: training loss = 0.061558 | val accuracy = 93.94%\n",
      "Epoch  220: training loss = 0.057687 | val accuracy = 94.10%\n",
      "Epoch  240: training loss = 0.054337 | val accuracy = 94.15%\n",
      "Epoch  260: training loss = 0.051382 | val accuracy = 94.19%\n",
      "Epoch  280: training loss = 0.048716 | val accuracy = 94.22%\n",
      "Epoch  300: training loss = 0.046286 | val accuracy = 94.29%\n",
      "Epoch  320: training loss = 0.044067 | val accuracy = 94.25%\n",
      "Epoch  340: training loss = 0.042039 | val accuracy = 94.26%\n",
      "Epoch  360: training loss = 0.040180 | val accuracy = 94.29%\n",
      "Epoch  380: training loss = 0.038443 | val accuracy = 94.37%\n",
      "Epoch  400: training loss = 0.036825 | val accuracy = 94.46%\n",
      "Epoch  420: training loss = 0.035374 | val accuracy = 94.46%\n",
      "Epoch  440: training loss = 0.034062 | val accuracy = 94.47%\n",
      "Epoch  460: training loss = 0.032850 | val accuracy = 94.51%\n",
      "Epoch  480: training loss = 0.031706 | val accuracy = 94.53%\n",
      "Epoch  499: training loss = 0.030689 | val accuracy = 94.50%\n"
     ]
    }
   ],
   "source": [
    "losses, accuracies = mnist_classifier_MHL.train(X_train = X_train, \n",
    "                                            y_train = y_train, \n",
    "                                            X_val = X_test, \n",
    "                                            y_val = y_test, \n",
    "                                            batch_size = 32, \n",
    "                                            nb_epochs = 500, \n",
    "                                            learning_rate = 0.001, \n",
    "                                            print_frequency = 20)"
   ]
  },
  {
   "cell_type": "code",
   "execution_count": 29,
   "metadata": {},
   "outputs": [
    {
     "name": "stdout",
     "output_type": "stream",
     "text": [
      "Time: 16.95116666666667 minutes\n"
     ]
    }
   ],
   "source": [
    "# running time check\n",
    "stop = timeit.default_timer()\n",
    "print('Time: {} minutes'.format(round(stop - start, 2)/60))"
   ]
  },
  {
   "cell_type": "code",
   "execution_count": 30,
   "metadata": {},
   "outputs": [
    {
     "name": "stdout",
     "output_type": "stream",
     "text": [
      "The highest accuracy score found was: 94.55%\n"
     ]
    }
   ],
   "source": [
    "max_acc = accuracies[np.argmax(accuracies)]\n",
    "print(\"The highest accuracy score found was: {}%\".format(round(max_acc, 4) * 100))"
   ]
  },
  {
   "cell_type": "markdown",
   "metadata": {},
   "source": [
    "### Observation:\n",
    "\n",
    "Here, the model was experimented with more hidden layers. The idea was to have more nodes to capture the features of the dataset, but it would seem like more hidden layers and nodes does not increase the accuracy of the mode.\n",
    "\n",
    "Further testing can be conducted by listing out the hyperparameters (layer sizes, learning rate, batch sizes and activation functions) and run the model through them. The model with the greatest score would be chosen. Other thoughts and considerations would be the amount of compute time that would be required if the model complexity increases. In these cases, it would be better to utilise a simpler model if the increases in model performance is not great enough to justify the model complexity. \n",
    "\n",
    "## 5 - Summary:\n",
    "\n",
    "This project ventures into building a neural network from scratch and I am able to appreciate its framework and how it works. I was able to learn and further develop my current understanding in neural networks, where more specifically, the Object oriented programming side of the network itself. Further explorations can consist of experimenting with the hyperparameters, like layer sizes, learning rate, batch sizes and activation functions, to tune the model to perfrom much better. "
   ]
  }
 ],
 "metadata": {
  "kernelspec": {
   "display_name": "Python 3",
   "language": "python",
   "name": "python3"
  },
  "language_info": {
   "codemirror_mode": {
    "name": "ipython",
    "version": 3
   },
   "file_extension": ".py",
   "mimetype": "text/x-python",
   "name": "python",
   "nbconvert_exporter": "python",
   "pygments_lexer": "ipython3",
   "version": "3.7.7"
  }
 },
 "nbformat": 4,
 "nbformat_minor": 4
}
