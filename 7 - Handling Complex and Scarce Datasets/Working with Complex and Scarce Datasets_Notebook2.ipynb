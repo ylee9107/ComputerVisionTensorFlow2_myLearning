{
 "cells": [
  {
   "cell_type": "markdown",
   "metadata": {},
   "source": [
    "# Working with Complex and Scrace Datasets [Notebook 2]\n",
    "\n",
    "## Introduction\n",
    "\n",
    "When it comes to deep learning applications and its development, it is certain that Data is the most essential component of the process. By and of itself, the training data should flow into the networks unobstructed. It should contain meaningful and impactful information for the network/model. Prior to entering the network, the dataset should be prepared by various transformations and such. \n",
    "\n",
    "Today, datasets can be obtained from several complex structures or that are stored on heterogenous devices, this inherently also increases the complexity in its handling as well. While this assumes that the data is readily avaible, on the other hand, there cases where the relevant training data (images or annotations) can be unavailable or scarce. \n",
    "\n",
    "This project will venture into dealing with these kinds of cases where it also explores the framework that is available with TensorFlow to set up optimised data pipelines (tf.data API).\n",
    "\n",
    "\n",
    "## Breakdown of this Project:\n",
    "- Building efficient input pipelines with \"tf.data\" for extracting and processing data samples of all kinds. (Notebook 1 & 2)\n",
    "- Augment and render images to help compensate for scarcity of training data. (Notebook 3 & 4)\n",
    "- Different types of Doamin Adaptation methods and how it helps to train more robust models. (Notebook 5 & 6)\n",
    "- Create or generate novel images with generative models such as Variational AutoEncoders (VAEs) and Generative Adversarial Networks (GANs). (Notebook 7 & 8)\n",
    "\n",
    "## Requirements:\n",
    "1. Vispy\n",
    "2. Tensorflow 2.++\n",
    "3. Numpy\n",
    "4. OS\n",
    "\n",
    "## Dataset:\n",
    "\n",
    "The dataset can be obtain from the link: http://www.laurencemoroney.com/rock-paper-scissors-dataset/ or from https://www.tensorflow.org/datasets/catalog/rock_paper_scissors\n",
    "\n",
    "Rock Paper Scissors is a dataset containing 2,892 images of different types of hands in Rock/Paper/Scissors poses that were 3D-rendered. Each of these images are 300×300 pixels in 24-bit colour."
   ]
  },
  {
   "cell_type": "code",
   "execution_count": 1,
   "metadata": {},
   "outputs": [],
   "source": [
    "import os\n",
    "import tensorflow as tf\n",
    "import numpy as np\n",
    "\n",
    "# Run on GPU:\n",
    "os.environ[\"CUDA_VISIBLE_DEVICES\"]= \"0\" \n",
    "\n",
    "# Set the random set seed number: for reproducibility.\n",
    "Seed_nb = 42\n",
    "\n",
    "# Set to run or not run the code block: for code examples only. (0 = run code, and 1 = dont run code)\n",
    "dont_run = 0"
   ]
  },
  {
   "cell_type": "markdown",
   "metadata": {},
   "source": [
    "## 1 - Generating and Parsing TFRecords:\n",
    "\n",
    "As part of building an efficient input pipelines from the previous notebook. This notebook (2) will venture into __TFRecords__ where it is a format to persist datasets with TensorFlow. \n",
    "\n",
    "## 1.1 - Reminder of the ETL process:\n",
    "\n",
    "##### The following diagram below demonstrates the overall ETL process for computer vision tasks:\n",
    "\n",
    "<img src=\"Description Images/ETL_ComputerVision.png\" width=\"750\">\n",
    "\n",
    "Image Ref -> self-made.\n",
    "\n",
    "## 1.2 - About TFRecords: Transform by Parsing TFRecord Files\n",
    "\n",
    "Recalling back from the previous notebook: A more efficient way of inputting the data into the pipeline would be using the \"TFRecord\" file format, where it will store large number of images together into a binary file and make them directly accessible for read-from-disk operations. This is because the process of iterating through the image files, by the methods mentioned in the above section, are inefficient. \n",
    "\n",
    "In more detail, TFRecord files are binary files where it will aggregate the data samples such as labels, images, and metadata. It can be serialised with a \"tf.train.Example\" instance, where it is a dictionaries that names each of the data elements (features). For example:\n",
    "- {'img'; image1, 'label': label_1, ...}\n",
    "\n",
    "Each of these element or feature that a sample contains would be an instance of \"tf.train.Feature\" or of its subclasses. These types of objects will be stored as lists of bytes, floats or integers.\n",
    "To utilise TFRecord files as part of the input pipelines, the record/data can be passed with:\n",
    "- tf.data.TFRecordDataset(filename)\n",
    "\n",
    "More examples can be found in the lin: https://www.tensorflow.org/api_docs/python/tf/data/TFRecordDataset."
   ]
  },
  {
   "cell_type": "markdown",
   "metadata": {},
   "source": [
    "## 2 - Writing TFRecords:\n",
    "\n",
    "From the above section, it was mentioned that TFRecords files can be stored as one binary archive with the complete dataset for training, where in doing so, it can be efficiently be reused and iterated over. The following will demonstrate the use of \"tf.data\" and \"tf.train\" APIs to process a chosen dataset into a TFRecord file.\n",
    "\n",
    "### 2.1 - Preparing the Dataset:\n",
    "\n",
    "Here, the chosen dataset will be the __Rock-Paper-Scissors__ dataset from \"tensorflow-datasets\"."
   ]
  },
  {
   "cell_type": "code",
   "execution_count": 2,
   "metadata": {},
   "outputs": [],
   "source": [
    "# Import the required library:\n",
    "import tensorflow_datasets as tfds"
   ]
  },
  {
   "cell_type": "code",
   "execution_count": 3,
   "metadata": {},
   "outputs": [
    {
     "name": "stdout",
     "output_type": "stream",
     "text": [
      "tfds.core.DatasetInfo(\n",
      "    name='rock_paper_scissors',\n",
      "    version=3.0.0,\n",
      "    description='Images of hands playing rock, paper, scissor game.',\n",
      "    homepage='http://laurencemoroney.com/rock-paper-scissors-dataset',\n",
      "    features=FeaturesDict({\n",
      "        'image': Image(shape=(300, 300, 3), dtype=tf.uint8),\n",
      "        'label': ClassLabel(shape=(), dtype=tf.int64, num_classes=3),\n",
      "    }),\n",
      "    total_num_examples=2892,\n",
      "    splits={\n",
      "        'test': 372,\n",
      "        'train': 2520,\n",
      "    },\n",
      "    supervised_keys=('image', 'label'),\n",
      "    citation=\"\"\"@ONLINE {rps,\n",
      "    author = \"Laurence Moroney\",\n",
      "    title = \"Rock, Paper, Scissors Dataset\",\n",
      "    month = \"feb\",\n",
      "    year = \"2019\",\n",
      "    url = \"http://laurencemoroney.com/rock-paper-scissors-dataset\"\n",
      "    }\"\"\",\n",
      "    redistribution_info=,\n",
      ")\n",
      "\n"
     ]
    }
   ],
   "source": [
    "# Load in the Dataset:\n",
    "hands_builder = tfds.builder(name=\"rock_paper_scissors\")\n",
    "hands_builder.download_and_prepare()\n",
    "\n",
    "# After the download, print out some information on the dataset:\n",
    "print(hands_builder.info)"
   ]
  },
  {
   "cell_type": "markdown",
   "metadata": {},
   "source": [
    "With the dataset downloaded, next is to instantiate it so that it can be process and later be converted to TFRecords."
   ]
  },
  {
   "cell_type": "code",
   "execution_count": 4,
   "metadata": {},
   "outputs": [],
   "source": [
    "# Instantiate the dataset:\n",
    "hands_dataset = hands_builder.as_dataset(split=tfds.Split.TEST)"
   ]
  },
  {
   "cell_type": "markdown",
   "metadata": {},
   "source": [
    "#### Assumption:\n",
    "\n",
    "Here, the assumption is that this dataset will be prepared for the training purposes for several different models. These will classify the lower-quality rock/paper/scissors images (images are of 64 x 64 pixels). The goal is then to prepare a TFRecord file containing all of the image data of the lower pixel images. This also means that there will be some resizing beforehand.\n",
    "\n",
    "### 2.2 - Resize the Images: from 300 x 300 pixels to 64 x 64 pixels."
   ]
  },
  {
   "cell_type": "code",
   "execution_count": 5,
   "metadata": {},
   "outputs": [],
   "source": [
    "# Define the desired image size: \n",
    "input_size = (64, 64)"
   ]
  },
  {
   "cell_type": "code",
   "execution_count": 8,
   "metadata": {},
   "outputs": [],
   "source": [
    "# Define a function to resize the dataset images:\n",
    "def prepareAndResize_sample(sample):\n",
    "    \"\"\" This function will resize the dataset images to the specified size.\n",
    "    Parameters:\n",
    "        - sample, are the image samples to be converted.\n",
    "    Returns:\n",
    "        - returns the Resized dataset images.\n",
    "    \"\"\"\n",
    "    # Resize:\n",
    "    sample['image'] = tf.image.resize(images=sample['image'], size=input_size)\n",
    "    \n",
    "    # Since the above returns float values, these will have to be re-cast to uint8:\n",
    "    sample['image'] = tf.cast(x=sample['image'], dtype=tf.uint8)\n",
    "    \n",
    "    return sample"
   ]
  },
  {
   "cell_type": "code",
   "execution_count": 9,
   "metadata": {},
   "outputs": [
    {
     "name": "stdout",
     "output_type": "stream",
     "text": [
      "<MapDataset shapes: {image: (64, 64, 3), label: ()}, types: {image: tf.uint8, label: tf.int64}>\n"
     ]
    }
   ],
   "source": [
    "# Apply the function for resizing:\n",
    "hands_dataset = hands_dataset.map(prepareAndResize_sample)\n",
    "\n",
    "# Print:\n",
    "print(hands_dataset)"
   ]
  },
  {
   "cell_type": "markdown",
   "metadata": {},
   "source": [
    "### 2.3 - Optimise the Input Pipeline:\n",
    "\n",
    "By manually setting the experimental optimisation options to improve the pipeline performance."
   ]
  },
  {
   "cell_type": "code",
   "execution_count": 10,
   "metadata": {},
   "outputs": [],
   "source": [
    "# Enable Prefetching:\n",
    "hands_dataset = hands_dataset.prefetch(1)\n",
    "\n",
    "# Enable Optimisation Options:\n",
    "options = tf.data.Options()\n",
    "\n",
    "options.experimental_optimization.map_fusion = True\n",
    "options.experimental_optimization.map_parallelization = True\n",
    "options.experimental_optimization.noop_elimination = True\n",
    "options.experimental_optimization.apply_default_optimizations = True\n",
    "options.experimental_optimization.autotune = True\n",
    "\n",
    "# Implement the dataset with the options:\n",
    "hands_dataset = hands_dataset.with_options(options)"
   ]
  },
  {
   "cell_type": "markdown",
   "metadata": {},
   "source": [
    "Now that some optimisations enabled and implemented, the next stage is to visualise the dataset.\n",
    "\n",
    "### 2.4 - Visualise the Dataset:"
   ]
  },
  {
   "cell_type": "code",
   "execution_count": 11,
   "metadata": {},
   "outputs": [],
   "source": [
    "# Import the required libraries:\n",
    "from plotting_utilities import plot_images_inGrid"
   ]
  },
  {
   "cell_type": "code",
   "execution_count": 12,
   "metadata": {},
   "outputs": [
    {
     "name": "stdout",
     "output_type": "stream",
     "text": [
      "Image labels: ['rock' 'paper' 'rock' 'scissors' 'scissors' 'rock']\n"
     ]
    },
    {
     "name": "stderr",
     "output_type": "stream",
     "text": [
      "D:\\anaconda3\\envs\\Py37Work\\lib\\site-packages\\ipykernel_launcher.py:13: UserWarning: Matplotlib is currently using module://ipykernel.pylab.backend_inline, which is a non-GUI backend, so cannot show the figure.\n",
      "  del sys.path[0]\n"
     ]
    },
    {
     "data": {
      "image/png": "[encoded data removed]",
      "text/plain": [
       "<Figure size 2160x360 with 6 Axes>"
      ]
     },
     "metadata": {},
     "output_type": "display_data"
    }
   ],
   "source": [
    "# Set the number of images to show:\n",
    "nb_show = 6\n",
    "\n",
    "# Define the class labels:\n",
    "class_labels = np.asarray(a= hands_builder.info.features[\"label\"].names)\n",
    "\n",
    "# Create an iterable batch object of the images:\n",
    "hands_dataset_iter = hands_dataset.batch(nb_show).skip(1).__iter__()\n",
    "batch = next(hands_dataset_iter)\n",
    "\n",
    "# Plot:\n",
    "figure = plot_images_inGrid(images=[batch['image'].numpy()], transpose=True)\n",
    "figure.show()\n",
    "\n",
    "print(\"Image labels: {}\".format(class_labels[batch['label'].numpy()]))"
   ]
  },
  {
   "cell_type": "code",
   "execution_count": null,
   "metadata": {},
   "outputs": [],
   "source": []
  },
  {
   "cell_type": "code",
   "execution_count": null,
   "metadata": {},
   "outputs": [],
   "source": []
  },
  {
   "cell_type": "code",
   "execution_count": null,
   "metadata": {},
   "outputs": [],
   "source": []
  },
  {
   "cell_type": "code",
   "execution_count": null,
   "metadata": {},
   "outputs": [],
   "source": []
  },
  {
   "cell_type": "code",
   "execution_count": null,
   "metadata": {},
   "outputs": [],
   "source": []
  },
  {
   "cell_type": "code",
   "execution_count": null,
   "metadata": {},
   "outputs": [],
   "source": []
  },
  {
   "cell_type": "code",
   "execution_count": null,
   "metadata": {},
   "outputs": [],
   "source": []
  },
  {
   "cell_type": "code",
   "execution_count": null,
   "metadata": {},
   "outputs": [],
   "source": [
    "break"
   ]
  },
  {
   "cell_type": "code",
   "execution_count": null,
   "metadata": {},
   "outputs": [],
   "source": [
    "<img src=\"Description Images/.png\" width=\"750\">\n",
    "\n",
    "Image Ref -> "
   ]
  }
 ],
 "metadata": {
  "kernelspec": {
   "display_name": "Python 3",
   "language": "python",
   "name": "python3"
  },
  "language_info": {
   "codemirror_mode": {
    "name": "ipython",
    "version": 3
   },
   "file_extension": ".py",
   "mimetype": "text/x-python",
   "name": "python",
   "nbconvert_exporter": "python",
   "pygments_lexer": "ipython3",
   "version": "3.7.7"
  }
 },
 "nbformat": 4,
 "nbformat_minor": 4
}
